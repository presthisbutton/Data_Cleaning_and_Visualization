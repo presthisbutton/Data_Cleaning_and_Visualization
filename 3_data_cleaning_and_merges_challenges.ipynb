{
 "cells": [
  {
   "cell_type": "markdown",
   "id": "afebdd73",
   "metadata": {
    "id": "afebdd73"
   },
   "source": [
    "# Data cleaning and merging dataframes"
   ]
  },
  {
   "cell_type": "markdown",
   "id": "10831a57",
   "metadata": {
    "id": "10831a57"
   },
   "source": [
    "## Loading multiple datasets"
   ]
  },
  {
   "cell_type": "markdown",
   "id": "Bev8_XC7I8_y",
   "metadata": {
    "id": "Bev8_XC7I8_y"
   },
   "source": [
    "### Google way"
   ]
  },
  {
   "cell_type": "code",
   "execution_count": 1213,
   "id": "3d3c85d7-9a9e-43d3-ba3d-8e2c29da6033",
   "metadata": {},
   "outputs": [],
   "source": [
    "import warnings; \n",
    "warnings.simplefilter('ignore')"
   ]
  },
  {
   "cell_type": "code",
   "execution_count": 1214,
   "id": "Eg50QKeNJB3C",
   "metadata": {
    "id": "Eg50QKeNJB3C"
   },
   "outputs": [],
   "source": [
    "import pandas as pd\n",
    "\n",
    "# orderlines.csv\n",
    "url = 'https://drive.google.com/file/d/14Y7g5ITyf6LMyPoKc9wr010V9StaCUux/view?usp=sharing' \n",
    "path = 'https://drive.google.com/uc?export=download&id='+url.split('/')[-2]\n",
    "orderlines = pd.read_csv(path)\n",
    "\n",
    "# orders.csv\n",
    "url = 'https://drive.google.com/file/d/1BLEHcP-9fm9Rv7A01H3co2XBMnSr66YC/view?usp=sharing' \n",
    "path = 'https://drive.google.com/uc?export=download&id='+url.split('/')[-2]\n",
    "orders = pd.read_csv(path)\n",
    "\n",
    "# brands.csv\n",
    "url = 'https://drive.google.com/file/d/1BrNrIY0F1LbyXtyaQygUBXVxQGB3JBqx/view?usp=sharing' \n",
    "path = 'https://drive.google.com/uc?export=download&id='+url.split('/')[-2]\n",
    "brands = pd.read_csv(path)\n",
    "\n",
    "# products.csv\n",
    "url = 'https://drive.google.com/file/d/1UfsHI80cpQqGfsH2g4T4Tsw8cWayOfzC/view?usp=sharing' \n",
    "path = 'https://drive.google.com/uc?export=download&id='+url.split('/')[-2]\n",
    "products = pd.read_csv(path)\n",
    "\n",
    "df_list = [orderlines, orders, brands, products]\n",
    "files = ['orderlines','orders','brands','products']"
   ]
  },
  {
   "cell_type": "markdown",
   "id": "af2ae15c",
   "metadata": {
    "id": "af2ae15c"
   },
   "source": [
    "### Classical way\n",
    "\n",
    "Reading file by file"
   ]
  },
  {
   "cell_type": "code",
   "execution_count": 1215,
   "id": "6f39fa3b",
   "metadata": {
    "id": "6f39fa3b"
   },
   "outputs": [],
   "source": [
    "# import pandas as pd\n",
    "\n",
    "# path = '../data/eniac/'\n",
    "# orderlines = pd.read_csv(path + 'orderlines.csv')\n",
    "# orders = pd.read_csv(path + 'orders.csv')\n",
    "# brands = pd.read_csv(path + 'brands.csv')\n",
    "# products = pd.read_csv(path + 'products.csv')\n",
    "\n",
    "# df_list = [orderlines, orders, brands, products]\n",
    "# files = ['orderlines','orders','brands','products']"
   ]
  },
  {
   "cell_type": "markdown",
   "id": "202915d7",
   "metadata": {
    "id": "202915d7"
   },
   "source": [
    "### Another way\n",
    "\n",
    "Using `os` and a loop to read all the files from a directory. It's also possible to read only files with a certain extension (like `.csv`):"
   ]
  },
  {
   "cell_type": "code",
   "execution_count": 1216,
   "id": "62853aa0",
   "metadata": {
    "id": "62853aa0"
   },
   "outputs": [],
   "source": [
    "# import pandas as pd\n",
    "# import os\n",
    "# path = '../data/eniac/'\n",
    "# path, dirs, files = next(os.walk(path))\n",
    "# #print(files)\n",
    "\n",
    "# # remove non-csv files\n",
    "# for file in files:\n",
    "#     if not file.endswith(\"csv\"):\n",
    "#         files.remove(file)"
   ]
  },
  {
   "cell_type": "code",
   "execution_count": 1217,
   "id": "04654b58",
   "metadata": {
    "id": "04654b58"
   },
   "outputs": [],
   "source": [
    "# # create empty list \n",
    "# df_list = []\n",
    "\n",
    "# # append datasets to the list\n",
    "# for file in files:\n",
    "#     temp_df = pd.read_csv(path + file, sep=',')\n",
    "#     df_list.append(temp_df)\n",
    "\n",
    "# # show results\n",
    "# products, orders, orderlines, brands = df_list[0], df_list[1], df_list[2], df_list[3]"
   ]
  },
  {
   "cell_type": "markdown",
   "id": "971f5ca3",
   "metadata": {
    "id": "971f5ca3"
   },
   "source": [
    "## Data quality\n",
    "\n",
    "### Missing values"
   ]
  },
  {
   "cell_type": "code",
   "execution_count": 1218,
   "id": "VSYV0ywvkWqu",
   "metadata": {
    "id": "VSYV0ywvkWqu"
   },
   "outputs": [
    {
     "data": {
      "text/plain": [
       "id                  0\n",
       "id_order            0\n",
       "product_id          0\n",
       "product_quantity    0\n",
       "sku                 0\n",
       "unit_price          0\n",
       "date                0\n",
       "dtype: int64"
      ]
     },
     "execution_count": 1218,
     "metadata": {},
     "output_type": "execute_result"
    }
   ],
   "source": [
    "# we can check missing values column\n",
    "orderlines.isna().sum()"
   ]
  },
  {
   "cell_type": "code",
   "execution_count": 1219,
   "id": "emrx9cV7kETk",
   "metadata": {
    "id": "emrx9cV7kETk"
   },
   "outputs": [
    {
     "data": {
      "text/plain": [
       "0"
      ]
     },
     "execution_count": 1219,
     "metadata": {},
     "output_type": "execute_result"
    }
   ],
   "source": [
    "# or for the whole dataframe\n",
    "orderlines.isna().sum().sum()"
   ]
  },
  {
   "cell_type": "code",
   "execution_count": 1220,
   "id": "Eu2RC-YPi1k6",
   "metadata": {
    "id": "Eu2RC-YPi1k6"
   },
   "outputs": [
    {
     "name": "stdout",
     "output_type": "stream",
     "text": [
      "<class 'pandas.core.frame.DataFrame'>\n",
      "RangeIndex: 293983 entries, 0 to 293982\n",
      "Data columns (total 7 columns):\n",
      " #   Column            Non-Null Count   Dtype \n",
      "---  ------            --------------   ----- \n",
      " 0   id                293983 non-null  int64 \n",
      " 1   id_order          293983 non-null  int64 \n",
      " 2   product_id        293983 non-null  int64 \n",
      " 3   product_quantity  293983 non-null  int64 \n",
      " 4   sku               293983 non-null  object\n",
      " 5   unit_price        293983 non-null  object\n",
      " 6   date              293983 non-null  object\n",
      "dtypes: int64(4), object(3)\n",
      "memory usage: 15.7+ MB\n"
     ]
    }
   ],
   "source": [
    "# the .info() method also tells us the \"Non-Null Count\" for each column\n",
    "orderlines.info()"
   ]
  },
  {
   "cell_type": "code",
   "execution_count": 1221,
   "id": "JEMbzoIrjGjD",
   "metadata": {
    "id": "JEMbzoIrjGjD"
   },
   "outputs": [
    {
     "name": "stdout",
     "output_type": "stream",
     "text": [
      "<class 'pandas.core.frame.DataFrame'>\n",
      "RangeIndex: 226909 entries, 0 to 226908\n",
      "Data columns (total 4 columns):\n",
      " #   Column        Non-Null Count   Dtype  \n",
      "---  ------        --------------   -----  \n",
      " 0   order_id      226909 non-null  int64  \n",
      " 1   created_date  226909 non-null  object \n",
      " 2   total_paid    226904 non-null  float64\n",
      " 3   state         226909 non-null  object \n",
      "dtypes: float64(1), int64(1), object(2)\n",
      "memory usage: 6.9+ MB\n"
     ]
    }
   ],
   "source": [
    "orders.info()"
   ]
  },
  {
   "cell_type": "code",
   "execution_count": 1222,
   "id": "iIYc1FiNjJfT",
   "metadata": {
    "id": "iIYc1FiNjJfT"
   },
   "outputs": [
    {
     "name": "stdout",
     "output_type": "stream",
     "text": [
      "<class 'pandas.core.frame.DataFrame'>\n",
      "RangeIndex: 187 entries, 0 to 186\n",
      "Data columns (total 2 columns):\n",
      " #   Column  Non-Null Count  Dtype \n",
      "---  ------  --------------  ----- \n",
      " 0   short   187 non-null    object\n",
      " 1   long    187 non-null    object\n",
      "dtypes: object(2)\n",
      "memory usage: 3.0+ KB\n"
     ]
    }
   ],
   "source": [
    "brands.info()"
   ]
  },
  {
   "cell_type": "code",
   "execution_count": 1223,
   "id": "CL8XtHq6jLRM",
   "metadata": {
    "id": "CL8XtHq6jLRM"
   },
   "outputs": [
    {
     "name": "stdout",
     "output_type": "stream",
     "text": [
      "<class 'pandas.core.frame.DataFrame'>\n",
      "RangeIndex: 19326 entries, 0 to 19325\n",
      "Data columns (total 7 columns):\n",
      " #   Column       Non-Null Count  Dtype \n",
      "---  ------       --------------  ----- \n",
      " 0   sku          19326 non-null  object\n",
      " 1   name         19326 non-null  object\n",
      " 2   desc         19319 non-null  object\n",
      " 3   price        19280 non-null  object\n",
      " 4   promo_price  19326 non-null  object\n",
      " 5   in_stock     19326 non-null  int64 \n",
      " 6   type         19276 non-null  object\n",
      "dtypes: int64(1), object(6)\n",
      "memory usage: 1.0+ MB\n"
     ]
    }
   ],
   "source": [
    "products.info()"
   ]
  },
  {
   "cell_type": "markdown",
   "id": "3fda10bd",
   "metadata": {
    "id": "3fda10bd"
   },
   "source": [
    "### Duplicates\n",
    "\n",
    "The presence of duplicate rows is generally a sign that the data is not clean, and will deserve further exploration."
   ]
  },
  {
   "cell_type": "code",
   "execution_count": 1224,
   "id": "WTOZeTUtjkWm",
   "metadata": {
    "id": "WTOZeTUtjkWm"
   },
   "outputs": [
    {
     "data": {
      "text/plain": [
       "0"
      ]
     },
     "execution_count": 1224,
     "metadata": {},
     "output_type": "execute_result"
    }
   ],
   "source": [
    "orderlines.duplicated().sum()"
   ]
  },
  {
   "cell_type": "code",
   "execution_count": 1225,
   "id": "CcUGyTajjpdu",
   "metadata": {
    "id": "CcUGyTajjpdu"
   },
   "outputs": [
    {
     "data": {
      "text/plain": [
       "0"
      ]
     },
     "execution_count": 1225,
     "metadata": {},
     "output_type": "execute_result"
    }
   ],
   "source": [
    "orders.duplicated().sum()"
   ]
  },
  {
   "cell_type": "code",
   "execution_count": 1226,
   "id": "whXHDGl1jsjH",
   "metadata": {
    "id": "whXHDGl1jsjH"
   },
   "outputs": [
    {
     "data": {
      "text/plain": [
       "0"
      ]
     },
     "execution_count": 1226,
     "metadata": {},
     "output_type": "execute_result"
    }
   ],
   "source": [
    "brands.duplicated().sum()"
   ]
  },
  {
   "cell_type": "code",
   "execution_count": 1227,
   "id": "K7Cpgeu9jvm8",
   "metadata": {
    "id": "K7Cpgeu9jvm8"
   },
   "outputs": [
    {
     "data": {
      "text/plain": [
       "8746"
      ]
     },
     "execution_count": 1227,
     "metadata": {},
     "output_type": "execute_result"
    }
   ],
   "source": [
    "products.duplicated().sum()"
   ]
  },
  {
   "cell_type": "markdown",
   "id": "bae86fb5",
   "metadata": {
    "id": "bae86fb5"
   },
   "source": [
    "### Data cleanliness - initial assessment"
   ]
  },
  {
   "cell_type": "markdown",
   "id": "89a0e311",
   "metadata": {
    "id": "89a0e311"
   },
   "source": [
    "Based on our initial exploration, we know we will need to deal with some missing values. The biggest issue so far are the duplicates on the `products` DataFrame. Here are some aspects that we will need to fix or, at least, explore further:\n",
    "\n",
    "* **products**: \n",
    "    * `price` and `promo_price` are loaded as objects. They should be floats. \n",
    "    * Missing values: \n",
    "        * `description`: 7 missing values. Maybe that could be inferred from the product name?\n",
    "        * `price`: the missing values could be filled from the `orderlines` dataset. But first we will need to clean it. \n",
    "    * Duplicates: a total of 8746 duplicates seems to indicate this DataFrame has been seriously corrupted.\n",
    "    \n",
    "* **orders**: \n",
    "    * `created_date` should have a date data type. Then, it would be a good quality check to see if the created date for `orders` mathces with the created dates for `orderlines`. \n",
    "    \n",
    "* **orderlines**: \n",
    "    * `unit_price` has to be a float, something is wrong there. \n",
    "    * `date` has to be transformed to a date data type. Then, as we said, check that it with matches with the `orders` dataset. \n",
    "    \n",
    "* **brands**: looks fine. \n",
    "\n",
    "Where do we have to start? \n",
    "\n",
    "1. **Data consistency:** Since `orders` and `orderlines` seem very crucial to the analysis, we will start by cleaning them and checking that the information present in both DataFrames match.\n",
    "\n",
    "2. **The \"products mess\":** This file seems to have many issues. We will leave it out for now and perform a proper exploration later to understand better what's going on there."
   ]
  },
  {
   "cell_type": "markdown",
   "id": "b1acf29c",
   "metadata": {
    "id": "b1acf29c"
   },
   "source": [
    "## Cleaning orders"
   ]
  },
  {
   "cell_type": "markdown",
   "id": "02df9b51",
   "metadata": {
    "id": "02df9b51"
   },
   "source": [
    "The data consistency check we will do with `orderlines` will involve two steps: \n",
    "\n",
    "* the initial and last dates of the orders should be the same\n",
    "* the sum of `total_paid` on both datasets should be the same\n",
    "\n",
    "Let's start by transforming the `created_date` of the orders DataFrame and looking for its earliest and latest values:"
   ]
  },
  {
   "cell_type": "code",
   "execution_count": 1228,
   "id": "0273f61a",
   "metadata": {
    "id": "0273f61a"
   },
   "outputs": [],
   "source": [
    "# change date datatype\n",
    "orders['created_date'] = pd.to_datetime(orders['created_date'])"
   ]
  },
  {
   "cell_type": "code",
   "execution_count": 1229,
   "id": "27f0383c",
   "metadata": {
    "id": "27f0383c"
   },
   "outputs": [
    {
     "data": {
      "text/plain": [
       "Timestamp('2017-01-01 00:07:19')"
      ]
     },
     "execution_count": 1229,
     "metadata": {},
     "output_type": "execute_result"
    }
   ],
   "source": [
    "# earliest value\n",
    "min(orders['created_date'])"
   ]
  },
  {
   "cell_type": "code",
   "execution_count": 1230,
   "id": "5eb7bbd1",
   "metadata": {
    "id": "5eb7bbd1"
   },
   "outputs": [
    {
     "data": {
      "text/plain": [
       "Timestamp('2018-03-14 13:58:36')"
      ]
     },
     "execution_count": 1230,
     "metadata": {},
     "output_type": "execute_result"
    }
   ],
   "source": [
    "# latest value\n",
    "max(orders['created_date'])"
   ]
  },
  {
   "cell_type": "markdown",
   "id": "F6pOv2PQWboH",
   "metadata": {
    "id": "F6pOv2PQWboH"
   },
   "source": [
    "Now we will look at the overall sum of `total_paid` for the orders table:"
   ]
  },
  {
   "cell_type": "code",
   "execution_count": 1231,
   "id": "ba857c3c",
   "metadata": {
    "id": "ba857c3c"
   },
   "outputs": [
    {
     "data": {
      "text/plain": [
       "nan"
      ]
     },
     "execution_count": 1231,
     "metadata": {},
     "output_type": "execute_result"
    }
   ],
   "source": [
    "sum(orders['total_paid'])"
   ]
  },
  {
   "cell_type": "markdown",
   "id": "6c10d77a",
   "metadata": {
    "id": "6c10d77a"
   },
   "source": [
    "Why do you think the result of the sum is a nan (not a number)?"
   ]
  },
  {
   "cell_type": "code",
   "execution_count": 1232,
   "id": "cfd8f549",
   "metadata": {
    "id": "cfd8f549"
   },
   "outputs": [
    {
     "data": {
      "text/plain": [
       "5"
      ]
     },
     "execution_count": 1232,
     "metadata": {},
     "output_type": "execute_result"
    }
   ],
   "source": [
    "orders.total_paid.isna().sum()"
   ]
  },
  {
   "cell_type": "markdown",
   "id": "5ZpWv0uagUK-",
   "metadata": {
    "id": "5ZpWv0uagUK-"
   },
   "source": [
    "There are missing values! We can explore them and see how they are all \"Pending\" orders:"
   ]
  },
  {
   "cell_type": "code",
   "execution_count": 1233,
   "id": "ffbd6f9a",
   "metadata": {
    "id": "ffbd6f9a"
   },
   "outputs": [
    {
     "data": {
      "text/html": [
       "<div>\n",
       "<style scoped>\n",
       "    .dataframe tbody tr th:only-of-type {\n",
       "        vertical-align: middle;\n",
       "    }\n",
       "\n",
       "    .dataframe tbody tr th {\n",
       "        vertical-align: top;\n",
       "    }\n",
       "\n",
       "    .dataframe thead th {\n",
       "        text-align: right;\n",
       "    }\n",
       "</style>\n",
       "<table border=\"1\" class=\"dataframe\">\n",
       "  <thead>\n",
       "    <tr style=\"text-align: right;\">\n",
       "      <th></th>\n",
       "      <th>order_id</th>\n",
       "      <th>created_date</th>\n",
       "      <th>total_paid</th>\n",
       "      <th>state</th>\n",
       "    </tr>\n",
       "  </thead>\n",
       "  <tbody>\n",
       "    <tr>\n",
       "      <th>127701</th>\n",
       "      <td>427314</td>\n",
       "      <td>2017-11-20 18:54:39</td>\n",
       "      <td>NaN</td>\n",
       "      <td>Pending</td>\n",
       "    </tr>\n",
       "    <tr>\n",
       "      <th>132013</th>\n",
       "      <td>431655</td>\n",
       "      <td>2017-11-22 12:15:24</td>\n",
       "      <td>NaN</td>\n",
       "      <td>Pending</td>\n",
       "    </tr>\n",
       "    <tr>\n",
       "      <th>147316</th>\n",
       "      <td>447411</td>\n",
       "      <td>2017-11-27 10:32:37</td>\n",
       "      <td>NaN</td>\n",
       "      <td>Pending</td>\n",
       "    </tr>\n",
       "    <tr>\n",
       "      <th>148833</th>\n",
       "      <td>448966</td>\n",
       "      <td>2017-11-27 18:54:15</td>\n",
       "      <td>NaN</td>\n",
       "      <td>Pending</td>\n",
       "    </tr>\n",
       "    <tr>\n",
       "      <th>149434</th>\n",
       "      <td>449596</td>\n",
       "      <td>2017-11-27 21:52:08</td>\n",
       "      <td>NaN</td>\n",
       "      <td>Pending</td>\n",
       "    </tr>\n",
       "  </tbody>\n",
       "</table>\n",
       "</div>"
      ],
      "text/plain": [
       "        order_id        created_date  total_paid    state\n",
       "127701    427314 2017-11-20 18:54:39         NaN  Pending\n",
       "132013    431655 2017-11-22 12:15:24         NaN  Pending\n",
       "147316    447411 2017-11-27 10:32:37         NaN  Pending\n",
       "148833    448966 2017-11-27 18:54:15         NaN  Pending\n",
       "149434    449596 2017-11-27 21:52:08         NaN  Pending"
      ]
     },
     "execution_count": 1233,
     "metadata": {},
     "output_type": "execute_result"
    }
   ],
   "source": [
    "orders.loc[orders['total_paid'].isna()]"
   ]
  },
  {
   "cell_type": "markdown",
   "id": "c2b676c9",
   "metadata": {
    "id": "c2b676c9"
   },
   "source": [
    "Since these orders are only a tiny fraction and there's a valid reason why the `total_paid` value is missing, we will simply exclude them from the dataset:"
   ]
  },
  {
   "cell_type": "code",
   "execution_count": 1234,
   "id": "d7f5f92c",
   "metadata": {
    "id": "d7f5f92c"
   },
   "outputs": [],
   "source": [
    "orders.dropna(inplace=True)"
   ]
  },
  {
   "cell_type": "markdown",
   "id": "add0e9a1",
   "metadata": {
    "id": "add0e9a1"
   },
   "source": [
    "Now the dataset is clean. And the total paid is: "
   ]
  },
  {
   "cell_type": "code",
   "execution_count": 1235,
   "id": "c6c44bc6",
   "metadata": {
    "id": "c6c44bc6"
   },
   "outputs": [
    {
     "data": {
      "text/plain": [
       "129159615.07000001"
      ]
     },
     "execution_count": 1235,
     "metadata": {},
     "output_type": "execute_result"
    }
   ],
   "source": [
    "orders['total_paid'].sum()"
   ]
  },
  {
   "cell_type": "markdown",
   "id": "c06a2c99",
   "metadata": {
    "id": "c06a2c99"
   },
   "source": [
    "## Cleaning orderlines"
   ]
  },
  {
   "cell_type": "markdown",
   "id": "4c5d56af",
   "metadata": {
    "id": "4c5d56af"
   },
   "source": [
    "Following our data consistency check, will now gather in the orderlines DataFrame the same information we got from orders:\n",
    "\n",
    "* the initial and last dates\n",
    "* the sum of `total_paid`\n",
    "\n",
    "\n",
    "First let's transform our date time:"
   ]
  },
  {
   "cell_type": "code",
   "execution_count": 1236,
   "id": "91193c28",
   "metadata": {
    "id": "91193c28"
   },
   "outputs": [],
   "source": [
    "orderlines['date'] = pd.to_datetime(orderlines['date'])"
   ]
  },
  {
   "cell_type": "code",
   "execution_count": 1237,
   "id": "f0689fd6",
   "metadata": {
    "id": "f0689fd6"
   },
   "outputs": [
    {
     "data": {
      "text/plain": [
       "Timestamp('2017-01-01 00:07:19')"
      ]
     },
     "execution_count": 1237,
     "metadata": {},
     "output_type": "execute_result"
    }
   ],
   "source": [
    "min(orderlines['date'])\n",
    "# orders: Timestamp('2017-01-01 00:07:19')"
   ]
  },
  {
   "cell_type": "code",
   "execution_count": 1238,
   "id": "c68dcd64",
   "metadata": {
    "id": "c68dcd64"
   },
   "outputs": [
    {
     "data": {
      "text/plain": [
       "Timestamp('2018-03-14 13:58:36')"
      ]
     },
     "execution_count": 1238,
     "metadata": {},
     "output_type": "execute_result"
    }
   ],
   "source": [
    "max(orderlines['date'])\n",
    "# orders: Timestamp('2018-03-14 13:58:36')"
   ]
  },
  {
   "cell_type": "markdown",
   "id": "6963a0d5",
   "metadata": {
    "id": "6963a0d5"
   },
   "source": [
    "**It's a match!**\n",
    "\n",
    "Now let's check the `total_paid` for orderlines. It's not going to be as easy as with the orders DataFrame, considering the sturcture of orderlines:\n"
   ]
  },
  {
   "cell_type": "code",
   "execution_count": 1239,
   "id": "fXme7ToahfhG",
   "metadata": {
    "id": "fXme7ToahfhG"
   },
   "outputs": [
    {
     "data": {
      "text/html": [
       "<div>\n",
       "<style scoped>\n",
       "    .dataframe tbody tr th:only-of-type {\n",
       "        vertical-align: middle;\n",
       "    }\n",
       "\n",
       "    .dataframe tbody tr th {\n",
       "        vertical-align: top;\n",
       "    }\n",
       "\n",
       "    .dataframe thead th {\n",
       "        text-align: right;\n",
       "    }\n",
       "</style>\n",
       "<table border=\"1\" class=\"dataframe\">\n",
       "  <thead>\n",
       "    <tr style=\"text-align: right;\">\n",
       "      <th></th>\n",
       "      <th>id</th>\n",
       "      <th>id_order</th>\n",
       "      <th>product_id</th>\n",
       "      <th>product_quantity</th>\n",
       "      <th>sku</th>\n",
       "      <th>unit_price</th>\n",
       "      <th>date</th>\n",
       "    </tr>\n",
       "  </thead>\n",
       "  <tbody>\n",
       "    <tr>\n",
       "      <th>0</th>\n",
       "      <td>1119109</td>\n",
       "      <td>299539</td>\n",
       "      <td>0</td>\n",
       "      <td>1</td>\n",
       "      <td>OTT0133</td>\n",
       "      <td>18.99</td>\n",
       "      <td>2017-01-01 00:07:19</td>\n",
       "    </tr>\n",
       "    <tr>\n",
       "      <th>1</th>\n",
       "      <td>1119110</td>\n",
       "      <td>299540</td>\n",
       "      <td>0</td>\n",
       "      <td>1</td>\n",
       "      <td>LGE0043</td>\n",
       "      <td>399.00</td>\n",
       "      <td>2017-01-01 00:19:45</td>\n",
       "    </tr>\n",
       "    <tr>\n",
       "      <th>2</th>\n",
       "      <td>1119111</td>\n",
       "      <td>299541</td>\n",
       "      <td>0</td>\n",
       "      <td>1</td>\n",
       "      <td>PAR0071</td>\n",
       "      <td>474.05</td>\n",
       "      <td>2017-01-01 00:20:57</td>\n",
       "    </tr>\n",
       "  </tbody>\n",
       "</table>\n",
       "</div>"
      ],
      "text/plain": [
       "        id  id_order  product_id  product_quantity      sku unit_price  \\\n",
       "0  1119109    299539           0                 1  OTT0133      18.99   \n",
       "1  1119110    299540           0                 1  LGE0043     399.00   \n",
       "2  1119111    299541           0                 1  PAR0071     474.05   \n",
       "\n",
       "                 date  \n",
       "0 2017-01-01 00:07:19  \n",
       "1 2017-01-01 00:19:45  \n",
       "2 2017-01-01 00:20:57  "
      ]
     },
     "execution_count": 1239,
     "metadata": {},
     "output_type": "execute_result"
    }
   ],
   "source": [
    "orderlines.head(3)"
   ]
  },
  {
   "cell_type": "markdown",
   "id": "BpVdrIomhf9I",
   "metadata": {
    "id": "BpVdrIomhf9I"
   },
   "source": [
    "\n",
    "To get this value, we will have to calculate a new column, total price for each row. It would be `product_quantity` * `unit_price`. This operation will require that both columns have a numeric data type:"
   ]
  },
  {
   "cell_type": "code",
   "execution_count": 1240,
   "id": "fdSBibPwhwrb",
   "metadata": {
    "id": "fdSBibPwhwrb"
   },
   "outputs": [
    {
     "data": {
      "text/plain": [
       "id                           int64\n",
       "id_order                     int64\n",
       "product_id                   int64\n",
       "product_quantity             int64\n",
       "sku                         object\n",
       "unit_price                  object\n",
       "date                datetime64[ns]\n",
       "dtype: object"
      ]
     },
     "execution_count": 1240,
     "metadata": {},
     "output_type": "execute_result"
    }
   ],
   "source": [
    "orderlines.dtypes"
   ]
  },
  {
   "cell_type": "markdown",
   "id": "QouTH_FdhxeV",
   "metadata": {
    "id": "QouTH_FdhxeV"
   },
   "source": [
    "...it's not the case right now, so we will have to transform the `unit_price` to a numeric data type. "
   ]
  },
  {
   "cell_type": "code",
   "execution_count": 1241,
   "id": "229c76e3",
   "metadata": {
    "id": "229c76e3"
   },
   "outputs": [],
   "source": [
    "# uncomment the line of code below and read the error it produces:\n",
    "# orderlines['product_quantity'] * pd.to_numeric(orderlines['unit_price'])"
   ]
  },
  {
   "cell_type": "markdown",
   "id": "23ef0212",
   "metadata": {
    "id": "23ef0212"
   },
   "source": [
    "While trying to transform this column to numeric an error appears. From the error message, \n",
    "\n",
    "> \"Unable to parse string '1.137.99' at position 6\"\n",
    "\n",
    "it seems that our dataset has some problems with the thousands separators: they were encoded as dots, and Python & pandas only admit one dot per number: the _decimal_ separator!\n",
    "\n",
    "Lesson learned: do not use thousand separators in databases / statistical software / programming languages! Sadly, it's too late for us, and we will have to deal with the issue.\n",
    "\n",
    "There are many ways to approach this problem. The first thing we will do is to count how many dots appear for each `unit_price` value, using string operations. If there are two or more dots a value, we will consider it corrupted —and either try to fix it, or remove it completely."
   ]
  },
  {
   "cell_type": "code",
   "execution_count": 1242,
   "id": "42e6d20f",
   "metadata": {
    "id": "42e6d20f"
   },
   "outputs": [
    {
     "data": {
      "text/html": [
       "<div>\n",
       "<style scoped>\n",
       "    .dataframe tbody tr th:only-of-type {\n",
       "        vertical-align: middle;\n",
       "    }\n",
       "\n",
       "    .dataframe tbody tr th {\n",
       "        vertical-align: top;\n",
       "    }\n",
       "\n",
       "    .dataframe thead th {\n",
       "        text-align: right;\n",
       "    }\n",
       "</style>\n",
       "<table border=\"1\" class=\"dataframe\">\n",
       "  <thead>\n",
       "    <tr style=\"text-align: right;\">\n",
       "      <th></th>\n",
       "      <th>id</th>\n",
       "      <th>id_order</th>\n",
       "      <th>product_id</th>\n",
       "      <th>product_quantity</th>\n",
       "      <th>sku</th>\n",
       "      <th>unit_price</th>\n",
       "      <th>date</th>\n",
       "      <th>dots</th>\n",
       "    </tr>\n",
       "  </thead>\n",
       "  <tbody>\n",
       "    <tr>\n",
       "      <th>6</th>\n",
       "      <td>1119115</td>\n",
       "      <td>299544</td>\n",
       "      <td>0</td>\n",
       "      <td>1</td>\n",
       "      <td>APP1582</td>\n",
       "      <td>1.137.99</td>\n",
       "      <td>2017-01-01 01:17:21</td>\n",
       "      <td>2</td>\n",
       "    </tr>\n",
       "    <tr>\n",
       "      <th>11</th>\n",
       "      <td>1119126</td>\n",
       "      <td>299549</td>\n",
       "      <td>0</td>\n",
       "      <td>1</td>\n",
       "      <td>PAC0929</td>\n",
       "      <td>2.565.99</td>\n",
       "      <td>2017-01-01 02:07:42</td>\n",
       "      <td>2</td>\n",
       "    </tr>\n",
       "    <tr>\n",
       "      <th>15</th>\n",
       "      <td>1119131</td>\n",
       "      <td>299553</td>\n",
       "      <td>0</td>\n",
       "      <td>1</td>\n",
       "      <td>APP1854</td>\n",
       "      <td>3.278.99</td>\n",
       "      <td>2017-01-01 02:14:47</td>\n",
       "      <td>2</td>\n",
       "    </tr>\n",
       "    <tr>\n",
       "      <th>43</th>\n",
       "      <td>1119195</td>\n",
       "      <td>299582</td>\n",
       "      <td>0</td>\n",
       "      <td>1</td>\n",
       "      <td>PAC0961</td>\n",
       "      <td>2.616.99</td>\n",
       "      <td>2017-01-01 08:54:00</td>\n",
       "      <td>2</td>\n",
       "    </tr>\n",
       "    <tr>\n",
       "      <th>59</th>\n",
       "      <td>1119214</td>\n",
       "      <td>299596</td>\n",
       "      <td>0</td>\n",
       "      <td>1</td>\n",
       "      <td>PAC1599</td>\n",
       "      <td>2.873.99</td>\n",
       "      <td>2017-01-01 09:53:11</td>\n",
       "      <td>2</td>\n",
       "    </tr>\n",
       "    <tr>\n",
       "      <th>...</th>\n",
       "      <td>...</td>\n",
       "      <td>...</td>\n",
       "      <td>...</td>\n",
       "      <td>...</td>\n",
       "      <td>...</td>\n",
       "      <td>...</td>\n",
       "      <td>...</td>\n",
       "      <td>...</td>\n",
       "    </tr>\n",
       "    <tr>\n",
       "      <th>293862</th>\n",
       "      <td>1649999</td>\n",
       "      <td>452946</td>\n",
       "      <td>0</td>\n",
       "      <td>1</td>\n",
       "      <td>APP2075</td>\n",
       "      <td>2.999.00</td>\n",
       "      <td>2018-03-14 13:03:33</td>\n",
       "      <td>2</td>\n",
       "    </tr>\n",
       "    <tr>\n",
       "      <th>293887</th>\n",
       "      <td>1650045</td>\n",
       "      <td>527321</td>\n",
       "      <td>0</td>\n",
       "      <td>1</td>\n",
       "      <td>PAC2148</td>\n",
       "      <td>3.497.00</td>\n",
       "      <td>2018-03-14 13:10:15</td>\n",
       "      <td>2</td>\n",
       "    </tr>\n",
       "    <tr>\n",
       "      <th>293889</th>\n",
       "      <td>1650050</td>\n",
       "      <td>527324</td>\n",
       "      <td>0</td>\n",
       "      <td>1</td>\n",
       "      <td>PAC2117</td>\n",
       "      <td>3.075.00</td>\n",
       "      <td>2018-03-14 13:10:56</td>\n",
       "      <td>2</td>\n",
       "    </tr>\n",
       "    <tr>\n",
       "      <th>293911</th>\n",
       "      <td>1650088</td>\n",
       "      <td>527342</td>\n",
       "      <td>0</td>\n",
       "      <td>1</td>\n",
       "      <td>APP2492</td>\n",
       "      <td>1.329.00</td>\n",
       "      <td>2018-03-14 13:24:51</td>\n",
       "      <td>2</td>\n",
       "    </tr>\n",
       "    <tr>\n",
       "      <th>293936</th>\n",
       "      <td>1650135</td>\n",
       "      <td>527364</td>\n",
       "      <td>0</td>\n",
       "      <td>1</td>\n",
       "      <td>APP2491</td>\n",
       "      <td>1.329.00</td>\n",
       "      <td>2018-03-14 13:36:13</td>\n",
       "      <td>2</td>\n",
       "    </tr>\n",
       "  </tbody>\n",
       "</table>\n",
       "<p>36169 rows × 8 columns</p>\n",
       "</div>"
      ],
      "text/plain": [
       "             id  id_order  product_id  product_quantity      sku unit_price  \\\n",
       "6       1119115    299544           0                 1  APP1582   1.137.99   \n",
       "11      1119126    299549           0                 1  PAC0929   2.565.99   \n",
       "15      1119131    299553           0                 1  APP1854   3.278.99   \n",
       "43      1119195    299582           0                 1  PAC0961   2.616.99   \n",
       "59      1119214    299596           0                 1  PAC1599   2.873.99   \n",
       "...         ...       ...         ...               ...      ...        ...   \n",
       "293862  1649999    452946           0                 1  APP2075   2.999.00   \n",
       "293887  1650045    527321           0                 1  PAC2148   3.497.00   \n",
       "293889  1650050    527324           0                 1  PAC2117   3.075.00   \n",
       "293911  1650088    527342           0                 1  APP2492   1.329.00   \n",
       "293936  1650135    527364           0                 1  APP2491   1.329.00   \n",
       "\n",
       "                      date  dots  \n",
       "6      2017-01-01 01:17:21     2  \n",
       "11     2017-01-01 02:07:42     2  \n",
       "15     2017-01-01 02:14:47     2  \n",
       "43     2017-01-01 08:54:00     2  \n",
       "59     2017-01-01 09:53:11     2  \n",
       "...                    ...   ...  \n",
       "293862 2018-03-14 13:03:33     2  \n",
       "293887 2018-03-14 13:10:15     2  \n",
       "293889 2018-03-14 13:10:56     2  \n",
       "293911 2018-03-14 13:24:51     2  \n",
       "293936 2018-03-14 13:36:13     2  \n",
       "\n",
       "[36169 rows x 8 columns]"
      ]
     },
     "execution_count": 1242,
     "metadata": {},
     "output_type": "execute_result"
    }
   ],
   "source": [
    "# we create a copy of the dataset\n",
    "ol_temp = orderlines.copy()\n",
    "\n",
    "# create a new column with the amount of dots in the unit_price column\n",
    "ol_temp['dots'] = orderlines['unit_price'].str.count('\\.') # the backslash 'escapes' the special meaning of '.' in string operations\n",
    "\n",
    "# show the rows with more than one dot\n",
    "ol_temp.query('dots > 1')"
   ]
  },
  {
   "cell_type": "markdown",
   "id": "b8bda3c9",
   "metadata": {
    "id": "b8bda3c9"
   },
   "source": [
    "Our theory about the thousands separators is confirmed. How can we solve this problem? \n",
    "\n",
    "Let's remove all the dots for all the `unit_price`, and then add a dot before the last 2 digits to all the rows. Then we will transform it into numeric values.\n",
    "\n",
    "##### step 1: remove all dots\n",
    "a) A \"corrupted\" price like `1.137.99`\twill become `113799`\n",
    "\n",
    "b) A correct price like `37.99`\twill become `3799`\n",
    "\n",
    "##### step 2: add dots two digits before the end of the number\n",
    "a) The \"corrupted\" price will go from `113799` to `1137.99`\n",
    "\n",
    "b) The correct price will go from `3799` back to `37.99`."
   ]
  },
  {
   "cell_type": "code",
   "execution_count": 1243,
   "id": "7a1adac6",
   "metadata": {
    "id": "7a1adac6"
   },
   "outputs": [
    {
     "data": {
      "text/html": [
       "<div>\n",
       "<style scoped>\n",
       "    .dataframe tbody tr th:only-of-type {\n",
       "        vertical-align: middle;\n",
       "    }\n",
       "\n",
       "    .dataframe tbody tr th {\n",
       "        vertical-align: top;\n",
       "    }\n",
       "\n",
       "    .dataframe thead th {\n",
       "        text-align: right;\n",
       "    }\n",
       "</style>\n",
       "<table border=\"1\" class=\"dataframe\">\n",
       "  <thead>\n",
       "    <tr style=\"text-align: right;\">\n",
       "      <th></th>\n",
       "      <th>id</th>\n",
       "      <th>id_order</th>\n",
       "      <th>product_id</th>\n",
       "      <th>product_quantity</th>\n",
       "      <th>sku</th>\n",
       "      <th>unit_price</th>\n",
       "      <th>date</th>\n",
       "      <th>unit_price_nd</th>\n",
       "    </tr>\n",
       "  </thead>\n",
       "  <tbody>\n",
       "    <tr>\n",
       "      <th>0</th>\n",
       "      <td>1119109</td>\n",
       "      <td>299539</td>\n",
       "      <td>0</td>\n",
       "      <td>1</td>\n",
       "      <td>OTT0133</td>\n",
       "      <td>18.99</td>\n",
       "      <td>2017-01-01 00:07:19</td>\n",
       "      <td>1899</td>\n",
       "    </tr>\n",
       "    <tr>\n",
       "      <th>1</th>\n",
       "      <td>1119110</td>\n",
       "      <td>299540</td>\n",
       "      <td>0</td>\n",
       "      <td>1</td>\n",
       "      <td>LGE0043</td>\n",
       "      <td>399.00</td>\n",
       "      <td>2017-01-01 00:19:45</td>\n",
       "      <td>39900</td>\n",
       "    </tr>\n",
       "    <tr>\n",
       "      <th>2</th>\n",
       "      <td>1119111</td>\n",
       "      <td>299541</td>\n",
       "      <td>0</td>\n",
       "      <td>1</td>\n",
       "      <td>PAR0071</td>\n",
       "      <td>474.05</td>\n",
       "      <td>2017-01-01 00:20:57</td>\n",
       "      <td>47405</td>\n",
       "    </tr>\n",
       "    <tr>\n",
       "      <th>3</th>\n",
       "      <td>1119112</td>\n",
       "      <td>299542</td>\n",
       "      <td>0</td>\n",
       "      <td>1</td>\n",
       "      <td>WDT0315</td>\n",
       "      <td>68.39</td>\n",
       "      <td>2017-01-01 00:51:40</td>\n",
       "      <td>6839</td>\n",
       "    </tr>\n",
       "    <tr>\n",
       "      <th>4</th>\n",
       "      <td>1119113</td>\n",
       "      <td>299543</td>\n",
       "      <td>0</td>\n",
       "      <td>1</td>\n",
       "      <td>JBL0104</td>\n",
       "      <td>23.74</td>\n",
       "      <td>2017-01-01 01:06:38</td>\n",
       "      <td>2374</td>\n",
       "    </tr>\n",
       "  </tbody>\n",
       "</table>\n",
       "</div>"
      ],
      "text/plain": [
       "        id  id_order  product_id  product_quantity      sku unit_price  \\\n",
       "0  1119109    299539           0                 1  OTT0133      18.99   \n",
       "1  1119110    299540           0                 1  LGE0043     399.00   \n",
       "2  1119111    299541           0                 1  PAR0071     474.05   \n",
       "3  1119112    299542           0                 1  WDT0315      68.39   \n",
       "4  1119113    299543           0                 1  JBL0104      23.74   \n",
       "\n",
       "                 date unit_price_nd  \n",
       "0 2017-01-01 00:07:19          1899  \n",
       "1 2017-01-01 00:19:45         39900  \n",
       "2 2017-01-01 00:20:57         47405  \n",
       "3 2017-01-01 00:51:40          6839  \n",
       "4 2017-01-01 01:06:38          2374  "
      ]
     },
     "execution_count": 1243,
     "metadata": {},
     "output_type": "execute_result"
    }
   ],
   "source": [
    "# step 1: to remove the dots, we replace them for... nothing\n",
    "orderlines = orderlines.assign(unit_price_nd = orderlines['unit_price'].str.replace('\\.','', regex=True))\n",
    "orderlines.head()"
   ]
  },
  {
   "cell_type": "code",
   "execution_count": 1244,
   "id": "4e5d9bbc",
   "metadata": {
    "id": "4e5d9bbc"
   },
   "outputs": [
    {
     "data": {
      "text/html": [
       "<div>\n",
       "<style scoped>\n",
       "    .dataframe tbody tr th:only-of-type {\n",
       "        vertical-align: middle;\n",
       "    }\n",
       "\n",
       "    .dataframe tbody tr th {\n",
       "        vertical-align: top;\n",
       "    }\n",
       "\n",
       "    .dataframe thead th {\n",
       "        text-align: right;\n",
       "    }\n",
       "</style>\n",
       "<table border=\"1\" class=\"dataframe\">\n",
       "  <thead>\n",
       "    <tr style=\"text-align: right;\">\n",
       "      <th></th>\n",
       "      <th>id</th>\n",
       "      <th>id_order</th>\n",
       "      <th>product_id</th>\n",
       "      <th>product_quantity</th>\n",
       "      <th>sku</th>\n",
       "      <th>unit_price</th>\n",
       "      <th>date</th>\n",
       "      <th>unit_price_nd</th>\n",
       "      <th>integers</th>\n",
       "      <th>decimals</th>\n",
       "    </tr>\n",
       "  </thead>\n",
       "  <tbody>\n",
       "    <tr>\n",
       "      <th>0</th>\n",
       "      <td>1119109</td>\n",
       "      <td>299539</td>\n",
       "      <td>0</td>\n",
       "      <td>1</td>\n",
       "      <td>OTT0133</td>\n",
       "      <td>18.99</td>\n",
       "      <td>2017-01-01 00:07:19</td>\n",
       "      <td>1899</td>\n",
       "      <td>18</td>\n",
       "      <td>99</td>\n",
       "    </tr>\n",
       "    <tr>\n",
       "      <th>1</th>\n",
       "      <td>1119110</td>\n",
       "      <td>299540</td>\n",
       "      <td>0</td>\n",
       "      <td>1</td>\n",
       "      <td>LGE0043</td>\n",
       "      <td>399.00</td>\n",
       "      <td>2017-01-01 00:19:45</td>\n",
       "      <td>39900</td>\n",
       "      <td>399</td>\n",
       "      <td>00</td>\n",
       "    </tr>\n",
       "    <tr>\n",
       "      <th>2</th>\n",
       "      <td>1119111</td>\n",
       "      <td>299541</td>\n",
       "      <td>0</td>\n",
       "      <td>1</td>\n",
       "      <td>PAR0071</td>\n",
       "      <td>474.05</td>\n",
       "      <td>2017-01-01 00:20:57</td>\n",
       "      <td>47405</td>\n",
       "      <td>474</td>\n",
       "      <td>05</td>\n",
       "    </tr>\n",
       "    <tr>\n",
       "      <th>3</th>\n",
       "      <td>1119112</td>\n",
       "      <td>299542</td>\n",
       "      <td>0</td>\n",
       "      <td>1</td>\n",
       "      <td>WDT0315</td>\n",
       "      <td>68.39</td>\n",
       "      <td>2017-01-01 00:51:40</td>\n",
       "      <td>6839</td>\n",
       "      <td>68</td>\n",
       "      <td>39</td>\n",
       "    </tr>\n",
       "    <tr>\n",
       "      <th>4</th>\n",
       "      <td>1119113</td>\n",
       "      <td>299543</td>\n",
       "      <td>0</td>\n",
       "      <td>1</td>\n",
       "      <td>JBL0104</td>\n",
       "      <td>23.74</td>\n",
       "      <td>2017-01-01 01:06:38</td>\n",
       "      <td>2374</td>\n",
       "      <td>23</td>\n",
       "      <td>74</td>\n",
       "    </tr>\n",
       "  </tbody>\n",
       "</table>\n",
       "</div>"
      ],
      "text/plain": [
       "        id  id_order  product_id  product_quantity      sku unit_price  \\\n",
       "0  1119109    299539           0                 1  OTT0133      18.99   \n",
       "1  1119110    299540           0                 1  LGE0043     399.00   \n",
       "2  1119111    299541           0                 1  PAR0071     474.05   \n",
       "3  1119112    299542           0                 1  WDT0315      68.39   \n",
       "4  1119113    299543           0                 1  JBL0104      23.74   \n",
       "\n",
       "                 date unit_price_nd integers decimals  \n",
       "0 2017-01-01 00:07:19          1899       18       99  \n",
       "1 2017-01-01 00:19:45         39900      399       00  \n",
       "2 2017-01-01 00:20:57         47405      474       05  \n",
       "3 2017-01-01 00:51:40          6839       68       39  \n",
       "4 2017-01-01 01:06:38          2374       23       74  "
      ]
     },
     "execution_count": 1244,
     "metadata": {},
     "output_type": "execute_result"
    }
   ],
   "source": [
    "# step 2.1: we first separate all numbers between the part that goes before the\n",
    "# decimal point (integers) and the part that goes afterwards (deimals)\n",
    "orderlines['integers'] = orderlines['unit_price_nd'].str[:-2]\n",
    "orderlines['decimals'] = orderlines['unit_price_nd'].str[-2:]\n",
    "orderlines.head()"
   ]
  },
  {
   "cell_type": "code",
   "execution_count": 1245,
   "id": "420fc5ce",
   "metadata": {
    "id": "420fc5ce"
   },
   "outputs": [
    {
     "data": {
      "text/html": [
       "<div>\n",
       "<style scoped>\n",
       "    .dataframe tbody tr th:only-of-type {\n",
       "        vertical-align: middle;\n",
       "    }\n",
       "\n",
       "    .dataframe tbody tr th {\n",
       "        vertical-align: top;\n",
       "    }\n",
       "\n",
       "    .dataframe thead th {\n",
       "        text-align: right;\n",
       "    }\n",
       "</style>\n",
       "<table border=\"1\" class=\"dataframe\">\n",
       "  <thead>\n",
       "    <tr style=\"text-align: right;\">\n",
       "      <th></th>\n",
       "      <th>id</th>\n",
       "      <th>id_order</th>\n",
       "      <th>product_id</th>\n",
       "      <th>product_quantity</th>\n",
       "      <th>sku</th>\n",
       "      <th>unit_price</th>\n",
       "      <th>date</th>\n",
       "      <th>unit_price_nd</th>\n",
       "      <th>integers</th>\n",
       "      <th>decimals</th>\n",
       "      <th>new_unit_price</th>\n",
       "    </tr>\n",
       "  </thead>\n",
       "  <tbody>\n",
       "    <tr>\n",
       "      <th>0</th>\n",
       "      <td>1119109</td>\n",
       "      <td>299539</td>\n",
       "      <td>0</td>\n",
       "      <td>1</td>\n",
       "      <td>OTT0133</td>\n",
       "      <td>18.99</td>\n",
       "      <td>2017-01-01 00:07:19</td>\n",
       "      <td>1899</td>\n",
       "      <td>18</td>\n",
       "      <td>99</td>\n",
       "      <td>18.99</td>\n",
       "    </tr>\n",
       "    <tr>\n",
       "      <th>1</th>\n",
       "      <td>1119110</td>\n",
       "      <td>299540</td>\n",
       "      <td>0</td>\n",
       "      <td>1</td>\n",
       "      <td>LGE0043</td>\n",
       "      <td>399.00</td>\n",
       "      <td>2017-01-01 00:19:45</td>\n",
       "      <td>39900</td>\n",
       "      <td>399</td>\n",
       "      <td>00</td>\n",
       "      <td>399.00</td>\n",
       "    </tr>\n",
       "    <tr>\n",
       "      <th>2</th>\n",
       "      <td>1119111</td>\n",
       "      <td>299541</td>\n",
       "      <td>0</td>\n",
       "      <td>1</td>\n",
       "      <td>PAR0071</td>\n",
       "      <td>474.05</td>\n",
       "      <td>2017-01-01 00:20:57</td>\n",
       "      <td>47405</td>\n",
       "      <td>474</td>\n",
       "      <td>05</td>\n",
       "      <td>474.05</td>\n",
       "    </tr>\n",
       "    <tr>\n",
       "      <th>3</th>\n",
       "      <td>1119112</td>\n",
       "      <td>299542</td>\n",
       "      <td>0</td>\n",
       "      <td>1</td>\n",
       "      <td>WDT0315</td>\n",
       "      <td>68.39</td>\n",
       "      <td>2017-01-01 00:51:40</td>\n",
       "      <td>6839</td>\n",
       "      <td>68</td>\n",
       "      <td>39</td>\n",
       "      <td>68.39</td>\n",
       "    </tr>\n",
       "    <tr>\n",
       "      <th>4</th>\n",
       "      <td>1119113</td>\n",
       "      <td>299543</td>\n",
       "      <td>0</td>\n",
       "      <td>1</td>\n",
       "      <td>JBL0104</td>\n",
       "      <td>23.74</td>\n",
       "      <td>2017-01-01 01:06:38</td>\n",
       "      <td>2374</td>\n",
       "      <td>23</td>\n",
       "      <td>74</td>\n",
       "      <td>23.74</td>\n",
       "    </tr>\n",
       "  </tbody>\n",
       "</table>\n",
       "</div>"
      ],
      "text/plain": [
       "        id  id_order  product_id  product_quantity      sku unit_price  \\\n",
       "0  1119109    299539           0                 1  OTT0133      18.99   \n",
       "1  1119110    299540           0                 1  LGE0043     399.00   \n",
       "2  1119111    299541           0                 1  PAR0071     474.05   \n",
       "3  1119112    299542           0                 1  WDT0315      68.39   \n",
       "4  1119113    299543           0                 1  JBL0104      23.74   \n",
       "\n",
       "                 date unit_price_nd integers decimals new_unit_price  \n",
       "0 2017-01-01 00:07:19          1899       18       99          18.99  \n",
       "1 2017-01-01 00:19:45         39900      399       00         399.00  \n",
       "2 2017-01-01 00:20:57         47405      474       05         474.05  \n",
       "3 2017-01-01 00:51:40          6839       68       39          68.39  \n",
       "4 2017-01-01 01:06:38          2374       23       74          23.74  "
      ]
     },
     "execution_count": 1245,
     "metadata": {},
     "output_type": "execute_result"
    }
   ],
   "source": [
    "# step 2.2: we now concatenate those two parts of the number, with a dot in between\n",
    "orderlines['new_unit_price'] = orderlines['integers'] + '.' + orderlines['decimals']\n",
    "orderlines.head()"
   ]
  },
  {
   "cell_type": "markdown",
   "id": "MmYD-ku6mbn3",
   "metadata": {
    "id": "MmYD-ku6mbn3"
   },
   "source": [
    "We will now try again to convert this column to a numeric data type:"
   ]
  },
  {
   "cell_type": "code",
   "execution_count": 1246,
   "id": "0c0b744b",
   "metadata": {
    "id": "0c0b744b"
   },
   "outputs": [
    {
     "name": "stdout",
     "output_type": "stream",
     "text": [
      "<class 'pandas.core.frame.DataFrame'>\n",
      "RangeIndex: 293983 entries, 0 to 293982\n",
      "Data columns (total 11 columns):\n",
      " #   Column            Non-Null Count   Dtype         \n",
      "---  ------            --------------   -----         \n",
      " 0   id                293983 non-null  int64         \n",
      " 1   id_order          293983 non-null  int64         \n",
      " 2   product_id        293983 non-null  int64         \n",
      " 3   product_quantity  293983 non-null  int64         \n",
      " 4   sku               293983 non-null  object        \n",
      " 5   unit_price        293983 non-null  float64       \n",
      " 6   date              293983 non-null  datetime64[ns]\n",
      " 7   unit_price_nd     293983 non-null  object        \n",
      " 8   integers          293983 non-null  object        \n",
      " 9   decimals          293983 non-null  object        \n",
      " 10  new_unit_price    293983 non-null  object        \n",
      "dtypes: datetime64[ns](1), float64(1), int64(4), object(5)\n",
      "memory usage: 24.7+ MB\n"
     ]
    }
   ],
   "source": [
    "orderlines['unit_price'] = pd.to_numeric(orderlines['new_unit_price'])\n",
    "orderlines.info()"
   ]
  },
  {
   "cell_type": "markdown",
   "id": "0c795ffe",
   "metadata": {
    "id": "0c795ffe"
   },
   "source": [
    "Data cleaning done! \n",
    "\n",
    "Back to data consistency: Now it is time to multiply `product_quantity` and `unit price`, sum all the rows and check whether the value matches the sum of the `total_paid` from the orders DataFrame: "
   ]
  },
  {
   "cell_type": "code",
   "execution_count": 1247,
   "id": "e58357b3",
   "metadata": {
    "id": "e58357b3"
   },
   "outputs": [
    {
     "data": {
      "text/plain": [
       "128776222.0298095"
      ]
     },
     "execution_count": 1247,
     "metadata": {},
     "output_type": "execute_result"
    }
   ],
   "source": [
    "# drop 'auxiliary' columns\n",
    "orderlines.drop(['unit_price_nd','decimals','integers','new_unit_price'], axis=1, inplace=True)\n",
    "\n",
    "# create a new column \"total_price\" by multiplying product_quantity times unit_price\n",
    "orderlines['total_price'] = orderlines['product_quantity'] * orderlines['unit_price']\n",
    "\n",
    "# sum of the new column \"total_price\":\n",
    "sum(orderlines['total_price'])"
   ]
  },
  {
   "cell_type": "markdown",
   "id": "20xqjZAonlVW",
   "metadata": {
    "id": "20xqjZAonlVW"
   },
   "source": [
    "Sadly, it does not match exactly with the sum of `total_paid` from orders:"
   ]
  },
  {
   "cell_type": "code",
   "execution_count": 1248,
   "id": "VXsidsznncfP",
   "metadata": {
    "id": "VXsidsznncfP"
   },
   "outputs": [
    {
     "data": {
      "text/plain": [
       "129159615.07000001"
      ]
     },
     "execution_count": 1248,
     "metadata": {},
     "output_type": "execute_result"
    }
   ],
   "source": [
    "orders['total_paid'].sum()"
   ]
  },
  {
   "cell_type": "markdown",
   "id": "1FCcUyBPoIrI",
   "metadata": {
    "id": "1FCcUyBPoIrI"
   },
   "source": [
    "The mismatch is about 383 thousand dollars, a non-neglegible amount of money:"
   ]
  },
  {
   "cell_type": "code",
   "execution_count": 1249,
   "id": "hxOGFXoFoEUl",
   "metadata": {
    "id": "hxOGFXoFoEUl"
   },
   "outputs": [
    {
     "data": {
      "text/plain": [
       "-383393.040190503"
      ]
     },
     "execution_count": 1249,
     "metadata": {},
     "output_type": "execute_result"
    }
   ],
   "source": [
    "sum(orderlines['total_price']) - orders['total_paid'].sum()"
   ]
  },
  {
   "cell_type": "markdown",
   "id": "8656b2d4",
   "metadata": {
    "id": "8656b2d4"
   },
   "source": [
    "How can we figure out where does the difference come from? "
   ]
  },
  {
   "cell_type": "markdown",
   "id": "56559fb9",
   "metadata": {
    "id": "56559fb9"
   },
   "source": [
    "## Matching `orders` and `orderlines`\n",
    "\n",
    "It is possible that some orders exist in one dataset but not in the other one. This would be a potential source for this price mismatch. Let's find out!"
   ]
  },
  {
   "cell_type": "markdown",
   "id": "b8cd08f5",
   "metadata": {
    "id": "b8cd08f5"
   },
   "source": [
    "We first create a new column in the `orderlines` dataset using `assign`. We also use `isin()` to create a boolen value (True/False) that checks whether the `id_order` is present in the `orders` dataset:"
   ]
  },
  {
   "cell_type": "code",
   "execution_count": 1250,
   "id": "1df36725",
   "metadata": {
    "id": "1df36725"
   },
   "outputs": [
    {
     "data": {
      "text/html": [
       "<div>\n",
       "<style scoped>\n",
       "    .dataframe tbody tr th:only-of-type {\n",
       "        vertical-align: middle;\n",
       "    }\n",
       "\n",
       "    .dataframe tbody tr th {\n",
       "        vertical-align: top;\n",
       "    }\n",
       "\n",
       "    .dataframe thead th {\n",
       "        text-align: right;\n",
       "    }\n",
       "</style>\n",
       "<table border=\"1\" class=\"dataframe\">\n",
       "  <thead>\n",
       "    <tr style=\"text-align: right;\">\n",
       "      <th></th>\n",
       "      <th>id</th>\n",
       "      <th>id_order</th>\n",
       "      <th>product_id</th>\n",
       "      <th>product_quantity</th>\n",
       "      <th>sku</th>\n",
       "      <th>unit_price</th>\n",
       "      <th>date</th>\n",
       "      <th>total_price</th>\n",
       "      <th>check_orders</th>\n",
       "    </tr>\n",
       "  </thead>\n",
       "  <tbody>\n",
       "    <tr>\n",
       "      <th>0</th>\n",
       "      <td>1119109</td>\n",
       "      <td>299539</td>\n",
       "      <td>0</td>\n",
       "      <td>1</td>\n",
       "      <td>OTT0133</td>\n",
       "      <td>18.99</td>\n",
       "      <td>2017-01-01 00:07:19</td>\n",
       "      <td>18.99</td>\n",
       "      <td>True</td>\n",
       "    </tr>\n",
       "    <tr>\n",
       "      <th>1</th>\n",
       "      <td>1119110</td>\n",
       "      <td>299540</td>\n",
       "      <td>0</td>\n",
       "      <td>1</td>\n",
       "      <td>LGE0043</td>\n",
       "      <td>399.00</td>\n",
       "      <td>2017-01-01 00:19:45</td>\n",
       "      <td>399.00</td>\n",
       "      <td>True</td>\n",
       "    </tr>\n",
       "    <tr>\n",
       "      <th>2</th>\n",
       "      <td>1119111</td>\n",
       "      <td>299541</td>\n",
       "      <td>0</td>\n",
       "      <td>1</td>\n",
       "      <td>PAR0071</td>\n",
       "      <td>474.05</td>\n",
       "      <td>2017-01-01 00:20:57</td>\n",
       "      <td>474.05</td>\n",
       "      <td>True</td>\n",
       "    </tr>\n",
       "    <tr>\n",
       "      <th>3</th>\n",
       "      <td>1119112</td>\n",
       "      <td>299542</td>\n",
       "      <td>0</td>\n",
       "      <td>1</td>\n",
       "      <td>WDT0315</td>\n",
       "      <td>68.39</td>\n",
       "      <td>2017-01-01 00:51:40</td>\n",
       "      <td>68.39</td>\n",
       "      <td>True</td>\n",
       "    </tr>\n",
       "    <tr>\n",
       "      <th>4</th>\n",
       "      <td>1119113</td>\n",
       "      <td>299543</td>\n",
       "      <td>0</td>\n",
       "      <td>1</td>\n",
       "      <td>JBL0104</td>\n",
       "      <td>23.74</td>\n",
       "      <td>2017-01-01 01:06:38</td>\n",
       "      <td>23.74</td>\n",
       "      <td>True</td>\n",
       "    </tr>\n",
       "    <tr>\n",
       "      <th>...</th>\n",
       "      <td>...</td>\n",
       "      <td>...</td>\n",
       "      <td>...</td>\n",
       "      <td>...</td>\n",
       "      <td>...</td>\n",
       "      <td>...</td>\n",
       "      <td>...</td>\n",
       "      <td>...</td>\n",
       "      <td>...</td>\n",
       "    </tr>\n",
       "    <tr>\n",
       "      <th>293978</th>\n",
       "      <td>1650199</td>\n",
       "      <td>527398</td>\n",
       "      <td>0</td>\n",
       "      <td>1</td>\n",
       "      <td>JBL0122</td>\n",
       "      <td>42.99</td>\n",
       "      <td>2018-03-14 13:57:25</td>\n",
       "      <td>42.99</td>\n",
       "      <td>True</td>\n",
       "    </tr>\n",
       "    <tr>\n",
       "      <th>293979</th>\n",
       "      <td>1650200</td>\n",
       "      <td>527399</td>\n",
       "      <td>0</td>\n",
       "      <td>1</td>\n",
       "      <td>PAC0653</td>\n",
       "      <td>141.58</td>\n",
       "      <td>2018-03-14 13:57:34</td>\n",
       "      <td>141.58</td>\n",
       "      <td>True</td>\n",
       "    </tr>\n",
       "    <tr>\n",
       "      <th>293980</th>\n",
       "      <td>1650201</td>\n",
       "      <td>527400</td>\n",
       "      <td>0</td>\n",
       "      <td>2</td>\n",
       "      <td>APP0698</td>\n",
       "      <td>9.99</td>\n",
       "      <td>2018-03-14 13:57:41</td>\n",
       "      <td>19.98</td>\n",
       "      <td>True</td>\n",
       "    </tr>\n",
       "    <tr>\n",
       "      <th>293981</th>\n",
       "      <td>1650202</td>\n",
       "      <td>527388</td>\n",
       "      <td>0</td>\n",
       "      <td>1</td>\n",
       "      <td>BEZ0204</td>\n",
       "      <td>19.99</td>\n",
       "      <td>2018-03-14 13:58:01</td>\n",
       "      <td>19.99</td>\n",
       "      <td>True</td>\n",
       "    </tr>\n",
       "    <tr>\n",
       "      <th>293982</th>\n",
       "      <td>1650203</td>\n",
       "      <td>527401</td>\n",
       "      <td>0</td>\n",
       "      <td>1</td>\n",
       "      <td>APP0927</td>\n",
       "      <td>13.99</td>\n",
       "      <td>2018-03-14 13:58:36</td>\n",
       "      <td>13.99</td>\n",
       "      <td>True</td>\n",
       "    </tr>\n",
       "  </tbody>\n",
       "</table>\n",
       "<p>293983 rows × 9 columns</p>\n",
       "</div>"
      ],
      "text/plain": [
       "             id  id_order  product_id  product_quantity      sku  unit_price  \\\n",
       "0       1119109    299539           0                 1  OTT0133       18.99   \n",
       "1       1119110    299540           0                 1  LGE0043      399.00   \n",
       "2       1119111    299541           0                 1  PAR0071      474.05   \n",
       "3       1119112    299542           0                 1  WDT0315       68.39   \n",
       "4       1119113    299543           0                 1  JBL0104       23.74   \n",
       "...         ...       ...         ...               ...      ...         ...   \n",
       "293978  1650199    527398           0                 1  JBL0122       42.99   \n",
       "293979  1650200    527399           0                 1  PAC0653      141.58   \n",
       "293980  1650201    527400           0                 2  APP0698        9.99   \n",
       "293981  1650202    527388           0                 1  BEZ0204       19.99   \n",
       "293982  1650203    527401           0                 1  APP0927       13.99   \n",
       "\n",
       "                      date  total_price  check_orders  \n",
       "0      2017-01-01 00:07:19        18.99          True  \n",
       "1      2017-01-01 00:19:45       399.00          True  \n",
       "2      2017-01-01 00:20:57       474.05          True  \n",
       "3      2017-01-01 00:51:40        68.39          True  \n",
       "4      2017-01-01 01:06:38        23.74          True  \n",
       "...                    ...          ...           ...  \n",
       "293978 2018-03-14 13:57:25        42.99          True  \n",
       "293979 2018-03-14 13:57:34       141.58          True  \n",
       "293980 2018-03-14 13:57:41        19.98          True  \n",
       "293981 2018-03-14 13:58:01        19.99          True  \n",
       "293982 2018-03-14 13:58:36        13.99          True  \n",
       "\n",
       "[293983 rows x 9 columns]"
      ]
     },
     "execution_count": 1250,
     "metadata": {},
     "output_type": "execute_result"
    }
   ],
   "source": [
    "orderlines.assign(check_orders = orderlines['id_order'].isin(orders['order_id']))"
   ]
  },
  {
   "cell_type": "markdown",
   "id": "920ecd36",
   "metadata": {
    "id": "920ecd36"
   },
   "source": [
    "Then, using `.query` we select rows where the value in this new column is `False`:"
   ]
  },
  {
   "cell_type": "code",
   "execution_count": 1251,
   "id": "1e8fd1d2",
   "metadata": {
    "id": "1e8fd1d2"
   },
   "outputs": [
    {
     "data": {
      "text/html": [
       "<div>\n",
       "<style scoped>\n",
       "    .dataframe tbody tr th:only-of-type {\n",
       "        vertical-align: middle;\n",
       "    }\n",
       "\n",
       "    .dataframe tbody tr th {\n",
       "        vertical-align: top;\n",
       "    }\n",
       "\n",
       "    .dataframe thead th {\n",
       "        text-align: right;\n",
       "    }\n",
       "</style>\n",
       "<table border=\"1\" class=\"dataframe\">\n",
       "  <thead>\n",
       "    <tr style=\"text-align: right;\">\n",
       "      <th></th>\n",
       "      <th>id</th>\n",
       "      <th>id_order</th>\n",
       "      <th>product_id</th>\n",
       "      <th>product_quantity</th>\n",
       "      <th>sku</th>\n",
       "      <th>unit_price</th>\n",
       "      <th>date</th>\n",
       "      <th>total_price</th>\n",
       "      <th>check_orders</th>\n",
       "    </tr>\n",
       "  </thead>\n",
       "  <tbody>\n",
       "    <tr>\n",
       "      <th>5</th>\n",
       "      <td>1119114</td>\n",
       "      <td>295310</td>\n",
       "      <td>0</td>\n",
       "      <td>10</td>\n",
       "      <td>WDT0249</td>\n",
       "      <td>231.79</td>\n",
       "      <td>2017-01-01 01:14:27</td>\n",
       "      <td>2317.90</td>\n",
       "      <td>False</td>\n",
       "    </tr>\n",
       "    <tr>\n",
       "      <th>63</th>\n",
       "      <td>1119218</td>\n",
       "      <td>296284</td>\n",
       "      <td>0</td>\n",
       "      <td>1</td>\n",
       "      <td>BNQ0042</td>\n",
       "      <td>699.00</td>\n",
       "      <td>2017-01-01 09:58:35</td>\n",
       "      <td>699.00</td>\n",
       "      <td>False</td>\n",
       "    </tr>\n",
       "    <tr>\n",
       "      <th>67</th>\n",
       "      <td>1119223</td>\n",
       "      <td>294806</td>\n",
       "      <td>0</td>\n",
       "      <td>1</td>\n",
       "      <td>APP1849</td>\n",
       "      <td>2558.99</td>\n",
       "      <td>2017-01-01 10:09:15</td>\n",
       "      <td>2558.99</td>\n",
       "      <td>False</td>\n",
       "    </tr>\n",
       "    <tr>\n",
       "      <th>69</th>\n",
       "      <td>1119226</td>\n",
       "      <td>294806</td>\n",
       "      <td>0</td>\n",
       "      <td>1</td>\n",
       "      <td>APP1864</td>\n",
       "      <td>2797.99</td>\n",
       "      <td>2017-01-01 10:15:14</td>\n",
       "      <td>2797.99</td>\n",
       "      <td>False</td>\n",
       "    </tr>\n",
       "    <tr>\n",
       "      <th>70</th>\n",
       "      <td>1119235</td>\n",
       "      <td>297261</td>\n",
       "      <td>0</td>\n",
       "      <td>1</td>\n",
       "      <td>QNA0177</td>\n",
       "      <td>304.99</td>\n",
       "      <td>2017-01-01 10:17:59</td>\n",
       "      <td>304.99</td>\n",
       "      <td>False</td>\n",
       "    </tr>\n",
       "    <tr>\n",
       "      <th>...</th>\n",
       "      <td>...</td>\n",
       "      <td>...</td>\n",
       "      <td>...</td>\n",
       "      <td>...</td>\n",
       "      <td>...</td>\n",
       "      <td>...</td>\n",
       "      <td>...</td>\n",
       "      <td>...</td>\n",
       "      <td>...</td>\n",
       "    </tr>\n",
       "    <tr>\n",
       "      <th>275665</th>\n",
       "      <td>1621177</td>\n",
       "      <td>244328</td>\n",
       "      <td>0</td>\n",
       "      <td>1</td>\n",
       "      <td>OWC0260</td>\n",
       "      <td>349.00</td>\n",
       "      <td>2018-02-20 13:00:45</td>\n",
       "      <td>349.00</td>\n",
       "      <td>False</td>\n",
       "    </tr>\n",
       "    <tr>\n",
       "      <th>280055</th>\n",
       "      <td>1628699</td>\n",
       "      <td>261391</td>\n",
       "      <td>0</td>\n",
       "      <td>1</td>\n",
       "      <td>APP2352</td>\n",
       "      <td>3343.00</td>\n",
       "      <td>2018-02-27 11:43:25</td>\n",
       "      <td>3343.00</td>\n",
       "      <td>False</td>\n",
       "    </tr>\n",
       "    <tr>\n",
       "      <th>280352</th>\n",
       "      <td>1629247</td>\n",
       "      <td>287797</td>\n",
       "      <td>0</td>\n",
       "      <td>1</td>\n",
       "      <td>SYN0182</td>\n",
       "      <td>484.11</td>\n",
       "      <td>2018-02-27 19:16:26</td>\n",
       "      <td>484.11</td>\n",
       "      <td>False</td>\n",
       "    </tr>\n",
       "    <tr>\n",
       "      <th>280856</th>\n",
       "      <td>1630150</td>\n",
       "      <td>261391</td>\n",
       "      <td>0</td>\n",
       "      <td>1</td>\n",
       "      <td>SAT0091</td>\n",
       "      <td>44.99</td>\n",
       "      <td>2018-02-28 12:18:26</td>\n",
       "      <td>44.99</td>\n",
       "      <td>False</td>\n",
       "    </tr>\n",
       "    <tr>\n",
       "      <th>280869</th>\n",
       "      <td>1630178</td>\n",
       "      <td>261391</td>\n",
       "      <td>0</td>\n",
       "      <td>1</td>\n",
       "      <td>SAT0062</td>\n",
       "      <td>49.99</td>\n",
       "      <td>2018-02-28 12:30:57</td>\n",
       "      <td>49.99</td>\n",
       "      <td>False</td>\n",
       "    </tr>\n",
       "  </tbody>\n",
       "</table>\n",
       "<p>240 rows × 9 columns</p>\n",
       "</div>"
      ],
      "text/plain": [
       "             id  id_order  product_id  product_quantity      sku  unit_price  \\\n",
       "5       1119114    295310           0                10  WDT0249      231.79   \n",
       "63      1119218    296284           0                 1  BNQ0042      699.00   \n",
       "67      1119223    294806           0                 1  APP1849     2558.99   \n",
       "69      1119226    294806           0                 1  APP1864     2797.99   \n",
       "70      1119235    297261           0                 1  QNA0177      304.99   \n",
       "...         ...       ...         ...               ...      ...         ...   \n",
       "275665  1621177    244328           0                 1  OWC0260      349.00   \n",
       "280055  1628699    261391           0                 1  APP2352     3343.00   \n",
       "280352  1629247    287797           0                 1  SYN0182      484.11   \n",
       "280856  1630150    261391           0                 1  SAT0091       44.99   \n",
       "280869  1630178    261391           0                 1  SAT0062       49.99   \n",
       "\n",
       "                      date  total_price  check_orders  \n",
       "5      2017-01-01 01:14:27      2317.90         False  \n",
       "63     2017-01-01 09:58:35       699.00         False  \n",
       "67     2017-01-01 10:09:15      2558.99         False  \n",
       "69     2017-01-01 10:15:14      2797.99         False  \n",
       "70     2017-01-01 10:17:59       304.99         False  \n",
       "...                    ...          ...           ...  \n",
       "275665 2018-02-20 13:00:45       349.00         False  \n",
       "280055 2018-02-27 11:43:25      3343.00         False  \n",
       "280352 2018-02-27 19:16:26       484.11         False  \n",
       "280856 2018-02-28 12:18:26        44.99         False  \n",
       "280869 2018-02-28 12:30:57        49.99         False  \n",
       "\n",
       "[240 rows x 9 columns]"
      ]
     },
     "execution_count": 1251,
     "metadata": {},
     "output_type": "execute_result"
    }
   ],
   "source": [
    "(\n",
    "orderlines\n",
    "    .assign(check_orders = orderlines['id_order'].isin(orders['order_id']))\n",
    "    .query(\"check_orders==False\")\n",
    ")"
   ]
  },
  {
   "cell_type": "markdown",
   "id": "61d0c2c4",
   "metadata": {
    "id": "61d0c2c4"
   },
   "source": [
    "It looks like 240 rows in `orderlines` come from orders not present in the `orders` dataset. This is quite inconsistent, since the `orders` dataset should be the one and only source of truth for orders: if an order is not there, it should not exist. We will definitely report this anomaly, but for now, let's just remove those \"ghost\" orders:"
   ]
  },
  {
   "cell_type": "code",
   "execution_count": 1252,
   "id": "c409cd73",
   "metadata": {
    "id": "c409cd73"
   },
   "outputs": [],
   "source": [
    "orderlines = (orderlines\n",
    "              .assign(check_orders = orderlines['id_order'].isin(orders['order_id']))\n",
    "              .query(\"check_orders==True\"))"
   ]
  },
  {
   "cell_type": "markdown",
   "id": "a1f3c0c1",
   "metadata": {
    "id": "a1f3c0c1"
   },
   "source": [
    "Now let's look at this problem in the opposite direction: are there orders in the `orders` dataset not prsent in `orderlines`?"
   ]
  },
  {
   "cell_type": "code",
   "execution_count": 1253,
   "id": "2ecf88dd",
   "metadata": {
    "id": "2ecf88dd"
   },
   "outputs": [
    {
     "data": {
      "text/html": [
       "<div>\n",
       "<style scoped>\n",
       "    .dataframe tbody tr th:only-of-type {\n",
       "        vertical-align: middle;\n",
       "    }\n",
       "\n",
       "    .dataframe tbody tr th {\n",
       "        vertical-align: top;\n",
       "    }\n",
       "\n",
       "    .dataframe thead th {\n",
       "        text-align: right;\n",
       "    }\n",
       "</style>\n",
       "<table border=\"1\" class=\"dataframe\">\n",
       "  <thead>\n",
       "    <tr style=\"text-align: right;\">\n",
       "      <th></th>\n",
       "      <th>order_id</th>\n",
       "      <th>created_date</th>\n",
       "      <th>total_paid</th>\n",
       "      <th>state</th>\n",
       "      <th>check_orders</th>\n",
       "    </tr>\n",
       "  </thead>\n",
       "  <tbody>\n",
       "    <tr>\n",
       "      <th>8</th>\n",
       "      <td>245941</td>\n",
       "      <td>2017-01-01 10:32:23</td>\n",
       "      <td>183.52</td>\n",
       "      <td>Completed</td>\n",
       "      <td>False</td>\n",
       "    </tr>\n",
       "    <tr>\n",
       "      <th>65</th>\n",
       "      <td>268629</td>\n",
       "      <td>2017-01-31 11:27:25</td>\n",
       "      <td>73.23</td>\n",
       "      <td>Completed</td>\n",
       "      <td>False</td>\n",
       "    </tr>\n",
       "    <tr>\n",
       "      <th>75</th>\n",
       "      <td>272862</td>\n",
       "      <td>2017-04-18 18:17:10</td>\n",
       "      <td>128.99</td>\n",
       "      <td>Pending</td>\n",
       "      <td>False</td>\n",
       "    </tr>\n",
       "    <tr>\n",
       "      <th>82</th>\n",
       "      <td>277655</td>\n",
       "      <td>2017-02-01 08:44:55</td>\n",
       "      <td>9.99</td>\n",
       "      <td>Pending</td>\n",
       "      <td>False</td>\n",
       "    </tr>\n",
       "    <tr>\n",
       "      <th>83</th>\n",
       "      <td>277994</td>\n",
       "      <td>2017-01-23 18:30:11</td>\n",
       "      <td>52.99</td>\n",
       "      <td>Completed</td>\n",
       "      <td>False</td>\n",
       "    </tr>\n",
       "    <tr>\n",
       "      <th>...</th>\n",
       "      <td>...</td>\n",
       "      <td>...</td>\n",
       "      <td>...</td>\n",
       "      <td>...</td>\n",
       "      <td>...</td>\n",
       "    </tr>\n",
       "    <tr>\n",
       "      <th>226835</th>\n",
       "      <td>527328</td>\n",
       "      <td>2018-03-14 13:14:12</td>\n",
       "      <td>0.00</td>\n",
       "      <td>Shopping Basket</td>\n",
       "      <td>False</td>\n",
       "    </tr>\n",
       "    <tr>\n",
       "      <th>226851</th>\n",
       "      <td>527344</td>\n",
       "      <td>2018-03-14 13:25:21</td>\n",
       "      <td>0.00</td>\n",
       "      <td>Place Order</td>\n",
       "      <td>False</td>\n",
       "    </tr>\n",
       "    <tr>\n",
       "      <th>226853</th>\n",
       "      <td>527346</td>\n",
       "      <td>2018-03-14 13:26:14</td>\n",
       "      <td>0.00</td>\n",
       "      <td>Place Order</td>\n",
       "      <td>False</td>\n",
       "    </tr>\n",
       "    <tr>\n",
       "      <th>226855</th>\n",
       "      <td>527348</td>\n",
       "      <td>2018-03-14 13:28:18</td>\n",
       "      <td>0.00</td>\n",
       "      <td>Place Order</td>\n",
       "      <td>False</td>\n",
       "    </tr>\n",
       "    <tr>\n",
       "      <th>226889</th>\n",
       "      <td>527382</td>\n",
       "      <td>2018-03-14 13:47:43</td>\n",
       "      <td>0.00</td>\n",
       "      <td>Shopping Basket</td>\n",
       "      <td>False</td>\n",
       "    </tr>\n",
       "  </tbody>\n",
       "</table>\n",
       "<p>22213 rows × 5 columns</p>\n",
       "</div>"
      ],
      "text/plain": [
       "        order_id        created_date  total_paid            state  \\\n",
       "8         245941 2017-01-01 10:32:23      183.52        Completed   \n",
       "65        268629 2017-01-31 11:27:25       73.23        Completed   \n",
       "75        272862 2017-04-18 18:17:10      128.99          Pending   \n",
       "82        277655 2017-02-01 08:44:55        9.99          Pending   \n",
       "83        277994 2017-01-23 18:30:11       52.99        Completed   \n",
       "...          ...                 ...         ...              ...   \n",
       "226835    527328 2018-03-14 13:14:12        0.00  Shopping Basket   \n",
       "226851    527344 2018-03-14 13:25:21        0.00      Place Order   \n",
       "226853    527346 2018-03-14 13:26:14        0.00      Place Order   \n",
       "226855    527348 2018-03-14 13:28:18        0.00      Place Order   \n",
       "226889    527382 2018-03-14 13:47:43        0.00  Shopping Basket   \n",
       "\n",
       "        check_orders  \n",
       "8              False  \n",
       "65             False  \n",
       "75             False  \n",
       "82             False  \n",
       "83             False  \n",
       "...              ...  \n",
       "226835         False  \n",
       "226851         False  \n",
       "226853         False  \n",
       "226855         False  \n",
       "226889         False  \n",
       "\n",
       "[22213 rows x 5 columns]"
      ]
     },
     "execution_count": 1253,
     "metadata": {},
     "output_type": "execute_result"
    }
   ],
   "source": [
    "(orders\n",
    " .assign(check_orders = orders['order_id'].isin(orderlines['id_order']))\n",
    " .query(\"check_orders==False\"))"
   ]
  },
  {
   "cell_type": "markdown",
   "id": "3742ba27",
   "metadata": {
    "id": "3742ba27"
   },
   "source": [
    "There are more than 22000 orders in the `orders` dataset that are not present on the `orderlines` dataset!!! We can try to find out why by looking at the state of these orders:"
   ]
  },
  {
   "cell_type": "code",
   "execution_count": 1254,
   "id": "4e64d092",
   "metadata": {
    "id": "4e64d092"
   },
   "outputs": [
    {
     "data": {
      "text/plain": [
       "Place Order        12304\n",
       "Shopping Basket     9810\n",
       "Completed             45\n",
       "Cancelled             41\n",
       "Pending               13\n",
       "Name: state, dtype: int64"
      ]
     },
     "execution_count": 1254,
     "metadata": {},
     "output_type": "execute_result"
    }
   ],
   "source": [
    "(orders\n",
    " .assign(check_orders = orders['order_id'].isin(orderlines['id_order']))\n",
    " .query(\"check_orders==False\")\n",
    " ['state'].value_counts())"
   ]
  },
  {
   "cell_type": "markdown",
   "id": "794fbbb0",
   "metadata": {
    "id": "794fbbb0"
   },
   "source": [
    "It looks like most of them are orders that were not fully completed: the products were left in the shopping basket or the order was \"placed\" but maybe not paid (hence the state \"Place Order\". Some of them were \"Completed\", though. \n",
    "\n",
    "This will require further research, and we might have to come back to these orders if we have to explore consumer behaviour (e.g. why are orders left in the shopping basket?), but for now, for the sake of data consistency, let's drop all of these unmatched orders:"
   ]
  },
  {
   "cell_type": "code",
   "execution_count": 1255,
   "id": "d2097e18",
   "metadata": {
    "id": "d2097e18"
   },
   "outputs": [],
   "source": [
    "orders = (orders\n",
    "          .assign(check_orders = orders['order_id'].isin(orderlines['id_order']))\n",
    "          .query(\"check_orders==True\")\n",
    "         )"
   ]
  },
  {
   "cell_type": "markdown",
   "id": "9fc91152",
   "metadata": {
    "id": "9fc91152"
   },
   "source": [
    "Let's now check again if the total paid matches:"
   ]
  },
  {
   "cell_type": "code",
   "execution_count": 1256,
   "id": "6f7f2432",
   "metadata": {
    "id": "6f7f2432"
   },
   "outputs": [
    {
     "data": {
      "text/plain": [
       "129130877.18"
      ]
     },
     "execution_count": 1256,
     "metadata": {},
     "output_type": "execute_result"
    }
   ],
   "source": [
    "orders['total_paid'].sum()"
   ]
  },
  {
   "cell_type": "code",
   "execution_count": 1257,
   "id": "26dcd21f",
   "metadata": {
    "id": "26dcd21f"
   },
   "outputs": [
    {
     "data": {
      "text/plain": [
       "128659393.77"
      ]
     },
     "execution_count": 1257,
     "metadata": {},
     "output_type": "execute_result"
    }
   ],
   "source": [
    "orderlines['total_price'].sum()"
   ]
  },
  {
   "cell_type": "markdown",
   "id": "481dce88",
   "metadata": {
    "id": "481dce88"
   },
   "source": [
    "STILL NOT MATCHING!!! And actually, the difference got larger. This is outrageous. Let's keep exploring."
   ]
  },
  {
   "cell_type": "code",
   "execution_count": 1258,
   "id": "gq4NUPQwWlyV",
   "metadata": {
    "id": "gq4NUPQwWlyV"
   },
   "outputs": [
    {
     "data": {
      "text/plain": [
       "-471483.4100000113"
      ]
     },
     "execution_count": 1258,
     "metadata": {},
     "output_type": "execute_result"
    }
   ],
   "source": [
    "orderlines['total_price'].sum() - orders['total_paid'].sum()"
   ]
  },
  {
   "cell_type": "markdown",
   "id": "bcab7f3f",
   "metadata": {
    "id": "bcab7f3f"
   },
   "source": [
    "## Solving the price mismatch\n",
    "\n",
    "Let's merge both datasets and compare, order by order, the `total_price`. We will call this new merged dataset `orders_info`.\n",
    "\n",
    "*Note: Remember that the `orderlines` dataset contains one row per product bought: an order where 3 different products were purchased will result in 3 rows there. Therefore, to merge `orderlines` with `orders`, we have to group `orderlines` by its `id_order` and aggregate it by taking the sum of the `total_price`."
   ]
  },
  {
   "cell_type": "code",
   "execution_count": 1259,
   "id": "d46b6c49",
   "metadata": {
    "id": "d46b6c49"
   },
   "outputs": [
    {
     "data": {
      "text/html": [
       "<div>\n",
       "<style scoped>\n",
       "    .dataframe tbody tr th:only-of-type {\n",
       "        vertical-align: middle;\n",
       "    }\n",
       "\n",
       "    .dataframe tbody tr th {\n",
       "        vertical-align: top;\n",
       "    }\n",
       "\n",
       "    .dataframe thead th {\n",
       "        text-align: right;\n",
       "    }\n",
       "</style>\n",
       "<table border=\"1\" class=\"dataframe\">\n",
       "  <thead>\n",
       "    <tr style=\"text-align: right;\">\n",
       "      <th></th>\n",
       "      <th>total_price</th>\n",
       "      <th>order_id</th>\n",
       "      <th>created_date</th>\n",
       "      <th>total_paid</th>\n",
       "      <th>state</th>\n",
       "      <th>check_orders</th>\n",
       "    </tr>\n",
       "  </thead>\n",
       "  <tbody>\n",
       "    <tr>\n",
       "      <th>0</th>\n",
       "      <td>44.99</td>\n",
       "      <td>241319</td>\n",
       "      <td>2017-01-02 13:35:40</td>\n",
       "      <td>44.99</td>\n",
       "      <td>Cancelled</td>\n",
       "      <td>True</td>\n",
       "    </tr>\n",
       "    <tr>\n",
       "      <th>1</th>\n",
       "      <td>129.16</td>\n",
       "      <td>241423</td>\n",
       "      <td>2017-11-06 13:10:02</td>\n",
       "      <td>136.15</td>\n",
       "      <td>Completed</td>\n",
       "      <td>True</td>\n",
       "    </tr>\n",
       "    <tr>\n",
       "      <th>2</th>\n",
       "      <td>10.77</td>\n",
       "      <td>242832</td>\n",
       "      <td>2017-12-31 17:40:03</td>\n",
       "      <td>15.76</td>\n",
       "      <td>Completed</td>\n",
       "      <td>True</td>\n",
       "    </tr>\n",
       "    <tr>\n",
       "      <th>3</th>\n",
       "      <td>77.99</td>\n",
       "      <td>243330</td>\n",
       "      <td>2017-02-16 10:59:38</td>\n",
       "      <td>84.98</td>\n",
       "      <td>Completed</td>\n",
       "      <td>True</td>\n",
       "    </tr>\n",
       "    <tr>\n",
       "      <th>4</th>\n",
       "      <td>153.87</td>\n",
       "      <td>243784</td>\n",
       "      <td>2017-11-24 13:35:19</td>\n",
       "      <td>157.86</td>\n",
       "      <td>Cancelled</td>\n",
       "      <td>True</td>\n",
       "    </tr>\n",
       "    <tr>\n",
       "      <th>...</th>\n",
       "      <td>...</td>\n",
       "      <td>...</td>\n",
       "      <td>...</td>\n",
       "      <td>...</td>\n",
       "      <td>...</td>\n",
       "      <td>...</td>\n",
       "    </tr>\n",
       "    <tr>\n",
       "      <th>204686</th>\n",
       "      <td>42.99</td>\n",
       "      <td>527397</td>\n",
       "      <td>2018-03-14 13:56:38</td>\n",
       "      <td>42.99</td>\n",
       "      <td>Place Order</td>\n",
       "      <td>True</td>\n",
       "    </tr>\n",
       "    <tr>\n",
       "      <th>204687</th>\n",
       "      <td>42.99</td>\n",
       "      <td>527398</td>\n",
       "      <td>2018-03-14 13:57:25</td>\n",
       "      <td>42.99</td>\n",
       "      <td>Shopping Basket</td>\n",
       "      <td>True</td>\n",
       "    </tr>\n",
       "    <tr>\n",
       "      <th>204688</th>\n",
       "      <td>141.58</td>\n",
       "      <td>527399</td>\n",
       "      <td>2018-03-14 13:57:34</td>\n",
       "      <td>141.58</td>\n",
       "      <td>Shopping Basket</td>\n",
       "      <td>True</td>\n",
       "    </tr>\n",
       "    <tr>\n",
       "      <th>204689</th>\n",
       "      <td>19.98</td>\n",
       "      <td>527400</td>\n",
       "      <td>2018-03-14 13:57:41</td>\n",
       "      <td>19.98</td>\n",
       "      <td>Shopping Basket</td>\n",
       "      <td>True</td>\n",
       "    </tr>\n",
       "    <tr>\n",
       "      <th>204690</th>\n",
       "      <td>13.99</td>\n",
       "      <td>527401</td>\n",
       "      <td>2018-03-14 13:58:36</td>\n",
       "      <td>18.98</td>\n",
       "      <td>Place Order</td>\n",
       "      <td>True</td>\n",
       "    </tr>\n",
       "  </tbody>\n",
       "</table>\n",
       "<p>204691 rows × 6 columns</p>\n",
       "</div>"
      ],
      "text/plain": [
       "        total_price  order_id        created_date  total_paid  \\\n",
       "0             44.99    241319 2017-01-02 13:35:40       44.99   \n",
       "1            129.16    241423 2017-11-06 13:10:02      136.15   \n",
       "2             10.77    242832 2017-12-31 17:40:03       15.76   \n",
       "3             77.99    243330 2017-02-16 10:59:38       84.98   \n",
       "4            153.87    243784 2017-11-24 13:35:19      157.86   \n",
       "...             ...       ...                 ...         ...   \n",
       "204686        42.99    527397 2018-03-14 13:56:38       42.99   \n",
       "204687        42.99    527398 2018-03-14 13:57:25       42.99   \n",
       "204688       141.58    527399 2018-03-14 13:57:34      141.58   \n",
       "204689        19.98    527400 2018-03-14 13:57:41       19.98   \n",
       "204690        13.99    527401 2018-03-14 13:58:36       18.98   \n",
       "\n",
       "                  state  check_orders  \n",
       "0             Cancelled          True  \n",
       "1             Completed          True  \n",
       "2             Completed          True  \n",
       "3             Completed          True  \n",
       "4             Cancelled          True  \n",
       "...                 ...           ...  \n",
       "204686      Place Order          True  \n",
       "204687  Shopping Basket          True  \n",
       "204688  Shopping Basket          True  \n",
       "204689  Shopping Basket          True  \n",
       "204690      Place Order          True  \n",
       "\n",
       "[204691 rows x 6 columns]"
      ]
     },
     "execution_count": 1259,
     "metadata": {},
     "output_type": "execute_result"
    }
   ],
   "source": [
    "orders_info = (\n",
    "orderlines\n",
    "    .groupby('id_order')\n",
    "    .agg({'total_price':'sum'})\n",
    "    .merge(orders, how='left', left_on='id_order', right_on='order_id')\n",
    "    .copy()\n",
    ")\n",
    "orders_info"
   ]
  },
  {
   "cell_type": "markdown",
   "id": "6ecf9771",
   "metadata": {
    "id": "6ecf9771"
   },
   "source": [
    "Now that the `total` from both datasets is in the same dataframe, we can create a new column with the difference:"
   ]
  },
  {
   "cell_type": "code",
   "execution_count": 1260,
   "id": "403e3bff",
   "metadata": {
    "id": "403e3bff"
   },
   "outputs": [
    {
     "data": {
      "text/html": [
       "<div>\n",
       "<style scoped>\n",
       "    .dataframe tbody tr th:only-of-type {\n",
       "        vertical-align: middle;\n",
       "    }\n",
       "\n",
       "    .dataframe tbody tr th {\n",
       "        vertical-align: top;\n",
       "    }\n",
       "\n",
       "    .dataframe thead th {\n",
       "        text-align: right;\n",
       "    }\n",
       "</style>\n",
       "<table border=\"1\" class=\"dataframe\">\n",
       "  <thead>\n",
       "    <tr style=\"text-align: right;\">\n",
       "      <th></th>\n",
       "      <th>total_price</th>\n",
       "      <th>order_id</th>\n",
       "      <th>created_date</th>\n",
       "      <th>total_paid</th>\n",
       "      <th>state</th>\n",
       "      <th>check_orders</th>\n",
       "      <th>price_difference</th>\n",
       "    </tr>\n",
       "  </thead>\n",
       "  <tbody>\n",
       "    <tr>\n",
       "      <th>20654</th>\n",
       "      <td>164.90</td>\n",
       "      <td>322147</td>\n",
       "      <td>2017-02-10 11:56:59</td>\n",
       "      <td>125.99</td>\n",
       "      <td>Completed</td>\n",
       "      <td>True</td>\n",
       "      <td>38.91</td>\n",
       "    </tr>\n",
       "    <tr>\n",
       "      <th>11725</th>\n",
       "      <td>164.90</td>\n",
       "      <td>312311</td>\n",
       "      <td>2017-01-20 00:59:54</td>\n",
       "      <td>125.99</td>\n",
       "      <td>Completed</td>\n",
       "      <td>True</td>\n",
       "      <td>38.91</td>\n",
       "    </tr>\n",
       "    <tr>\n",
       "      <th>45940</th>\n",
       "      <td>44.99</td>\n",
       "      <td>349377</td>\n",
       "      <td>2017-04-24 21:42:28</td>\n",
       "      <td>4.99</td>\n",
       "      <td>Pending</td>\n",
       "      <td>True</td>\n",
       "      <td>40.00</td>\n",
       "    </tr>\n",
       "    <tr>\n",
       "      <th>8545</th>\n",
       "      <td>164.90</td>\n",
       "      <td>308825</td>\n",
       "      <td>2017-01-13 14:27:46</td>\n",
       "      <td>123.99</td>\n",
       "      <td>Completed</td>\n",
       "      <td>True</td>\n",
       "      <td>40.91</td>\n",
       "    </tr>\n",
       "    <tr>\n",
       "      <th>13784</th>\n",
       "      <td>164.90</td>\n",
       "      <td>314570</td>\n",
       "      <td>2017-01-25 09:01:35</td>\n",
       "      <td>122.99</td>\n",
       "      <td>Completed</td>\n",
       "      <td>True</td>\n",
       "      <td>41.91</td>\n",
       "    </tr>\n",
       "    <tr>\n",
       "      <th>21347</th>\n",
       "      <td>164.90</td>\n",
       "      <td>322901</td>\n",
       "      <td>2017-02-12 13:25:12</td>\n",
       "      <td>122.99</td>\n",
       "      <td>Place Order</td>\n",
       "      <td>True</td>\n",
       "      <td>41.91</td>\n",
       "    </tr>\n",
       "    <tr>\n",
       "      <th>25517</th>\n",
       "      <td>164.90</td>\n",
       "      <td>327363</td>\n",
       "      <td>2017-02-21 22:42:17</td>\n",
       "      <td>122.99</td>\n",
       "      <td>Completed</td>\n",
       "      <td>True</td>\n",
       "      <td>41.91</td>\n",
       "    </tr>\n",
       "    <tr>\n",
       "      <th>986</th>\n",
       "      <td>164.90</td>\n",
       "      <td>300474</td>\n",
       "      <td>2017-01-02 12:24:54</td>\n",
       "      <td>119.00</td>\n",
       "      <td>Completed</td>\n",
       "      <td>True</td>\n",
       "      <td>45.90</td>\n",
       "    </tr>\n",
       "    <tr>\n",
       "      <th>166458</th>\n",
       "      <td>214768.02</td>\n",
       "      <td>484334</td>\n",
       "      <td>2018-01-07 15:58:26</td>\n",
       "      <td>214714.31</td>\n",
       "      <td>Shopping Basket</td>\n",
       "      <td>True</td>\n",
       "      <td>53.71</td>\n",
       "    </tr>\n",
       "    <tr>\n",
       "      <th>54853</th>\n",
       "      <td>13450.87</td>\n",
       "      <td>359083</td>\n",
       "      <td>2017-05-25 13:58:31</td>\n",
       "      <td>13391.86</td>\n",
       "      <td>Shopping Basket</td>\n",
       "      <td>True</td>\n",
       "      <td>59.01</td>\n",
       "    </tr>\n",
       "    <tr>\n",
       "      <th>134183</th>\n",
       "      <td>341.98</td>\n",
       "      <td>448286</td>\n",
       "      <td>2017-11-27 14:04:40</td>\n",
       "      <td>275.99</td>\n",
       "      <td>Place Order</td>\n",
       "      <td>True</td>\n",
       "      <td>65.99</td>\n",
       "    </tr>\n",
       "    <tr>\n",
       "      <th>18563</th>\n",
       "      <td>142.44</td>\n",
       "      <td>319901</td>\n",
       "      <td>2017-02-04 16:09:34</td>\n",
       "      <td>60.43</td>\n",
       "      <td>Completed</td>\n",
       "      <td>True</td>\n",
       "      <td>82.01</td>\n",
       "    </tr>\n",
       "    <tr>\n",
       "      <th>14391</th>\n",
       "      <td>151.99</td>\n",
       "      <td>315229</td>\n",
       "      <td>2017-01-31 10:57:07</td>\n",
       "      <td>66.98</td>\n",
       "      <td>Cancelled</td>\n",
       "      <td>True</td>\n",
       "      <td>85.01</td>\n",
       "    </tr>\n",
       "    <tr>\n",
       "      <th>148204</th>\n",
       "      <td>89.99</td>\n",
       "      <td>463567</td>\n",
       "      <td>2017-12-15 09:45:36</td>\n",
       "      <td>0.00</td>\n",
       "      <td>Shopping Basket</td>\n",
       "      <td>True</td>\n",
       "      <td>89.99</td>\n",
       "    </tr>\n",
       "    <tr>\n",
       "      <th>111</th>\n",
       "      <td>135.97</td>\n",
       "      <td>289685</td>\n",
       "      <td>2017-01-09 23:15:07</td>\n",
       "      <td>15.95</td>\n",
       "      <td>Completed</td>\n",
       "      <td>True</td>\n",
       "      <td>120.02</td>\n",
       "    </tr>\n",
       "    <tr>\n",
       "      <th>102967</th>\n",
       "      <td>441.12</td>\n",
       "      <td>412943</td>\n",
       "      <td>2017-10-16 09:51:14</td>\n",
       "      <td>290.54</td>\n",
       "      <td>Shopping Basket</td>\n",
       "      <td>True</td>\n",
       "      <td>150.58</td>\n",
       "    </tr>\n",
       "    <tr>\n",
       "      <th>120052</th>\n",
       "      <td>426.86</td>\n",
       "      <td>432303</td>\n",
       "      <td>2017-11-22 21:43:02</td>\n",
       "      <td>261.86</td>\n",
       "      <td>Completed</td>\n",
       "      <td>True</td>\n",
       "      <td>165.00</td>\n",
       "    </tr>\n",
       "    <tr>\n",
       "      <th>46945</th>\n",
       "      <td>339.99</td>\n",
       "      <td>350460</td>\n",
       "      <td>2017-04-27 18:44:21</td>\n",
       "      <td>6.99</td>\n",
       "      <td>Cancelled</td>\n",
       "      <td>True</td>\n",
       "      <td>333.00</td>\n",
       "    </tr>\n",
       "    <tr>\n",
       "      <th>141740</th>\n",
       "      <td>359.99</td>\n",
       "      <td>456491</td>\n",
       "      <td>2017-12-06 20:43:59</td>\n",
       "      <td>0.00</td>\n",
       "      <td>Shopping Basket</td>\n",
       "      <td>True</td>\n",
       "      <td>359.99</td>\n",
       "    </tr>\n",
       "    <tr>\n",
       "      <th>151599</th>\n",
       "      <td>770.98</td>\n",
       "      <td>467341</td>\n",
       "      <td>2017-12-19 23:10:24</td>\n",
       "      <td>408.98</td>\n",
       "      <td>Shopping Basket</td>\n",
       "      <td>True</td>\n",
       "      <td>362.00</td>\n",
       "    </tr>\n",
       "    <tr>\n",
       "      <th>194349</th>\n",
       "      <td>388.06</td>\n",
       "      <td>515818</td>\n",
       "      <td>2018-02-22 01:02:35</td>\n",
       "      <td>6.59</td>\n",
       "      <td>Shopping Basket</td>\n",
       "      <td>True</td>\n",
       "      <td>381.47</td>\n",
       "    </tr>\n",
       "    <tr>\n",
       "      <th>186388</th>\n",
       "      <td>1124.00</td>\n",
       "      <td>506820</td>\n",
       "      <td>2018-02-06 13:34:20</td>\n",
       "      <td>1.33</td>\n",
       "      <td>Shopping Basket</td>\n",
       "      <td>True</td>\n",
       "      <td>1122.67</td>\n",
       "    </tr>\n",
       "    <tr>\n",
       "      <th>179022</th>\n",
       "      <td>1558.00</td>\n",
       "      <td>498550</td>\n",
       "      <td>2018-01-25 17:57:06</td>\n",
       "      <td>3.81</td>\n",
       "      <td>Shopping Basket</td>\n",
       "      <td>True</td>\n",
       "      <td>1554.19</td>\n",
       "    </tr>\n",
       "    <tr>\n",
       "      <th>162308</th>\n",
       "      <td>1958.36</td>\n",
       "      <td>479621</td>\n",
       "      <td>2018-01-02 13:33:37</td>\n",
       "      <td>26.38</td>\n",
       "      <td>Shopping Basket</td>\n",
       "      <td>True</td>\n",
       "      <td>1931.98</td>\n",
       "    </tr>\n",
       "    <tr>\n",
       "      <th>201739</th>\n",
       "      <td>1968.00</td>\n",
       "      <td>524152</td>\n",
       "      <td>2018-03-09 21:00:48</td>\n",
       "      <td>6.59</td>\n",
       "      <td>Shopping Basket</td>\n",
       "      <td>True</td>\n",
       "      <td>1961.41</td>\n",
       "    </tr>\n",
       "    <tr>\n",
       "      <th>192913</th>\n",
       "      <td>2342.00</td>\n",
       "      <td>514198</td>\n",
       "      <td>2018-02-19 11:40:55</td>\n",
       "      <td>6.59</td>\n",
       "      <td>Shopping Basket</td>\n",
       "      <td>True</td>\n",
       "      <td>2335.41</td>\n",
       "    </tr>\n",
       "    <tr>\n",
       "      <th>193911</th>\n",
       "      <td>3038.00</td>\n",
       "      <td>515325</td>\n",
       "      <td>2018-02-21 11:31:20</td>\n",
       "      <td>13.19</td>\n",
       "      <td>Shopping Basket</td>\n",
       "      <td>True</td>\n",
       "      <td>3024.81</td>\n",
       "    </tr>\n",
       "    <tr>\n",
       "      <th>188169</th>\n",
       "      <td>3112.59</td>\n",
       "      <td>508818</td>\n",
       "      <td>2018-02-09 13:43:30</td>\n",
       "      <td>6.59</td>\n",
       "      <td>Shopping Basket</td>\n",
       "      <td>True</td>\n",
       "      <td>3106.00</td>\n",
       "    </tr>\n",
       "    <tr>\n",
       "      <th>197889</th>\n",
       "      <td>7771.23</td>\n",
       "      <td>519801</td>\n",
       "      <td>2018-03-02 08:59:34</td>\n",
       "      <td>31.22</td>\n",
       "      <td>Shopping Basket</td>\n",
       "      <td>True</td>\n",
       "      <td>7740.01</td>\n",
       "    </tr>\n",
       "    <tr>\n",
       "      <th>56804</th>\n",
       "      <td>250802.37</td>\n",
       "      <td>361200</td>\n",
       "      <td>2017-06-01 11:55:02</td>\n",
       "      <td>214642.47</td>\n",
       "      <td>Shopping Basket</td>\n",
       "      <td>True</td>\n",
       "      <td>36159.90</td>\n",
       "    </tr>\n",
       "  </tbody>\n",
       "</table>\n",
       "</div>"
      ],
      "text/plain": [
       "        total_price  order_id        created_date  total_paid  \\\n",
       "20654        164.90    322147 2017-02-10 11:56:59      125.99   \n",
       "11725        164.90    312311 2017-01-20 00:59:54      125.99   \n",
       "45940         44.99    349377 2017-04-24 21:42:28        4.99   \n",
       "8545         164.90    308825 2017-01-13 14:27:46      123.99   \n",
       "13784        164.90    314570 2017-01-25 09:01:35      122.99   \n",
       "21347        164.90    322901 2017-02-12 13:25:12      122.99   \n",
       "25517        164.90    327363 2017-02-21 22:42:17      122.99   \n",
       "986          164.90    300474 2017-01-02 12:24:54      119.00   \n",
       "166458    214768.02    484334 2018-01-07 15:58:26   214714.31   \n",
       "54853      13450.87    359083 2017-05-25 13:58:31    13391.86   \n",
       "134183       341.98    448286 2017-11-27 14:04:40      275.99   \n",
       "18563        142.44    319901 2017-02-04 16:09:34       60.43   \n",
       "14391        151.99    315229 2017-01-31 10:57:07       66.98   \n",
       "148204        89.99    463567 2017-12-15 09:45:36        0.00   \n",
       "111          135.97    289685 2017-01-09 23:15:07       15.95   \n",
       "102967       441.12    412943 2017-10-16 09:51:14      290.54   \n",
       "120052       426.86    432303 2017-11-22 21:43:02      261.86   \n",
       "46945        339.99    350460 2017-04-27 18:44:21        6.99   \n",
       "141740       359.99    456491 2017-12-06 20:43:59        0.00   \n",
       "151599       770.98    467341 2017-12-19 23:10:24      408.98   \n",
       "194349       388.06    515818 2018-02-22 01:02:35        6.59   \n",
       "186388      1124.00    506820 2018-02-06 13:34:20        1.33   \n",
       "179022      1558.00    498550 2018-01-25 17:57:06        3.81   \n",
       "162308      1958.36    479621 2018-01-02 13:33:37       26.38   \n",
       "201739      1968.00    524152 2018-03-09 21:00:48        6.59   \n",
       "192913      2342.00    514198 2018-02-19 11:40:55        6.59   \n",
       "193911      3038.00    515325 2018-02-21 11:31:20       13.19   \n",
       "188169      3112.59    508818 2018-02-09 13:43:30        6.59   \n",
       "197889      7771.23    519801 2018-03-02 08:59:34       31.22   \n",
       "56804     250802.37    361200 2017-06-01 11:55:02   214642.47   \n",
       "\n",
       "                  state  check_orders  price_difference  \n",
       "20654         Completed          True             38.91  \n",
       "11725         Completed          True             38.91  \n",
       "45940           Pending          True             40.00  \n",
       "8545          Completed          True             40.91  \n",
       "13784         Completed          True             41.91  \n",
       "21347       Place Order          True             41.91  \n",
       "25517         Completed          True             41.91  \n",
       "986           Completed          True             45.90  \n",
       "166458  Shopping Basket          True             53.71  \n",
       "54853   Shopping Basket          True             59.01  \n",
       "134183      Place Order          True             65.99  \n",
       "18563         Completed          True             82.01  \n",
       "14391         Cancelled          True             85.01  \n",
       "148204  Shopping Basket          True             89.99  \n",
       "111           Completed          True            120.02  \n",
       "102967  Shopping Basket          True            150.58  \n",
       "120052        Completed          True            165.00  \n",
       "46945         Cancelled          True            333.00  \n",
       "141740  Shopping Basket          True            359.99  \n",
       "151599  Shopping Basket          True            362.00  \n",
       "194349  Shopping Basket          True            381.47  \n",
       "186388  Shopping Basket          True           1122.67  \n",
       "179022  Shopping Basket          True           1554.19  \n",
       "162308  Shopping Basket          True           1931.98  \n",
       "201739  Shopping Basket          True           1961.41  \n",
       "192913  Shopping Basket          True           2335.41  \n",
       "193911  Shopping Basket          True           3024.81  \n",
       "188169  Shopping Basket          True           3106.00  \n",
       "197889  Shopping Basket          True           7740.01  \n",
       "56804   Shopping Basket          True          36159.90  "
      ]
     },
     "execution_count": 1260,
     "metadata": {},
     "output_type": "execute_result"
    }
   ],
   "source": [
    "orders_info['price_difference'] = orders_info['total_price'] - orders_info['total_paid']\n",
    "orders_info.sort_values('price_difference').tail(30)"
   ]
  },
  {
   "cell_type": "code",
   "execution_count": 1261,
   "id": "b57e57f2",
   "metadata": {
    "id": "b57e57f2"
   },
   "outputs": [
    {
     "data": {
      "text/plain": [
       "count    204691.000000\n",
       "mean         -2.303391\n",
       "std         297.461827\n",
       "min      -90898.610000\n",
       "25%          -0.010000\n",
       "50%           0.000000\n",
       "75%           0.000000\n",
       "max       36159.900000\n",
       "Name: price_difference, dtype: float64"
      ]
     },
     "execution_count": 1261,
     "metadata": {},
     "output_type": "execute_result"
    }
   ],
   "source": [
    "orders_info['price_difference'].describe()"
   ]
  },
  {
   "cell_type": "markdown",
   "id": "f6f3d1e3",
   "metadata": {
    "id": "f6f3d1e3"
   },
   "source": [
    "Looks like the maximum and minimun price differences are huge: some orders are really corrupted. But we also see from the mean and the quartiles that the price difference is neglegible for most orders."
   ]
  },
  {
   "cell_type": "markdown",
   "id": "0643a5f2",
   "metadata": {
    "id": "0643a5f2"
   },
   "source": [
    "## Challenge: Remove outliers\n",
    "\n",
    "Decide on a criteria for removing orders whenever you cannot trust the price difference between `orders` and `orderlines`. \n",
    "\n",
    "Note: this solution does not completely achieve 100% trustable data, but the objective here is to end up with the best possible data with a limited amount of time, which makes a complete revision of the database protocols and the data pipelines is not feasable - and business questions are pending. Documenting and reporting this data cleaning process, including the criteria that you will use for determining what do you consider an \"outlier\", is key. Not being paralized by it is also important!"
   ]
  },
  {
   "cell_type": "code",
   "execution_count": 1262,
   "id": "287a234f",
   "metadata": {
    "id": "287a234f"
   },
   "outputs": [],
   "source": [
    "desc = orders_info[\"price_difference\"].describe().reset_index()\n",
    "mean = desc[\"price_difference\"][1]\n",
    "std = desc[\"price_difference\"][2]\n",
    "outlier_upper = mean + 3 * std\n",
    "outlier_lower = mean - 3 * std"
   ]
  },
  {
   "cell_type": "code",
   "execution_count": 1263,
   "id": "a1598bd9-9eb0-438b-a118-73126f141067",
   "metadata": {},
   "outputs": [
    {
     "data": {
      "text/html": [
       "<div>\n",
       "<style scoped>\n",
       "    .dataframe tbody tr th:only-of-type {\n",
       "        vertical-align: middle;\n",
       "    }\n",
       "\n",
       "    .dataframe tbody tr th {\n",
       "        vertical-align: top;\n",
       "    }\n",
       "\n",
       "    .dataframe thead th {\n",
       "        text-align: right;\n",
       "    }\n",
       "</style>\n",
       "<table border=\"1\" class=\"dataframe\">\n",
       "  <thead>\n",
       "    <tr style=\"text-align: right;\">\n",
       "      <th></th>\n",
       "      <th>total_price</th>\n",
       "      <th>order_id</th>\n",
       "      <th>created_date</th>\n",
       "      <th>total_paid</th>\n",
       "      <th>state</th>\n",
       "      <th>check_orders</th>\n",
       "      <th>price_difference</th>\n",
       "    </tr>\n",
       "  </thead>\n",
       "  <tbody>\n",
       "    <tr>\n",
       "      <th>186388</th>\n",
       "      <td>1124.00</td>\n",
       "      <td>506820</td>\n",
       "      <td>2018-02-06 13:34:20</td>\n",
       "      <td>1.33</td>\n",
       "      <td>Shopping Basket</td>\n",
       "      <td>True</td>\n",
       "      <td>1122.67</td>\n",
       "    </tr>\n",
       "    <tr>\n",
       "      <th>179022</th>\n",
       "      <td>1558.00</td>\n",
       "      <td>498550</td>\n",
       "      <td>2018-01-25 17:57:06</td>\n",
       "      <td>3.81</td>\n",
       "      <td>Shopping Basket</td>\n",
       "      <td>True</td>\n",
       "      <td>1554.19</td>\n",
       "    </tr>\n",
       "    <tr>\n",
       "      <th>162308</th>\n",
       "      <td>1958.36</td>\n",
       "      <td>479621</td>\n",
       "      <td>2018-01-02 13:33:37</td>\n",
       "      <td>26.38</td>\n",
       "      <td>Shopping Basket</td>\n",
       "      <td>True</td>\n",
       "      <td>1931.98</td>\n",
       "    </tr>\n",
       "    <tr>\n",
       "      <th>201739</th>\n",
       "      <td>1968.00</td>\n",
       "      <td>524152</td>\n",
       "      <td>2018-03-09 21:00:48</td>\n",
       "      <td>6.59</td>\n",
       "      <td>Shopping Basket</td>\n",
       "      <td>True</td>\n",
       "      <td>1961.41</td>\n",
       "    </tr>\n",
       "    <tr>\n",
       "      <th>192913</th>\n",
       "      <td>2342.00</td>\n",
       "      <td>514198</td>\n",
       "      <td>2018-02-19 11:40:55</td>\n",
       "      <td>6.59</td>\n",
       "      <td>Shopping Basket</td>\n",
       "      <td>True</td>\n",
       "      <td>2335.41</td>\n",
       "    </tr>\n",
       "    <tr>\n",
       "      <th>193911</th>\n",
       "      <td>3038.00</td>\n",
       "      <td>515325</td>\n",
       "      <td>2018-02-21 11:31:20</td>\n",
       "      <td>13.19</td>\n",
       "      <td>Shopping Basket</td>\n",
       "      <td>True</td>\n",
       "      <td>3024.81</td>\n",
       "    </tr>\n",
       "    <tr>\n",
       "      <th>188169</th>\n",
       "      <td>3112.59</td>\n",
       "      <td>508818</td>\n",
       "      <td>2018-02-09 13:43:30</td>\n",
       "      <td>6.59</td>\n",
       "      <td>Shopping Basket</td>\n",
       "      <td>True</td>\n",
       "      <td>3106.00</td>\n",
       "    </tr>\n",
       "    <tr>\n",
       "      <th>197889</th>\n",
       "      <td>7771.23</td>\n",
       "      <td>519801</td>\n",
       "      <td>2018-03-02 08:59:34</td>\n",
       "      <td>31.22</td>\n",
       "      <td>Shopping Basket</td>\n",
       "      <td>True</td>\n",
       "      <td>7740.01</td>\n",
       "    </tr>\n",
       "    <tr>\n",
       "      <th>56804</th>\n",
       "      <td>250802.37</td>\n",
       "      <td>361200</td>\n",
       "      <td>2017-06-01 11:55:02</td>\n",
       "      <td>214642.47</td>\n",
       "      <td>Shopping Basket</td>\n",
       "      <td>True</td>\n",
       "      <td>36159.90</td>\n",
       "    </tr>\n",
       "  </tbody>\n",
       "</table>\n",
       "</div>"
      ],
      "text/plain": [
       "        total_price  order_id        created_date  total_paid  \\\n",
       "186388      1124.00    506820 2018-02-06 13:34:20        1.33   \n",
       "179022      1558.00    498550 2018-01-25 17:57:06        3.81   \n",
       "162308      1958.36    479621 2018-01-02 13:33:37       26.38   \n",
       "201739      1968.00    524152 2018-03-09 21:00:48        6.59   \n",
       "192913      2342.00    514198 2018-02-19 11:40:55        6.59   \n",
       "193911      3038.00    515325 2018-02-21 11:31:20       13.19   \n",
       "188169      3112.59    508818 2018-02-09 13:43:30        6.59   \n",
       "197889      7771.23    519801 2018-03-02 08:59:34       31.22   \n",
       "56804     250802.37    361200 2017-06-01 11:55:02   214642.47   \n",
       "\n",
       "                  state  check_orders  price_difference  \n",
       "186388  Shopping Basket          True           1122.67  \n",
       "179022  Shopping Basket          True           1554.19  \n",
       "162308  Shopping Basket          True           1931.98  \n",
       "201739  Shopping Basket          True           1961.41  \n",
       "192913  Shopping Basket          True           2335.41  \n",
       "193911  Shopping Basket          True           3024.81  \n",
       "188169  Shopping Basket          True           3106.00  \n",
       "197889  Shopping Basket          True           7740.01  \n",
       "56804   Shopping Basket          True          36159.90  "
      ]
     },
     "execution_count": 1263,
     "metadata": {},
     "output_type": "execute_result"
    }
   ],
   "source": [
    "orders_info[orders_info.price_difference > outlier_upper].sort_values(\"price_difference\")"
   ]
  },
  {
   "cell_type": "code",
   "execution_count": 1264,
   "id": "3ac53ea8-49cf-4a22-9d66-37a74e0c8e14",
   "metadata": {},
   "outputs": [
    {
     "data": {
      "text/plain": [
       "[361200, 479621, 498550, 506820, 508818, 514198, 515325, 519801, 524152]"
      ]
     },
     "execution_count": 1264,
     "metadata": {},
     "output_type": "execute_result"
    }
   ],
   "source": [
    "upper_id = orders_info[\"order_id\"][orders_info.price_difference > outlier_upper].to_list()\n",
    "upper_id"
   ]
  },
  {
   "cell_type": "code",
   "execution_count": 1265,
   "id": "c03e2799-8e4b-4572-a2a4-b9af744be4ce",
   "metadata": {},
   "outputs": [
    {
     "data": {
      "text/plain": [
       "[293308,\n",
       " 297148,\n",
       " 311490,\n",
       " 313023,\n",
       " 334803,\n",
       " 349166,\n",
       " 376851,\n",
       " 431635,\n",
       " 508825,\n",
       " 512894]"
      ]
     },
     "execution_count": 1265,
     "metadata": {},
     "output_type": "execute_result"
    }
   ],
   "source": [
    "lower_id = orders_info[\"order_id\"][orders_info.price_difference < outlier_lower].to_list()\n",
    "lower_id"
   ]
  },
  {
   "cell_type": "code",
   "execution_count": 1266,
   "id": "65d8ed8d-0a47-42e4-80bf-ff16784f7db1",
   "metadata": {},
   "outputs": [],
   "source": [
    "orderlines = orderlines[~orderlines.id_order.isin(upper_id)] \n",
    "orderlines = orderlines[~orderlines.id_order.isin(lower_id)]"
   ]
  },
  {
   "cell_type": "code",
   "execution_count": 1267,
   "id": "ce3f832b-9072-42bb-a1c5-e895ccbba4c4",
   "metadata": {},
   "outputs": [],
   "source": [
    "orders = orders[~orders.order_id.isin(upper_id)]\n",
    "orders = orders[~orders.order_id.isin(lower_id)]"
   ]
  },
  {
   "cell_type": "markdown",
   "id": "c73cf6c5",
   "metadata": {
    "id": "c73cf6c5"
   },
   "source": [
    "Save the data once you are sure you can trust it!"
   ]
  },
  {
   "cell_type": "code",
   "execution_count": 1268,
   "id": "55ca71ef",
   "metadata": {
    "id": "55ca71ef"
   },
   "outputs": [],
   "source": [
    "# run the code only once your \"orderlines\" and \"orders\" are clean\n",
    "# orderlines.to_csv('orderlines_clean.csv', index = False)\n",
    "# orders.to_csv('orders_clean.csv', index = False)\n",
    "\n",
    "# from google.colab import files\n",
    "# files.download(\"orderlines_clean.csv\")\n",
    "# files.download(\"orders_clean.csv\")"
   ]
  },
  {
   "cell_type": "markdown",
   "id": "c223538b",
   "metadata": {
    "id": "c223538b"
   },
   "source": [
    "## Challenge: Cleaning products"
   ]
  },
  {
   "cell_type": "markdown",
   "id": "97cd73c1",
   "metadata": {
    "id": "97cd73c1"
   },
   "source": [
    "Now it is time to clean the products dataset. Let's do a quick review of its major problems: "
   ]
  },
  {
   "cell_type": "code",
   "execution_count": 1269,
   "id": "17aa882f",
   "metadata": {
    "id": "17aa882f"
   },
   "outputs": [
    {
     "name": "stdout",
     "output_type": "stream",
     "text": [
      "<class 'pandas.core.frame.DataFrame'>\n",
      "RangeIndex: 19326 entries, 0 to 19325\n",
      "Data columns (total 7 columns):\n",
      " #   Column       Non-Null Count  Dtype \n",
      "---  ------       --------------  ----- \n",
      " 0   sku          19326 non-null  object\n",
      " 1   name         19326 non-null  object\n",
      " 2   desc         19319 non-null  object\n",
      " 3   price        19280 non-null  object\n",
      " 4   promo_price  19326 non-null  object\n",
      " 5   in_stock     19326 non-null  int64 \n",
      " 6   type         19276 non-null  object\n",
      "dtypes: int64(1), object(6)\n",
      "memory usage: 1.0+ MB\n",
      "None \n",
      "\n",
      "Missing values: sku             0\n",
      "name            0\n",
      "desc            7\n",
      "price          46\n",
      "promo_price     0\n",
      "in_stock        0\n",
      "type           50\n",
      "dtype: int64 \n",
      "\n",
      "Duplicate rows: 8746\n"
     ]
    }
   ],
   "source": [
    "print(products.info(), \"\\n\")\n",
    "print(\"Missing values:\", products.isna().sum(), \"\\n\")\n",
    "print(\"Duplicate rows:\", products.duplicated().sum())"
   ]
  },
  {
   "cell_type": "markdown",
   "id": "fb3f1882",
   "metadata": {
    "id": "fb3f1882"
   },
   "source": [
    "Looking at this overview, we can see that there are different things that have to be changed: \n",
    "\n",
    "* Data types: \n",
    "    * `price` should be a float\n",
    "    * `promo price` should be a float\n",
    "* Duplicated rows. They have to be removed. \n",
    "    * To accomplish this step you can use the method `pd.DataFrame.drop_duplicates()`. Be sure you drop all the duplicates based on the column **sku**, as it is the one you will use to merge with orderlines. \n",
    "* Missing values: \n",
    "    * Description maybe can be inferred by the name\n",
    "    * `price`. Is there a way we can extract the information from another table?\n",
    "    * `type`. Do we need this column for our analysis?\n",
    "    \n",
    "This task can be accomoplished by using all the methods you already know."
   ]
  },
  {
   "cell_type": "markdown",
   "id": "ae90ce67",
   "metadata": {
    "id": "ae90ce67"
   },
   "source": [
    "### Start of the challenge"
   ]
  },
  {
   "cell_type": "markdown",
   "id": "3303b57d",
   "metadata": {
    "id": "3303b57d"
   },
   "source": [
    "#### Duplicates"
   ]
  },
  {
   "cell_type": "code",
   "execution_count": 1290,
   "id": "ca4251ef-45fd-4e64-bb6d-e8a2dc4de6bb",
   "metadata": {
    "id": "ca4251ef-45fd-4e64-bb6d-e8a2dc4de6bb"
   },
   "outputs": [
    {
     "data": {
      "text/html": [
       "<div>\n",
       "<style scoped>\n",
       "    .dataframe tbody tr th:only-of-type {\n",
       "        vertical-align: middle;\n",
       "    }\n",
       "\n",
       "    .dataframe tbody tr th {\n",
       "        vertical-align: top;\n",
       "    }\n",
       "\n",
       "    .dataframe thead th {\n",
       "        text-align: right;\n",
       "    }\n",
       "</style>\n",
       "<table border=\"1\" class=\"dataframe\">\n",
       "  <thead>\n",
       "    <tr style=\"text-align: right;\">\n",
       "      <th></th>\n",
       "      <th>sku</th>\n",
       "      <th>name</th>\n",
       "      <th>desc</th>\n",
       "      <th>price</th>\n",
       "      <th>promo_price</th>\n",
       "      <th>in_stock</th>\n",
       "      <th>type</th>\n",
       "      <th>num_dots</th>\n",
       "      <th>price_int</th>\n",
       "      <th>price_dec</th>\n",
       "      <th>new_price</th>\n",
       "      <th>nd_promo</th>\n",
       "      <th>new_promo</th>\n",
       "    </tr>\n",
       "  </thead>\n",
       "  <tbody>\n",
       "    <tr>\n",
       "      <th>6439</th>\n",
       "      <td>PAC1893</td>\n",
       "      <td>Crucial SSD expansion kit MX300 525GB + 8GB 13...</td>\n",
       "      <td>525GB + SSD expansion 8GB 1333Mhz RAM for Mac ...</td>\n",
       "      <td>321.63</td>\n",
       "      <td>2.895.845</td>\n",
       "      <td>0</td>\n",
       "      <td>1433</td>\n",
       "      <td>1</td>\n",
       "      <td>321</td>\n",
       "      <td>63</td>\n",
       "      <td>321.63</td>\n",
       "      <td>2895845</td>\n",
       "      <td>289.58</td>\n",
       "    </tr>\n",
       "    <tr>\n",
       "      <th>6593</th>\n",
       "      <td>CRU0050</td>\n",
       "      <td>Crucial MX300 275GB SSD Disk</td>\n",
       "      <td>SSD 275GB SATA Hard Disk 3.0 (6Gb / s) for Mac...</td>\n",
       "      <td>98.39</td>\n",
       "      <td>909.944</td>\n",
       "      <td>0</td>\n",
       "      <td>12215397</td>\n",
       "      <td>1</td>\n",
       "      <td>98</td>\n",
       "      <td>39</td>\n",
       "      <td>98.39</td>\n",
       "      <td>909944</td>\n",
       "      <td>90.99</td>\n",
       "    </tr>\n",
       "    <tr>\n",
       "      <th>3144</th>\n",
       "      <td>TUC0232</td>\n",
       "      <td>Housing Flex Elektro Tucano iPhone 6 / 6S Plus...</td>\n",
       "      <td>Cover for iPhone 6 / 6S Plus.</td>\n",
       "      <td>19.9</td>\n",
       "      <td>159.902</td>\n",
       "      <td>0</td>\n",
       "      <td>11865403</td>\n",
       "      <td>1</td>\n",
       "      <td>19</td>\n",
       "      <td>90</td>\n",
       "      <td>19.90</td>\n",
       "      <td>159902</td>\n",
       "      <td>15.99</td>\n",
       "    </tr>\n",
       "    <tr>\n",
       "      <th>10326</th>\n",
       "      <td>NOM0020-A</td>\n",
       "      <td>Open - Nomad Vulcanized LSR Silicone Strap Str...</td>\n",
       "      <td>Reconditioned silicone strap matte black for A...</td>\n",
       "      <td>39.99</td>\n",
       "      <td>273.333</td>\n",
       "      <td>0</td>\n",
       "      <td>2449</td>\n",
       "      <td>1</td>\n",
       "      <td>39</td>\n",
       "      <td>99</td>\n",
       "      <td>39.99</td>\n",
       "      <td>273333</td>\n",
       "      <td>27.33</td>\n",
       "    </tr>\n",
       "    <tr>\n",
       "      <th>2195</th>\n",
       "      <td>OWC0150</td>\n",
       "      <td>OWC Thunderbolt Cable 2 10m Black</td>\n",
       "      <td>Thunderbolt Cable 2 10m</td>\n",
       "      <td>294.99</td>\n",
       "      <td>2.379.889</td>\n",
       "      <td>0</td>\n",
       "      <td>1325</td>\n",
       "      <td>1</td>\n",
       "      <td>294</td>\n",
       "      <td>99</td>\n",
       "      <td>294.99</td>\n",
       "      <td>2379889</td>\n",
       "      <td>237.98</td>\n",
       "    </tr>\n",
       "    <tr>\n",
       "      <th>2296</th>\n",
       "      <td>ADN0030</td>\n",
       "      <td>Adonit Jot Script 2 Evernote Pointer</td>\n",
       "      <td>Crosshair fine tip for cases.</td>\n",
       "      <td>74.99</td>\n",
       "      <td>69.99</td>\n",
       "      <td>0</td>\n",
       "      <td>1229</td>\n",
       "      <td>1</td>\n",
       "      <td>74</td>\n",
       "      <td>99</td>\n",
       "      <td>74.99</td>\n",
       "      <td>6999</td>\n",
       "      <td>69.99</td>\n",
       "    </tr>\n",
       "    <tr>\n",
       "      <th>3460</th>\n",
       "      <td>PAC1326</td>\n",
       "      <td>Pack QNAP TS-253A | 8GB RAM | WD 6TB Network</td>\n",
       "      <td>QNAP NAS Pack + 8GB + RAM memory Hard Drive 6T...</td>\n",
       "      <td>801.29</td>\n",
       "      <td>6.521.791</td>\n",
       "      <td>0</td>\n",
       "      <td>12175397</td>\n",
       "      <td>1</td>\n",
       "      <td>801</td>\n",
       "      <td>29</td>\n",
       "      <td>801.29</td>\n",
       "      <td>6521791</td>\n",
       "      <td>652.17</td>\n",
       "    </tr>\n",
       "    <tr>\n",
       "      <th>2522</th>\n",
       "      <td>LIF0079</td>\n",
       "      <td>Lifeproof LifeActiv Bike Rack + Adapter QuickM...</td>\n",
       "      <td>Bike Mount for iPhone.</td>\n",
       "      <td>39.99</td>\n",
       "      <td>269.903</td>\n",
       "      <td>1</td>\n",
       "      <td>1216</td>\n",
       "      <td>1</td>\n",
       "      <td>39</td>\n",
       "      <td>99</td>\n",
       "      <td>39.99</td>\n",
       "      <td>269903</td>\n",
       "      <td>26.99</td>\n",
       "    </tr>\n",
       "    <tr>\n",
       "      <th>2430</th>\n",
       "      <td>APP1091</td>\n",
       "      <td>Apple iPod Touch 16GB Rosa</td>\n",
       "      <td>New 6th generation iPod Touch 16GB with 8 mega...</td>\n",
       "      <td>229</td>\n",
       "      <td>2.328.113</td>\n",
       "      <td>0</td>\n",
       "      <td>11821715</td>\n",
       "      <td>0</td>\n",
       "      <td>229</td>\n",
       "      <td>00</td>\n",
       "      <td>229.00</td>\n",
       "      <td>2328113</td>\n",
       "      <td>232.81</td>\n",
       "    </tr>\n",
       "    <tr>\n",
       "      <th>9142</th>\n",
       "      <td>PAC2430</td>\n",
       "      <td>Synology DS918 NAS Server | 8GB RAM | 12TB (4x...</td>\n",
       "      <td>NAS server of the Plus Series for companies se...</td>\n",
       "      <td>1196.94</td>\n",
       "      <td>10.093.675</td>\n",
       "      <td>0</td>\n",
       "      <td>12175397</td>\n",
       "      <td>1</td>\n",
       "      <td>1196</td>\n",
       "      <td>94</td>\n",
       "      <td>1196.94</td>\n",
       "      <td>10093675</td>\n",
       "      <td>1009.36</td>\n",
       "    </tr>\n",
       "  </tbody>\n",
       "</table>\n",
       "</div>"
      ],
      "text/plain": [
       "             sku                                               name  \\\n",
       "6439     PAC1893  Crucial SSD expansion kit MX300 525GB + 8GB 13...   \n",
       "6593     CRU0050                       Crucial MX300 275GB SSD Disk   \n",
       "3144     TUC0232  Housing Flex Elektro Tucano iPhone 6 / 6S Plus...   \n",
       "10326  NOM0020-A  Open - Nomad Vulcanized LSR Silicone Strap Str...   \n",
       "2195     OWC0150                  OWC Thunderbolt Cable 2 10m Black   \n",
       "2296     ADN0030               Adonit Jot Script 2 Evernote Pointer   \n",
       "3460     PAC1326       Pack QNAP TS-253A | 8GB RAM | WD 6TB Network   \n",
       "2522     LIF0079  Lifeproof LifeActiv Bike Rack + Adapter QuickM...   \n",
       "2430     APP1091                         Apple iPod Touch 16GB Rosa   \n",
       "9142     PAC2430  Synology DS918 NAS Server | 8GB RAM | 12TB (4x...   \n",
       "\n",
       "                                                    desc    price promo_price  \\\n",
       "6439   525GB + SSD expansion 8GB 1333Mhz RAM for Mac ...   321.63   2.895.845   \n",
       "6593   SSD 275GB SATA Hard Disk 3.0 (6Gb / s) for Mac...    98.39     909.944   \n",
       "3144                       Cover for iPhone 6 / 6S Plus.     19.9     159.902   \n",
       "10326  Reconditioned silicone strap matte black for A...    39.99     273.333   \n",
       "2195                             Thunderbolt Cable 2 10m   294.99   2.379.889   \n",
       "2296                       Crosshair fine tip for cases.    74.99       69.99   \n",
       "3460   QNAP NAS Pack + 8GB + RAM memory Hard Drive 6T...   801.29   6.521.791   \n",
       "2522                              Bike Mount for iPhone.    39.99     269.903   \n",
       "2430   New 6th generation iPod Touch 16GB with 8 mega...      229   2.328.113   \n",
       "9142   NAS server of the Plus Series for companies se...  1196.94  10.093.675   \n",
       "\n",
       "       in_stock      type  num_dots price_int price_dec new_price  nd_promo  \\\n",
       "6439          0      1433         1       321        63    321.63   2895845   \n",
       "6593          0  12215397         1        98        39     98.39    909944   \n",
       "3144          0  11865403         1        19        90     19.90    159902   \n",
       "10326         0      2449         1        39        99     39.99    273333   \n",
       "2195          0      1325         1       294        99    294.99   2379889   \n",
       "2296          0      1229         1        74        99     74.99      6999   \n",
       "3460          0  12175397         1       801        29    801.29   6521791   \n",
       "2522          1      1216         1        39        99     39.99    269903   \n",
       "2430          0  11821715         0       229        00    229.00   2328113   \n",
       "9142          0  12175397         1      1196        94   1196.94  10093675   \n",
       "\n",
       "      new_promo  \n",
       "6439     289.58  \n",
       "6593      90.99  \n",
       "3144      15.99  \n",
       "10326     27.33  \n",
       "2195     237.98  \n",
       "2296      69.99  \n",
       "3460     652.17  \n",
       "2522      26.99  \n",
       "2430     232.81  \n",
       "9142    1009.36  "
      ]
     },
     "execution_count": 1290,
     "metadata": {},
     "output_type": "execute_result"
    }
   ],
   "source": [
    "products.drop_duplicates(subset = [\"sku\"], inplace = True)\n",
    "products.sample(10)"
   ]
  },
  {
   "cell_type": "markdown",
   "id": "4182e575",
   "metadata": {
    "id": "4182e575"
   },
   "source": [
    "#### Fix data types"
   ]
  },
  {
   "cell_type": "code",
   "execution_count": 1271,
   "id": "62b6afb0",
   "metadata": {
    "id": "62b6afb0"
   },
   "outputs": [
    {
     "data": {
      "text/plain": [
       "sku             0\n",
       "name            0\n",
       "desc            7\n",
       "price           0\n",
       "promo_price     0\n",
       "in_stock        0\n",
       "type           50\n",
       "dtype: int64"
      ]
     },
     "execution_count": 1271,
     "metadata": {},
     "output_type": "execute_result"
    }
   ],
   "source": [
    "missing_price_sku = products[products.price.isna()][\"sku\"].to_list()\n",
    "price_lookup = orderlines[orderlines.sku.isin(missing_price_sku)]\n",
    "price_lookup.drop_duplicates(subset = \"sku\", inplace = True)\n",
    "price_lookup.rename(columns = {\"unit_price\": \"price\"}, inplace = True)\n",
    "price_lookup[\"price\"] = price_lookup.price.astype(str)\n",
    "price_lookup = price_lookup[[\"sku\", \"price\"]]\n",
    "price_lookup = price_lookup.set_index(\"sku\")[\"price\"].to_dict()\n",
    "products[\"price\"] = products[\"price\"].fillna(products.sku.map(price_lookup))\n",
    "products.dropna(subset = \"price\", inplace = True)\n",
    "products.isna().sum()"
   ]
  },
  {
   "cell_type": "code",
   "execution_count": 1272,
   "id": "c04667f1-574f-4685-a412-a792ee913585",
   "metadata": {},
   "outputs": [
    {
     "data": {
      "text/html": [
       "<div>\n",
       "<style scoped>\n",
       "    .dataframe tbody tr th:only-of-type {\n",
       "        vertical-align: middle;\n",
       "    }\n",
       "\n",
       "    .dataframe tbody tr th {\n",
       "        vertical-align: top;\n",
       "    }\n",
       "\n",
       "    .dataframe thead th {\n",
       "        text-align: right;\n",
       "    }\n",
       "</style>\n",
       "<table border=\"1\" class=\"dataframe\">\n",
       "  <thead>\n",
       "    <tr style=\"text-align: right;\">\n",
       "      <th></th>\n",
       "      <th>sku</th>\n",
       "      <th>name</th>\n",
       "      <th>desc</th>\n",
       "      <th>price</th>\n",
       "      <th>promo_price</th>\n",
       "      <th>in_stock</th>\n",
       "      <th>type</th>\n",
       "    </tr>\n",
       "  </thead>\n",
       "  <tbody>\n",
       "    <tr>\n",
       "      <th>15541</th>\n",
       "      <td>NTE0048-A</td>\n",
       "      <td>Open - NewerTech NuGuard KX iPad Air Case Black</td>\n",
       "      <td>IPad case ultra resistant to extreme condition...</td>\n",
       "      <td>79.99</td>\n",
       "      <td>177.425</td>\n",
       "      <td>0</td>\n",
       "      <td>1298</td>\n",
       "    </tr>\n",
       "    <tr>\n",
       "      <th>13245</th>\n",
       "      <td>MUV0183</td>\n",
       "      <td>Muvit iPhone Folio 7 / 6s / 6 White / Transparent</td>\n",
       "      <td>Soft polyurethane cover with lid for iPhone 7 ...</td>\n",
       "      <td>13.95</td>\n",
       "      <td>89.903</td>\n",
       "      <td>0</td>\n",
       "      <td>11865403</td>\n",
       "    </tr>\n",
       "    <tr>\n",
       "      <th>17856</th>\n",
       "      <td>PAC2351</td>\n",
       "      <td>Synology DS718 + NAS Server | 16GB RAM | 20TB ...</td>\n",
       "      <td>Scalable NAS server with transcoding 4K: 4-cor...</td>\n",
       "      <td>1520.71</td>\n",
       "      <td>13.311.791</td>\n",
       "      <td>0</td>\n",
       "      <td>12175397</td>\n",
       "    </tr>\n",
       "    <tr>\n",
       "      <th>1874</th>\n",
       "      <td>MYK0012</td>\n",
       "      <td>MyKronoz ZeWatch2 Bluetooth Watch White</td>\n",
       "      <td>SmartWatch monitoring activity and sleep with ...</td>\n",
       "      <td>79</td>\n",
       "      <td>74.899</td>\n",
       "      <td>0</td>\n",
       "      <td>11905404</td>\n",
       "    </tr>\n",
       "    <tr>\n",
       "      <th>11475</th>\n",
       "      <td>PIE0016</td>\n",
       "      <td>Part load module connection and micro iPhone 4...</td>\n",
       "      <td>Load module connection parts and original micr...</td>\n",
       "      <td>19.99</td>\n",
       "      <td>199.892</td>\n",
       "      <td>0</td>\n",
       "      <td>21485407</td>\n",
       "    </tr>\n",
       "    <tr>\n",
       "      <th>1754</th>\n",
       "      <td>LEP0024</td>\n",
       "      <td>Lepow Poki 5000mAh External Battery USB Green ...</td>\n",
       "      <td>external battery USB dual mode charge small an...</td>\n",
       "      <td>59.99</td>\n",
       "      <td>349.932</td>\n",
       "      <td>0</td>\n",
       "      <td>1515</td>\n",
       "    </tr>\n",
       "    <tr>\n",
       "      <th>12636</th>\n",
       "      <td>SPE0172</td>\n",
       "      <td>Speck SeeThru Case Macbook Pro 13 \"Rosa</td>\n",
       "      <td>Protective polycarbonate shell for MacBook Pro...</td>\n",
       "      <td>49.9</td>\n",
       "      <td>399.905</td>\n",
       "      <td>0</td>\n",
       "      <td>13835403</td>\n",
       "    </tr>\n",
       "    <tr>\n",
       "      <th>14965</th>\n",
       "      <td>SHE0039-A</td>\n",
       "      <td>(Open) SwitchEasy iPhone Case 0.35 7 Plus</td>\n",
       "      <td>Ultra Thin Case for iPhone 7 Plus in White</td>\n",
       "      <td>9.99</td>\n",
       "      <td>24.073</td>\n",
       "      <td>0</td>\n",
       "      <td>1298</td>\n",
       "    </tr>\n",
       "    <tr>\n",
       "      <th>13193</th>\n",
       "      <td>PAC1511</td>\n",
       "      <td>Pack QNAP TS-251A NAS Server | 8GB RAM | WD 4T...</td>\n",
       "      <td>NAS with 8GB RAM and two hard disks 2TB (2x2TB...</td>\n",
       "      <td>6.336.689</td>\n",
       "      <td>5.609.899</td>\n",
       "      <td>0</td>\n",
       "      <td>12175397</td>\n",
       "    </tr>\n",
       "    <tr>\n",
       "      <th>17667</th>\n",
       "      <td>PAC2195</td>\n",
       "      <td>Second hand - Apple iMac 20 \"Core 2 Duo 226GHz...</td>\n",
       "      <td>Refurbished iMac 20 inch Core 2 Duo | 2GB RAM ...</td>\n",
       "      <td>1199</td>\n",
       "      <td>2.555.945</td>\n",
       "      <td>0</td>\n",
       "      <td>5,43E+15</td>\n",
       "    </tr>\n",
       "  </tbody>\n",
       "</table>\n",
       "</div>"
      ],
      "text/plain": [
       "             sku                                               name  \\\n",
       "15541  NTE0048-A    Open - NewerTech NuGuard KX iPad Air Case Black   \n",
       "13245    MUV0183  Muvit iPhone Folio 7 / 6s / 6 White / Transparent   \n",
       "17856    PAC2351  Synology DS718 + NAS Server | 16GB RAM | 20TB ...   \n",
       "1874     MYK0012            MyKronoz ZeWatch2 Bluetooth Watch White   \n",
       "11475    PIE0016  Part load module connection and micro iPhone 4...   \n",
       "1754     LEP0024  Lepow Poki 5000mAh External Battery USB Green ...   \n",
       "12636    SPE0172            Speck SeeThru Case Macbook Pro 13 \"Rosa   \n",
       "14965  SHE0039-A          (Open) SwitchEasy iPhone Case 0.35 7 Plus   \n",
       "13193    PAC1511  Pack QNAP TS-251A NAS Server | 8GB RAM | WD 4T...   \n",
       "17667    PAC2195  Second hand - Apple iMac 20 \"Core 2 Duo 226GHz...   \n",
       "\n",
       "                                                    desc      price  \\\n",
       "15541  IPad case ultra resistant to extreme condition...      79.99   \n",
       "13245  Soft polyurethane cover with lid for iPhone 7 ...      13.95   \n",
       "17856  Scalable NAS server with transcoding 4K: 4-cor...    1520.71   \n",
       "1874   SmartWatch monitoring activity and sleep with ...         79   \n",
       "11475  Load module connection parts and original micr...      19.99   \n",
       "1754   external battery USB dual mode charge small an...      59.99   \n",
       "12636  Protective polycarbonate shell for MacBook Pro...       49.9   \n",
       "14965         Ultra Thin Case for iPhone 7 Plus in White       9.99   \n",
       "13193  NAS with 8GB RAM and two hard disks 2TB (2x2TB...  6.336.689   \n",
       "17667  Refurbished iMac 20 inch Core 2 Duo | 2GB RAM ...       1199   \n",
       "\n",
       "      promo_price  in_stock      type  \n",
       "15541     177.425         0      1298  \n",
       "13245      89.903         0  11865403  \n",
       "17856  13.311.791         0  12175397  \n",
       "1874       74.899         0  11905404  \n",
       "11475     199.892         0  21485407  \n",
       "1754      349.932         0      1515  \n",
       "12636     399.905         0  13835403  \n",
       "14965      24.073         0      1298  \n",
       "13193   5.609.899         0  12175397  \n",
       "17667   2.555.945         0  5,43E+15  "
      ]
     },
     "execution_count": 1272,
     "metadata": {},
     "output_type": "execute_result"
    }
   ],
   "source": [
    "products.sample(10)"
   ]
  },
  {
   "cell_type": "code",
   "execution_count": 1273,
   "id": "014ce863-454a-4cc2-af78-5c20dcf3c989",
   "metadata": {},
   "outputs": [
    {
     "data": {
      "text/html": [
       "<div>\n",
       "<style scoped>\n",
       "    .dataframe tbody tr th:only-of-type {\n",
       "        vertical-align: middle;\n",
       "    }\n",
       "\n",
       "    .dataframe tbody tr th {\n",
       "        vertical-align: top;\n",
       "    }\n",
       "\n",
       "    .dataframe thead th {\n",
       "        text-align: right;\n",
       "    }\n",
       "</style>\n",
       "<table border=\"1\" class=\"dataframe\">\n",
       "  <thead>\n",
       "    <tr style=\"text-align: right;\">\n",
       "      <th></th>\n",
       "      <th>sku</th>\n",
       "      <th>price</th>\n",
       "    </tr>\n",
       "  </thead>\n",
       "  <tbody>\n",
       "    <tr>\n",
       "      <th>281139</th>\n",
       "      <td>UBI0008</td>\n",
       "      <td>129.99</td>\n",
       "    </tr>\n",
       "    <tr>\n",
       "      <th>164222</th>\n",
       "      <td>PAC2006</td>\n",
       "      <td>2075.24</td>\n",
       "    </tr>\n",
       "    <tr>\n",
       "      <th>71897</th>\n",
       "      <td>QNA0183</td>\n",
       "      <td>2042.99</td>\n",
       "    </tr>\n",
       "    <tr>\n",
       "      <th>14038</th>\n",
       "      <td>PAC0562</td>\n",
       "      <td>89.99</td>\n",
       "    </tr>\n",
       "    <tr>\n",
       "      <th>5125</th>\n",
       "      <td>APP1477</td>\n",
       "      <td>489.0</td>\n",
       "    </tr>\n",
       "    <tr>\n",
       "      <th>102730</th>\n",
       "      <td>REP0369</td>\n",
       "      <td>69.99</td>\n",
       "    </tr>\n",
       "    <tr>\n",
       "      <th>13150</th>\n",
       "      <td>DLK0132</td>\n",
       "      <td>142.9</td>\n",
       "    </tr>\n",
       "    <tr>\n",
       "      <th>151377</th>\n",
       "      <td>PAC1971</td>\n",
       "      <td>2970.18</td>\n",
       "    </tr>\n",
       "    <tr>\n",
       "      <th>5514</th>\n",
       "      <td>PAC1525</td>\n",
       "      <td>1458.99</td>\n",
       "    </tr>\n",
       "    <tr>\n",
       "      <th>75591</th>\n",
       "      <td>PAC1480</td>\n",
       "      <td>892.99</td>\n",
       "    </tr>\n",
       "  </tbody>\n",
       "</table>\n",
       "</div>"
      ],
      "text/plain": [
       "            sku    price\n",
       "281139  UBI0008   129.99\n",
       "164222  PAC2006  2075.24\n",
       "71897   QNA0183  2042.99\n",
       "14038   PAC0562    89.99\n",
       "5125    APP1477    489.0\n",
       "102730  REP0369    69.99\n",
       "13150   DLK0132    142.9\n",
       "151377  PAC1971  2970.18\n",
       "5514    PAC1525  1458.99\n",
       "75591   PAC1480   892.99"
      ]
     },
     "execution_count": 1273,
     "metadata": {},
     "output_type": "execute_result"
    }
   ],
   "source": [
    "products[\"num_dots\"] = products.price.str.count(r\"\\.\")\n",
    "two_dots_sku = products[products.num_dots >= 2][\"sku\"].to_list()\n",
    "dots_lookup = orderlines[orderlines.sku.isin(two_dots_sku)]\n",
    "dots_lookup.drop_duplicates(subset = \"sku\", inplace = True)\n",
    "dots_lookup.rename(columns = {\"unit_price\": \"price\"}, inplace = True)\n",
    "dots_lookup[\"price\"] = dots_lookup.price.astype(str)\n",
    "dots_lookup = dots_lookup[[\"sku\", \"price\"]]\n",
    "dots_lookup.sample(10)"
   ]
  },
  {
   "cell_type": "code",
   "execution_count": 1274,
   "id": "b5694380-2b53-4532-9100-b10e35c5835b",
   "metadata": {
    "tags": []
   },
   "outputs": [],
   "source": [
    "products.set_index(\"sku\", inplace = True)"
   ]
  },
  {
   "cell_type": "code",
   "execution_count": 1275,
   "id": "ebbc15f4-9b50-4e0c-b43a-fe04650d30fe",
   "metadata": {},
   "outputs": [],
   "source": [
    "products.update(dots_lookup.set_index(\"sku\"))"
   ]
  },
  {
   "cell_type": "code",
   "execution_count": 1276,
   "id": "6ad4c415-3146-4e8c-b42a-2cb3fea28ca2",
   "metadata": {},
   "outputs": [],
   "source": [
    "products.reset_index(inplace = True)"
   ]
  },
  {
   "cell_type": "code",
   "execution_count": 1277,
   "id": "99287b50-1159-4d9e-bb3f-f56cf90375a6",
   "metadata": {},
   "outputs": [],
   "source": [
    "products[\"num_dots\"] = products.price.str.count(r\"\\.\")\n",
    "products[\"num_dots\"].value_counts()\n",
    "products = products[products.num_dots < 2]"
   ]
  },
  {
   "cell_type": "code",
   "execution_count": 1278,
   "id": "e2b92c88-862a-4fe9-bb8c-784374e65be5",
   "metadata": {},
   "outputs": [],
   "source": [
    "products[[\"price_int\", \"price_dec\"]] = products.price.str.split(r\"\\.\", expand = True)"
   ]
  },
  {
   "cell_type": "code",
   "execution_count": 1279,
   "id": "6d5dedb3-dfbc-46c0-aaae-21979747dfb3",
   "metadata": {},
   "outputs": [],
   "source": [
    "products[\"price_dec\"] = products.price_dec.fillna(value = \"00\")"
   ]
  },
  {
   "cell_type": "code",
   "execution_count": 1281,
   "id": "d32a25a6-2301-44b4-9026-0a3a9d4bb821",
   "metadata": {},
   "outputs": [],
   "source": [
    "products[\"price_dec\"] = products.price_dec.apply(lambda x: x + \"0\" if len(x) == 1 else x[0:2])"
   ]
  },
  {
   "cell_type": "code",
   "execution_count": 1283,
   "id": "48a9f1aa-feab-4c30-8ccb-10b0d88c1dfe",
   "metadata": {},
   "outputs": [],
   "source": [
    "products[\"new_price\"] = products[\"price_int\"] + \".\" + products[\"price_dec\"]"
   ]
  },
  {
   "cell_type": "code",
   "execution_count": 1284,
   "id": "d233a63a-ab56-4fab-9040-11dc3d3b97eb",
   "metadata": {},
   "outputs": [],
   "source": [
    "products[\"nd_promo\"] = products.promo_price.str.replace(r\"\\.\", \"\")"
   ]
  },
  {
   "cell_type": "code",
   "execution_count": 1285,
   "id": "6cdb8fa4-9d65-41ed-b781-00e129533101",
   "metadata": {},
   "outputs": [],
   "source": [
    "products[\"new_promo\"] = products.apply(lambda row: row[\"nd_promo\"][0: (len(row[\"new_price\"]) - 1)], axis = 1)"
   ]
  },
  {
   "cell_type": "code",
   "execution_count": 1286,
   "id": "770526eb-d2a2-4449-91ec-e9e3be1de333",
   "metadata": {},
   "outputs": [],
   "source": [
    "products[\"new_promo\"] = products.new_promo.apply(lambda x: x[0:-2] + \".\" + x[-2:])"
   ]
  },
  {
   "cell_type": "code",
   "execution_count": 1291,
   "id": "195a75f4-5e91-427c-91fb-7588e6896108",
   "metadata": {},
   "outputs": [],
   "source": [
    "products[\"price\"] = pd.to_numeric(products.new_price)"
   ]
  },
  {
   "cell_type": "code",
   "execution_count": 1292,
   "id": "f0f26e2a-07cf-4e8e-8d90-787da0be3e9d",
   "metadata": {},
   "outputs": [],
   "source": [
    "products[\"promo_price\"] = pd.to_numeric(products.new_promo)"
   ]
  },
  {
   "cell_type": "code",
   "execution_count": 1293,
   "id": "e96b4bd4-3b16-43df-899a-6e951c1fb989",
   "metadata": {},
   "outputs": [],
   "source": [
    "products.drop([\"num_dots\", \"price_int\", \"price_dec\", \"new_price\", \"nd_promo\", \"new_promo\"], axis = 1, inplace = True)"
   ]
  },
  {
   "cell_type": "code",
   "execution_count": 1294,
   "id": "e08f2f3e-ca11-4049-916c-ecc6b0f8d2c6",
   "metadata": {},
   "outputs": [
    {
     "data": {
      "text/plain": [
       "sku             object\n",
       "name            object\n",
       "desc            object\n",
       "price          float64\n",
       "promo_price    float64\n",
       "in_stock         int64\n",
       "type            object\n",
       "dtype: object"
      ]
     },
     "execution_count": 1294,
     "metadata": {},
     "output_type": "execute_result"
    }
   ],
   "source": [
    "products.dtypes"
   ]
  },
  {
   "cell_type": "code",
   "execution_count": 1295,
   "id": "e5aef7fc-c246-41a1-a4d7-82fa41b53cfc",
   "metadata": {},
   "outputs": [
    {
     "data": {
      "text/plain": [
       "(10386, 7)"
      ]
     },
     "execution_count": 1295,
     "metadata": {},
     "output_type": "execute_result"
    }
   ],
   "source": [
    "products.shape"
   ]
  },
  {
   "cell_type": "code",
   "execution_count": 1296,
   "id": "06bedf6c-fe84-43e5-8533-e3945bf98ab8",
   "metadata": {},
   "outputs": [],
   "source": [
    "products[\"promo_price\"] = products.apply(lambda row: row[\"promo_price\"] * 0.1 if row[\"price\"] < (row[\"promo_price\"] / 1.5) else row[\"promo_price\"], axis = 1)"
   ]
  },
  {
   "cell_type": "code",
   "execution_count": 1297,
   "id": "209b7aa5-8f23-47d3-bb03-d5b3b33b58d4",
   "metadata": {},
   "outputs": [
    {
     "data": {
      "text/html": [
       "<div>\n",
       "<style scoped>\n",
       "    .dataframe tbody tr th:only-of-type {\n",
       "        vertical-align: middle;\n",
       "    }\n",
       "\n",
       "    .dataframe tbody tr th {\n",
       "        vertical-align: top;\n",
       "    }\n",
       "\n",
       "    .dataframe thead th {\n",
       "        text-align: right;\n",
       "    }\n",
       "</style>\n",
       "<table border=\"1\" class=\"dataframe\">\n",
       "  <thead>\n",
       "    <tr style=\"text-align: right;\">\n",
       "      <th></th>\n",
       "      <th>sku</th>\n",
       "      <th>name</th>\n",
       "      <th>desc</th>\n",
       "      <th>price</th>\n",
       "      <th>promo_price</th>\n",
       "      <th>in_stock</th>\n",
       "      <th>type</th>\n",
       "    </tr>\n",
       "  </thead>\n",
       "  <tbody>\n",
       "    <tr>\n",
       "      <th>15</th>\n",
       "      <td>MOS0021</td>\n",
       "      <td>Clearguard Moshi MacBook Pro and Air</td>\n",
       "      <td>Keyboard Protector MacBook Pro 13-inch Retina ...</td>\n",
       "      <td>24.95</td>\n",
       "      <td>24.98</td>\n",
       "      <td>0</td>\n",
       "      <td>13835403</td>\n",
       "    </tr>\n",
       "    <tr>\n",
       "      <th>39</th>\n",
       "      <td>JMO0026</td>\n",
       "      <td>Just Mobile Lazy Couch Support Mac and iPad</td>\n",
       "      <td>Mac and iPad small lift stand.</td>\n",
       "      <td>19.95</td>\n",
       "      <td>19.98</td>\n",
       "      <td>0</td>\n",
       "      <td>8696</td>\n",
       "    </tr>\n",
       "    <tr>\n",
       "      <th>109</th>\n",
       "      <td>APP0574</td>\n",
       "      <td>Apple MacBook Pro 133 '' i7 29GHz | 4GB RAM | ...</td>\n",
       "      <td>Apple MacBook Pro 133 inches (MD101Y / A) with...</td>\n",
       "      <td>1379.00</td>\n",
       "      <td>1385.58</td>\n",
       "      <td>0</td>\n",
       "      <td>1282</td>\n",
       "    </tr>\n",
       "    <tr>\n",
       "      <th>167</th>\n",
       "      <td>OWC0037</td>\n",
       "      <td>OWC Mercury Elite Pro Mini aluminum box 25 \"FW...</td>\n",
       "      <td>outer case 25 inch SATA eSATA / FW800 / FW400 ...</td>\n",
       "      <td>69.99</td>\n",
       "      <td>74.89</td>\n",
       "      <td>0</td>\n",
       "      <td>12995397</td>\n",
       "    </tr>\n",
       "    <tr>\n",
       "      <th>251</th>\n",
       "      <td>KIN0074</td>\n",
       "      <td>Kingston DataTraveler SE9 8GB USB 2.0 key</td>\n",
       "      <td>8GB USB 2.0 key minimalist design.</td>\n",
       "      <td>4.99</td>\n",
       "      <td>5.78</td>\n",
       "      <td>0</td>\n",
       "      <td>57445397</td>\n",
       "    </tr>\n",
       "    <tr>\n",
       "      <th>...</th>\n",
       "      <td>...</td>\n",
       "      <td>...</td>\n",
       "      <td>...</td>\n",
       "      <td>...</td>\n",
       "      <td>...</td>\n",
       "      <td>...</td>\n",
       "      <td>...</td>\n",
       "    </tr>\n",
       "    <tr>\n",
       "      <th>10188</th>\n",
       "      <td>CAV0008</td>\n",
       "      <td>Cavus Support Wall Play 1 White</td>\n",
       "      <td>Support for speaker Play 1 Sonos</td>\n",
       "      <td>29.00</td>\n",
       "      <td>35.09</td>\n",
       "      <td>1</td>\n",
       "      <td>5398</td>\n",
       "    </tr>\n",
       "    <tr>\n",
       "      <th>10193</th>\n",
       "      <td>CAV0009</td>\n",
       "      <td>Cavus Foot Support Sonos Play 1 Black</td>\n",
       "      <td>Floor stand for Speaker Sonos Play 1</td>\n",
       "      <td>59.00</td>\n",
       "      <td>71.39</td>\n",
       "      <td>1</td>\n",
       "      <td>5398</td>\n",
       "    </tr>\n",
       "    <tr>\n",
       "      <th>10194</th>\n",
       "      <td>CAV0010</td>\n",
       "      <td>Cavus Foot Support Sonos Play 1 White</td>\n",
       "      <td>Floor stand for Speaker Sonos Play 1</td>\n",
       "      <td>59.00</td>\n",
       "      <td>71.39</td>\n",
       "      <td>0</td>\n",
       "      <td>5398</td>\n",
       "    </tr>\n",
       "    <tr>\n",
       "      <th>10314</th>\n",
       "      <td>MOP0108</td>\n",
       "      <td>Mophie Powerstation Mini Universal 4000mAh Bat...</td>\n",
       "      <td>external battery capacity 4000mAh output volta...</td>\n",
       "      <td>69.95</td>\n",
       "      <td>79.89</td>\n",
       "      <td>0</td>\n",
       "      <td>1515</td>\n",
       "    </tr>\n",
       "    <tr>\n",
       "      <th>10480</th>\n",
       "      <td>DJI0025</td>\n",
       "      <td>DJI Mavic Air Drone Black Onyx cuadricóptero</td>\n",
       "      <td>Drone cuadricóptero laptop with integrated cam...</td>\n",
       "      <td>701.65</td>\n",
       "      <td>849.00</td>\n",
       "      <td>0</td>\n",
       "      <td>11905404</td>\n",
       "    </tr>\n",
       "  </tbody>\n",
       "</table>\n",
       "<p>323 rows × 7 columns</p>\n",
       "</div>"
      ],
      "text/plain": [
       "           sku                                               name  \\\n",
       "15     MOS0021               Clearguard Moshi MacBook Pro and Air   \n",
       "39     JMO0026        Just Mobile Lazy Couch Support Mac and iPad   \n",
       "109    APP0574  Apple MacBook Pro 133 '' i7 29GHz | 4GB RAM | ...   \n",
       "167    OWC0037  OWC Mercury Elite Pro Mini aluminum box 25 \"FW...   \n",
       "251    KIN0074          Kingston DataTraveler SE9 8GB USB 2.0 key   \n",
       "...        ...                                                ...   \n",
       "10188  CAV0008                    Cavus Support Wall Play 1 White   \n",
       "10193  CAV0009              Cavus Foot Support Sonos Play 1 Black   \n",
       "10194  CAV0010              Cavus Foot Support Sonos Play 1 White   \n",
       "10314  MOP0108  Mophie Powerstation Mini Universal 4000mAh Bat...   \n",
       "10480  DJI0025       DJI Mavic Air Drone Black Onyx cuadricóptero   \n",
       "\n",
       "                                                    desc    price  \\\n",
       "15     Keyboard Protector MacBook Pro 13-inch Retina ...    24.95   \n",
       "39                        Mac and iPad small lift stand.    19.95   \n",
       "109    Apple MacBook Pro 133 inches (MD101Y / A) with...  1379.00   \n",
       "167    outer case 25 inch SATA eSATA / FW800 / FW400 ...    69.99   \n",
       "251                   8GB USB 2.0 key minimalist design.     4.99   \n",
       "...                                                  ...      ...   \n",
       "10188                   Support for speaker Play 1 Sonos    29.00   \n",
       "10193               Floor stand for Speaker Sonos Play 1    59.00   \n",
       "10194               Floor stand for Speaker Sonos Play 1    59.00   \n",
       "10314  external battery capacity 4000mAh output volta...    69.95   \n",
       "10480  Drone cuadricóptero laptop with integrated cam...   701.65   \n",
       "\n",
       "       promo_price  in_stock      type  \n",
       "15           24.98         0  13835403  \n",
       "39           19.98         0      8696  \n",
       "109        1385.58         0      1282  \n",
       "167          74.89         0  12995397  \n",
       "251           5.78         0  57445397  \n",
       "...            ...       ...       ...  \n",
       "10188        35.09         1      5398  \n",
       "10193        71.39         1      5398  \n",
       "10194        71.39         0      5398  \n",
       "10314        79.89         0      1515  \n",
       "10480       849.00         0  11905404  \n",
       "\n",
       "[323 rows x 7 columns]"
      ]
     },
     "execution_count": 1297,
     "metadata": {},
     "output_type": "execute_result"
    }
   ],
   "source": [
    "products[products.price < products.promo_price]"
   ]
  },
  {
   "cell_type": "code",
   "execution_count": 1298,
   "id": "a0cb8f04-2afa-4089-92b3-3fdee8760fb2",
   "metadata": {},
   "outputs": [
    {
     "data": {
      "text/plain": [
       "117       299638\n",
       "192       299706\n",
       "198       299712\n",
       "253       299766\n",
       "285       299799\n",
       "           ...  \n",
       "263415    491926\n",
       "263416    491926\n",
       "263418    491926\n",
       "273122    510703\n",
       "276811    515700\n",
       "Name: id_order, Length: 1414, dtype: int64"
      ]
     },
     "execution_count": 1298,
     "metadata": {},
     "output_type": "execute_result"
    }
   ],
   "source": [
    "missing_products = orderlines[~orderlines.sku.isin(products.sku)]\n",
    "missing_products = missing_products[\"id_order\"]\n",
    "missing_products"
   ]
  },
  {
   "cell_type": "code",
   "execution_count": 1299,
   "id": "49c156f0-7b70-49ac-97f9-1b3010fefb82",
   "metadata": {},
   "outputs": [],
   "source": [
    "orders[orders.order_id.isin(missing_products)]\n",
    "orders = orders[~orders.order_id.isin(missing_products)]"
   ]
  },
  {
   "cell_type": "code",
   "execution_count": 1300,
   "id": "8e93928b-1d39-4735-aa23-a70e18832612",
   "metadata": {},
   "outputs": [],
   "source": [
    "orderlines = orderlines[orderlines.sku.isin(products.sku)]"
   ]
  },
  {
   "cell_type": "markdown",
   "id": "45d4cc4b-2e8a-4ca1-abf8-fdde96350a42",
   "metadata": {
    "id": "45d4cc4b-2e8a-4ca1-abf8-fdde96350a42"
   },
   "source": [
    "##### Deal with the \"price\" column"
   ]
  },
  {
   "cell_type": "markdown",
   "id": "bb163b82",
   "metadata": {
    "id": "bb163b82"
   },
   "source": [
    "#### Missing values"
   ]
  },
  {
   "cell_type": "code",
   "execution_count": 1301,
   "id": "WIeohS8sdUNh",
   "metadata": {
    "id": "WIeohS8sdUNh"
   },
   "outputs": [
    {
     "data": {
      "text/plain": [
       "48"
      ]
     },
     "execution_count": 1301,
     "metadata": {},
     "output_type": "execute_result"
    }
   ],
   "source": [
    "products.type.isna().sum()"
   ]
  },
  {
   "cell_type": "code",
   "execution_count": 1302,
   "id": "d75840d6-9edd-4f74-94a2-2a62039e107a",
   "metadata": {},
   "outputs": [],
   "source": [
    "products[\"type\"] = products.type.fillna(value = \"0\")"
   ]
  },
  {
   "cell_type": "markdown",
   "id": "SxQTLd3xdKf7",
   "metadata": {
    "id": "SxQTLd3xdKf7"
   },
   "source": [
    "#### Save & Download the clean products dataset"
   ]
  },
  {
   "cell_type": "code",
   "execution_count": 1303,
   "id": "HFr8DsYedWDb",
   "metadata": {
    "id": "HFr8DsYedWDb"
   },
   "outputs": [],
   "source": [
    "products.to_csv(\"products_clean.csv\", index = False)"
   ]
  },
  {
   "cell_type": "code",
   "execution_count": 1304,
   "id": "c93f6112-ae12-44c0-84b4-3a71cf126484",
   "metadata": {},
   "outputs": [],
   "source": [
    "orderlines.to_csv(\"orderlines_clean.csv\", index = False)\n",
    "orders.to_csv(\"orders_clean.csv\", index = False)"
   ]
  },
  {
   "cell_type": "markdown",
   "id": "50ce75f9",
   "metadata": {
    "id": "50ce75f9"
   },
   "source": [
    "## Brands"
   ]
  },
  {
   "cell_type": "markdown",
   "id": "a6608fa2",
   "metadata": {
    "id": "a6608fa2"
   },
   "source": [
    "The brands csv looks fine, so we can work together with it. "
   ]
  },
  {
   "cell_type": "code",
   "execution_count": 1305,
   "id": "d2e1e436",
   "metadata": {
    "id": "d2e1e436"
   },
   "outputs": [],
   "source": [
    "brands.to_csv(\"brands_clean.csv\", index = False)\n",
    "# files.download(\"brands_clean.csv\")"
   ]
  }
 ],
 "metadata": {
  "colab": {
   "name": "3-data-cleaning-and-merges-challenges.ipynb",
   "provenance": []
  },
  "kernelspec": {
   "display_name": "Python 3 (ipykernel)",
   "language": "python",
   "name": "python3"
  },
  "language_info": {
   "codemirror_mode": {
    "name": "ipython",
    "version": 3
   },
   "file_extension": ".py",
   "mimetype": "text/x-python",
   "name": "python",
   "nbconvert_exporter": "python",
   "pygments_lexer": "ipython3",
   "version": "3.9.7"
  },
  "toc-showmarkdowntxt": false
 },
 "nbformat": 4,
 "nbformat_minor": 5
}

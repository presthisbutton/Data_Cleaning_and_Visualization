{
 "cells": [
  {
   "cell_type": "markdown",
   "id": "s8fhxlKY3G09",
   "metadata": {
    "id": "s8fhxlKY3G09"
   },
   "source": [
    "# Pandas DataFrames\n",
    "\n",
    "Pandas DataFrames are mutable two-dimensional structures of data with labeled axes where: \n",
    "* each row represents a different observation\n",
    "* each column represents a different variable\n",
    "\n",
    "As always, we first need to import the Pandas module:"
   ]
  },
  {
   "cell_type": "code",
   "execution_count": 81,
   "id": "-TpFexIq3G1B",
   "metadata": {
    "id": "-TpFexIq3G1B",
    "tags": []
   },
   "outputs": [],
   "source": [
    "import pandas as pd"
   ]
  },
  {
   "cell_type": "markdown",
   "id": "Hotj7qLf3G1C",
   "metadata": {
    "id": "Hotj7qLf3G1C"
   },
   "source": [
    "Next, if we want a DataFrame with 5 rows and 2 columns, we can do it from a [dictionary](https://www.w3schools.com/python/python_dictionaries.asp), a [list](https://www.w3schools.com/python/python_lists.asp) of lists, a list of dictionaries, etc.\n",
    "\n",
    "We are going to create a 5 row, 2 column DataFrame from a dictionary. To do this, we will follow these steps:\n",
    "\n",
    "1. Create a dictionary where the keys will be the names of the columns and the values will be lists, with as many elements as the number of rows we want.\n",
    "2. Convert that dictionary to dataframe with pandas' `pd.DataFrame()` function."
   ]
  },
  {
   "cell_type": "code",
   "execution_count": 4,
   "id": "cOqgP5MK3G1D",
   "metadata": {
    "id": "cOqgP5MK3G1D"
   },
   "outputs": [],
   "source": [
    "# 1. Create the dictionary\n",
    "data = {\n",
    "    \"x\":[1, 2, 3, 4, 5], \n",
    "    \"y\":[6, 7, 8, 9, 10]\n",
    "}"
   ]
  },
  {
   "cell_type": "code",
   "execution_count": 5,
   "id": "SfVYW14R3G1D",
   "metadata": {
    "id": "SfVYW14R3G1D"
   },
   "outputs": [
    {
     "data": {
      "text/plain": [
       "[1, 2, 3, 4, 5]"
      ]
     },
     "execution_count": 5,
     "metadata": {},
     "output_type": "execute_result"
    }
   ],
   "source": [
    "data['x']"
   ]
  },
  {
   "cell_type": "code",
   "execution_count": 6,
   "id": "JG_iJPPi3G1E",
   "metadata": {
    "id": "JG_iJPPi3G1E"
   },
   "outputs": [
    {
     "name": "stdout",
     "output_type": "stream",
     "text": [
      "   x   y\n",
      "0  1   6\n",
      "1  2   7\n",
      "2  3   8\n",
      "3  4   9\n",
      "4  5  10\n"
     ]
    }
   ],
   "source": [
    "# 2. Convert dictionary to dataframe\n",
    "df = pd.DataFrame(data)\n",
    "print(df)\n",
    "# df"
   ]
  },
  {
   "cell_type": "markdown",
   "id": "l3rF0cc13G1E",
   "metadata": {
    "id": "l3rF0cc13G1E"
   },
   "source": [
    "As we said, we have created a dataframe with 5 rows and two columns, called x and y respectively.\n",
    "\n",
    "**Observation**: As a result of `print()`, we have not only obtained the 5 rows and 2 columns, but there is an additional \"column\" of 5 numbers ordered vertically from 0 to 4. This column is called the **index** and it is simply the name of each row, which by default is their ordinal position: 0 indicates the first row; the 1, the second; and so on."
   ]
  },
  {
   "cell_type": "markdown",
   "id": "dxOHIz6E3G1F",
   "metadata": {
    "id": "dxOHIz6E3G1F"
   },
   "source": [
    "## Import a csv file to dataframe\n",
    "\n",
    "Most of the time, you will not be creating dataframes yourself, but importing (or \"reading\") data from a csv file or a database into a pandas dataframe. It's easy to do with pandas' read functions:"
   ]
  },
  {
   "cell_type": "code",
   "execution_count": 82,
   "id": "jy28BixO3G1G",
   "metadata": {
    "id": "jy28BixO3G1G"
   },
   "outputs": [],
   "source": [
    "url = 'https://drive.google.com/file/d/1FYhN_2AzTBFuWcfHaRuKcuCE6CWXsWtG/view?usp=sharing' # orderlines.csv\n",
    "path = 'https://drive.google.com/uc?export=download&id='+url.split('/')[-2]\n",
    "df = pd.read_csv(path)"
   ]
  },
  {
   "cell_type": "markdown",
   "id": "UXNi42Dd3G1G",
   "metadata": {
    "id": "UXNi42Dd3G1G"
   },
   "source": [
    "## Dataframe dimensions\n",
    "\n",
    "With the `.shape` attribute we can calculate the dimensions (number of rows and columns) of the dataframe."
   ]
  },
  {
   "cell_type": "code",
   "execution_count": 83,
   "id": "cnC6vIW93G1G",
   "metadata": {
    "id": "cnC6vIW93G1G"
   },
   "outputs": [
    {
     "data": {
      "text/plain": [
       "(293983, 7)"
      ]
     },
     "execution_count": 83,
     "metadata": {},
     "output_type": "execute_result"
    }
   ],
   "source": [
    "df.shape"
   ]
  },
  {
   "cell_type": "markdown",
   "id": "5oLX6uZQ3G1H",
   "metadata": {
    "id": "5oLX6uZQ3G1H"
   },
   "source": [
    "As a result we obtain a [tuple](https://www.w3schools.com/python/python_tuples.asp) where the first element is the number of rows, which in our case is 293983, while the second element is the number of columns, which in our example was 7."
   ]
  },
  {
   "cell_type": "code",
   "execution_count": 11,
   "id": "L6FAi4DN3G1H",
   "metadata": {
    "id": "L6FAi4DN3G1H"
   },
   "outputs": [
    {
     "name": "stdout",
     "output_type": "stream",
     "text": [
      "The number of rows is 293983\n",
      "The number of columns is 7\n"
     ]
    }
   ],
   "source": [
    "nrows = df.shape[0]\n",
    "ncols = df.shape[1]\n",
    "print(\"The number of rows is\", nrows)\n",
    "print(\"The number of columns is\", ncols)"
   ]
  },
  {
   "cell_type": "markdown",
   "id": "RjHf6uXq3G1H",
   "metadata": {
    "id": "RjHf6uXq3G1H"
   },
   "source": [
    "`DataFrame.size` returns the total number of values that the dataframe has (the number of rows multiplied by the number of columns):"
   ]
  },
  {
   "cell_type": "code",
   "execution_count": 14,
   "id": "mHVz_-yA3G1H",
   "metadata": {
    "id": "mHVz_-yA3G1H"
   },
   "outputs": [
    {
     "data": {
      "text/plain": [
       "2057881"
      ]
     },
     "execution_count": 14,
     "metadata": {},
     "output_type": "execute_result"
    }
   ],
   "source": [
    "df.size"
   ]
  },
  {
   "cell_type": "code",
   "execution_count": 15,
   "id": "t_8Y1rsD3G1H",
   "metadata": {
    "id": "t_8Y1rsD3G1H"
   },
   "outputs": [
    {
     "data": {
      "text/plain": [
       "True"
      ]
     },
     "execution_count": 15,
     "metadata": {},
     "output_type": "execute_result"
    }
   ],
   "source": [
    "# check if that's true\n",
    "df.shape[0] * df.shape[1] == df.size"
   ]
  },
  {
   "cell_type": "markdown",
   "id": "d9_rKAd13G1I",
   "metadata": {
    "id": "d9_rKAd13G1I"
   },
   "source": [
    "With the `.ndim` attribute we calculate the number of dimensions that the dataframe has. This will always be 2, as it consists of rows and columns."
   ]
  },
  {
   "cell_type": "code",
   "execution_count": 17,
   "id": "OkKrVfnB3G1I",
   "metadata": {
    "id": "OkKrVfnB3G1I"
   },
   "outputs": [
    {
     "data": {
      "text/plain": [
       "2"
      ]
     },
     "execution_count": 17,
     "metadata": {},
     "output_type": "execute_result"
    }
   ],
   "source": [
    "df.ndim"
   ]
  },
  {
   "cell_type": "markdown",
   "id": "HWSKDRiF3G1I",
   "metadata": {
    "id": "HWSKDRiF3G1I"
   },
   "source": [
    "## Dataframes exploration\n",
    "\n",
    "The `DataFrame.head()` and `DataFrame.tail()` methods are used to display the first or last rows of the dataframe. Looking at the raw data is a great way to get a grasp of what's in there. By default, 5 rows will be shown, but you can change that:"
   ]
  },
  {
   "cell_type": "code",
   "execution_count": 18,
   "id": "eEn0y8Wv3G1I",
   "metadata": {
    "id": "eEn0y8Wv3G1I"
   },
   "outputs": [
    {
     "data": {
      "text/html": [
       "<div>\n",
       "<style scoped>\n",
       "    .dataframe tbody tr th:only-of-type {\n",
       "        vertical-align: middle;\n",
       "    }\n",
       "\n",
       "    .dataframe tbody tr th {\n",
       "        vertical-align: top;\n",
       "    }\n",
       "\n",
       "    .dataframe thead th {\n",
       "        text-align: right;\n",
       "    }\n",
       "</style>\n",
       "<table border=\"1\" class=\"dataframe\">\n",
       "  <thead>\n",
       "    <tr style=\"text-align: right;\">\n",
       "      <th></th>\n",
       "      <th>id</th>\n",
       "      <th>id_order</th>\n",
       "      <th>product_id</th>\n",
       "      <th>product_quantity</th>\n",
       "      <th>sku</th>\n",
       "      <th>unit_price</th>\n",
       "      <th>date</th>\n",
       "    </tr>\n",
       "  </thead>\n",
       "  <tbody>\n",
       "    <tr>\n",
       "      <th>0</th>\n",
       "      <td>1119109</td>\n",
       "      <td>299539</td>\n",
       "      <td>0</td>\n",
       "      <td>1</td>\n",
       "      <td>OTT0133</td>\n",
       "      <td>18.99</td>\n",
       "      <td>2017-01-01 00:07:19</td>\n",
       "    </tr>\n",
       "    <tr>\n",
       "      <th>1</th>\n",
       "      <td>1119110</td>\n",
       "      <td>299540</td>\n",
       "      <td>0</td>\n",
       "      <td>1</td>\n",
       "      <td>LGE0043</td>\n",
       "      <td>399.00</td>\n",
       "      <td>2017-01-01 00:19:45</td>\n",
       "    </tr>\n",
       "    <tr>\n",
       "      <th>2</th>\n",
       "      <td>1119111</td>\n",
       "      <td>299541</td>\n",
       "      <td>0</td>\n",
       "      <td>1</td>\n",
       "      <td>PAR0071</td>\n",
       "      <td>474.05</td>\n",
       "      <td>2017-01-01 00:20:57</td>\n",
       "    </tr>\n",
       "    <tr>\n",
       "      <th>3</th>\n",
       "      <td>1119112</td>\n",
       "      <td>299542</td>\n",
       "      <td>0</td>\n",
       "      <td>1</td>\n",
       "      <td>WDT0315</td>\n",
       "      <td>68.39</td>\n",
       "      <td>2017-01-01 00:51:40</td>\n",
       "    </tr>\n",
       "    <tr>\n",
       "      <th>4</th>\n",
       "      <td>1119113</td>\n",
       "      <td>299543</td>\n",
       "      <td>0</td>\n",
       "      <td>1</td>\n",
       "      <td>JBL0104</td>\n",
       "      <td>23.74</td>\n",
       "      <td>2017-01-01 01:06:38</td>\n",
       "    </tr>\n",
       "  </tbody>\n",
       "</table>\n",
       "</div>"
      ],
      "text/plain": [
       "        id  id_order  product_id  product_quantity      sku unit_price  \\\n",
       "0  1119109    299539           0                 1  OTT0133      18.99   \n",
       "1  1119110    299540           0                 1  LGE0043     399.00   \n",
       "2  1119111    299541           0                 1  PAR0071     474.05   \n",
       "3  1119112    299542           0                 1  WDT0315      68.39   \n",
       "4  1119113    299543           0                 1  JBL0104      23.74   \n",
       "\n",
       "                  date  \n",
       "0  2017-01-01 00:07:19  \n",
       "1  2017-01-01 00:19:45  \n",
       "2  2017-01-01 00:20:57  \n",
       "3  2017-01-01 00:51:40  \n",
       "4  2017-01-01 01:06:38  "
      ]
     },
     "execution_count": 18,
     "metadata": {},
     "output_type": "execute_result"
    }
   ],
   "source": [
    "df.head()"
   ]
  },
  {
   "cell_type": "code",
   "execution_count": 19,
   "id": "6IJWPJqr3G1I",
   "metadata": {
    "id": "6IJWPJqr3G1I"
   },
   "outputs": [
    {
     "data": {
      "text/html": [
       "<div>\n",
       "<style scoped>\n",
       "    .dataframe tbody tr th:only-of-type {\n",
       "        vertical-align: middle;\n",
       "    }\n",
       "\n",
       "    .dataframe tbody tr th {\n",
       "        vertical-align: top;\n",
       "    }\n",
       "\n",
       "    .dataframe thead th {\n",
       "        text-align: right;\n",
       "    }\n",
       "</style>\n",
       "<table border=\"1\" class=\"dataframe\">\n",
       "  <thead>\n",
       "    <tr style=\"text-align: right;\">\n",
       "      <th></th>\n",
       "      <th>id</th>\n",
       "      <th>id_order</th>\n",
       "      <th>product_id</th>\n",
       "      <th>product_quantity</th>\n",
       "      <th>sku</th>\n",
       "      <th>unit_price</th>\n",
       "      <th>date</th>\n",
       "    </tr>\n",
       "  </thead>\n",
       "  <tbody>\n",
       "    <tr>\n",
       "      <th>0</th>\n",
       "      <td>1119109</td>\n",
       "      <td>299539</td>\n",
       "      <td>0</td>\n",
       "      <td>1</td>\n",
       "      <td>OTT0133</td>\n",
       "      <td>18.99</td>\n",
       "      <td>2017-01-01 00:07:19</td>\n",
       "    </tr>\n",
       "    <tr>\n",
       "      <th>1</th>\n",
       "      <td>1119110</td>\n",
       "      <td>299540</td>\n",
       "      <td>0</td>\n",
       "      <td>1</td>\n",
       "      <td>LGE0043</td>\n",
       "      <td>399.00</td>\n",
       "      <td>2017-01-01 00:19:45</td>\n",
       "    </tr>\n",
       "    <tr>\n",
       "      <th>2</th>\n",
       "      <td>1119111</td>\n",
       "      <td>299541</td>\n",
       "      <td>0</td>\n",
       "      <td>1</td>\n",
       "      <td>PAR0071</td>\n",
       "      <td>474.05</td>\n",
       "      <td>2017-01-01 00:20:57</td>\n",
       "    </tr>\n",
       "    <tr>\n",
       "      <th>3</th>\n",
       "      <td>1119112</td>\n",
       "      <td>299542</td>\n",
       "      <td>0</td>\n",
       "      <td>1</td>\n",
       "      <td>WDT0315</td>\n",
       "      <td>68.39</td>\n",
       "      <td>2017-01-01 00:51:40</td>\n",
       "    </tr>\n",
       "    <tr>\n",
       "      <th>4</th>\n",
       "      <td>1119113</td>\n",
       "      <td>299543</td>\n",
       "      <td>0</td>\n",
       "      <td>1</td>\n",
       "      <td>JBL0104</td>\n",
       "      <td>23.74</td>\n",
       "      <td>2017-01-01 01:06:38</td>\n",
       "    </tr>\n",
       "    <tr>\n",
       "      <th>5</th>\n",
       "      <td>1119114</td>\n",
       "      <td>295310</td>\n",
       "      <td>0</td>\n",
       "      <td>10</td>\n",
       "      <td>WDT0249</td>\n",
       "      <td>231.79</td>\n",
       "      <td>2017-01-01 01:14:27</td>\n",
       "    </tr>\n",
       "    <tr>\n",
       "      <th>6</th>\n",
       "      <td>1119115</td>\n",
       "      <td>299544</td>\n",
       "      <td>0</td>\n",
       "      <td>1</td>\n",
       "      <td>APP1582</td>\n",
       "      <td>1.137.99</td>\n",
       "      <td>2017-01-01 01:17:21</td>\n",
       "    </tr>\n",
       "    <tr>\n",
       "      <th>7</th>\n",
       "      <td>1119116</td>\n",
       "      <td>299545</td>\n",
       "      <td>0</td>\n",
       "      <td>1</td>\n",
       "      <td>OWC0100</td>\n",
       "      <td>47.49</td>\n",
       "      <td>2017-01-01 01:46:16</td>\n",
       "    </tr>\n",
       "    <tr>\n",
       "      <th>8</th>\n",
       "      <td>1119119</td>\n",
       "      <td>299546</td>\n",
       "      <td>0</td>\n",
       "      <td>1</td>\n",
       "      <td>IOT0014</td>\n",
       "      <td>18.99</td>\n",
       "      <td>2017-01-01 01:50:34</td>\n",
       "    </tr>\n",
       "  </tbody>\n",
       "</table>\n",
       "</div>"
      ],
      "text/plain": [
       "        id  id_order  product_id  product_quantity      sku unit_price  \\\n",
       "0  1119109    299539           0                 1  OTT0133      18.99   \n",
       "1  1119110    299540           0                 1  LGE0043     399.00   \n",
       "2  1119111    299541           0                 1  PAR0071     474.05   \n",
       "3  1119112    299542           0                 1  WDT0315      68.39   \n",
       "4  1119113    299543           0                 1  JBL0104      23.74   \n",
       "5  1119114    295310           0                10  WDT0249     231.79   \n",
       "6  1119115    299544           0                 1  APP1582   1.137.99   \n",
       "7  1119116    299545           0                 1  OWC0100      47.49   \n",
       "8  1119119    299546           0                 1  IOT0014      18.99   \n",
       "\n",
       "                  date  \n",
       "0  2017-01-01 00:07:19  \n",
       "1  2017-01-01 00:19:45  \n",
       "2  2017-01-01 00:20:57  \n",
       "3  2017-01-01 00:51:40  \n",
       "4  2017-01-01 01:06:38  \n",
       "5  2017-01-01 01:14:27  \n",
       "6  2017-01-01 01:17:21  \n",
       "7  2017-01-01 01:46:16  \n",
       "8  2017-01-01 01:50:34  "
      ]
     },
     "execution_count": 19,
     "metadata": {},
     "output_type": "execute_result"
    }
   ],
   "source": [
    "df.head(9)"
   ]
  },
  {
   "cell_type": "code",
   "execution_count": 20,
   "id": "9JMHjCMs3G1J",
   "metadata": {
    "id": "9JMHjCMs3G1J"
   },
   "outputs": [
    {
     "data": {
      "text/html": [
       "<div>\n",
       "<style scoped>\n",
       "    .dataframe tbody tr th:only-of-type {\n",
       "        vertical-align: middle;\n",
       "    }\n",
       "\n",
       "    .dataframe tbody tr th {\n",
       "        vertical-align: top;\n",
       "    }\n",
       "\n",
       "    .dataframe thead th {\n",
       "        text-align: right;\n",
       "    }\n",
       "</style>\n",
       "<table border=\"1\" class=\"dataframe\">\n",
       "  <thead>\n",
       "    <tr style=\"text-align: right;\">\n",
       "      <th></th>\n",
       "      <th>id</th>\n",
       "      <th>id_order</th>\n",
       "      <th>product_id</th>\n",
       "      <th>product_quantity</th>\n",
       "      <th>sku</th>\n",
       "      <th>unit_price</th>\n",
       "      <th>date</th>\n",
       "    </tr>\n",
       "  </thead>\n",
       "  <tbody>\n",
       "    <tr>\n",
       "      <th>293978</th>\n",
       "      <td>1650199</td>\n",
       "      <td>527398</td>\n",
       "      <td>0</td>\n",
       "      <td>1</td>\n",
       "      <td>JBL0122</td>\n",
       "      <td>42.99</td>\n",
       "      <td>2018-03-14 13:57:25</td>\n",
       "    </tr>\n",
       "    <tr>\n",
       "      <th>293979</th>\n",
       "      <td>1650200</td>\n",
       "      <td>527399</td>\n",
       "      <td>0</td>\n",
       "      <td>1</td>\n",
       "      <td>PAC0653</td>\n",
       "      <td>141.58</td>\n",
       "      <td>2018-03-14 13:57:34</td>\n",
       "    </tr>\n",
       "    <tr>\n",
       "      <th>293980</th>\n",
       "      <td>1650201</td>\n",
       "      <td>527400</td>\n",
       "      <td>0</td>\n",
       "      <td>2</td>\n",
       "      <td>APP0698</td>\n",
       "      <td>9.99</td>\n",
       "      <td>2018-03-14 13:57:41</td>\n",
       "    </tr>\n",
       "    <tr>\n",
       "      <th>293981</th>\n",
       "      <td>1650202</td>\n",
       "      <td>527388</td>\n",
       "      <td>0</td>\n",
       "      <td>1</td>\n",
       "      <td>BEZ0204</td>\n",
       "      <td>19.99</td>\n",
       "      <td>2018-03-14 13:58:01</td>\n",
       "    </tr>\n",
       "    <tr>\n",
       "      <th>293982</th>\n",
       "      <td>1650203</td>\n",
       "      <td>527401</td>\n",
       "      <td>0</td>\n",
       "      <td>1</td>\n",
       "      <td>APP0927</td>\n",
       "      <td>13.99</td>\n",
       "      <td>2018-03-14 13:58:36</td>\n",
       "    </tr>\n",
       "  </tbody>\n",
       "</table>\n",
       "</div>"
      ],
      "text/plain": [
       "             id  id_order  product_id  product_quantity      sku unit_price  \\\n",
       "293978  1650199    527398           0                 1  JBL0122      42.99   \n",
       "293979  1650200    527399           0                 1  PAC0653     141.58   \n",
       "293980  1650201    527400           0                 2  APP0698       9.99   \n",
       "293981  1650202    527388           0                 1  BEZ0204      19.99   \n",
       "293982  1650203    527401           0                 1  APP0927      13.99   \n",
       "\n",
       "                       date  \n",
       "293978  2018-03-14 13:57:25  \n",
       "293979  2018-03-14 13:57:34  \n",
       "293980  2018-03-14 13:57:41  \n",
       "293981  2018-03-14 13:58:01  \n",
       "293982  2018-03-14 13:58:36  "
      ]
     },
     "execution_count": 20,
     "metadata": {},
     "output_type": "execute_result"
    }
   ],
   "source": [
    "df.tail()"
   ]
  },
  {
   "cell_type": "markdown",
   "id": "-JQjo2ZD3G1J",
   "metadata": {
    "id": "-JQjo2ZD3G1J"
   },
   "source": [
    "The methods `DataFrame.info()`, `DataFrame.describe()` and `DataFrame.nunique()` give a general overview of what's in the dataframe:"
   ]
  },
  {
   "cell_type": "code",
   "execution_count": 21,
   "id": "8N7pC22c3G1J",
   "metadata": {
    "id": "8N7pC22c3G1J"
   },
   "outputs": [
    {
     "name": "stdout",
     "output_type": "stream",
     "text": [
      "<class 'pandas.core.frame.DataFrame'>\n",
      "RangeIndex: 293983 entries, 0 to 293982\n",
      "Data columns (total 7 columns):\n",
      " #   Column            Non-Null Count   Dtype \n",
      "---  ------            --------------   ----- \n",
      " 0   id                293983 non-null  int64 \n",
      " 1   id_order          293983 non-null  int64 \n",
      " 2   product_id        293983 non-null  int64 \n",
      " 3   product_quantity  293983 non-null  int64 \n",
      " 4   sku               293983 non-null  object\n",
      " 5   unit_price        293983 non-null  object\n",
      " 6   date              293983 non-null  object\n",
      "dtypes: int64(4), object(3)\n",
      "memory usage: 15.7+ MB\n"
     ]
    }
   ],
   "source": [
    "df.info()"
   ]
  },
  {
   "cell_type": "code",
   "execution_count": 22,
   "id": "uYp_rSRa3G1J",
   "metadata": {
    "id": "uYp_rSRa3G1J"
   },
   "outputs": [
    {
     "data": {
      "text/html": [
       "<div>\n",
       "<style scoped>\n",
       "    .dataframe tbody tr th:only-of-type {\n",
       "        vertical-align: middle;\n",
       "    }\n",
       "\n",
       "    .dataframe tbody tr th {\n",
       "        vertical-align: top;\n",
       "    }\n",
       "\n",
       "    .dataframe thead th {\n",
       "        text-align: right;\n",
       "    }\n",
       "</style>\n",
       "<table border=\"1\" class=\"dataframe\">\n",
       "  <thead>\n",
       "    <tr style=\"text-align: right;\">\n",
       "      <th></th>\n",
       "      <th>id</th>\n",
       "      <th>id_order</th>\n",
       "      <th>product_id</th>\n",
       "      <th>product_quantity</th>\n",
       "    </tr>\n",
       "  </thead>\n",
       "  <tbody>\n",
       "    <tr>\n",
       "      <th>count</th>\n",
       "      <td>2.939830e+05</td>\n",
       "      <td>293983.000000</td>\n",
       "      <td>293983.0</td>\n",
       "      <td>293983.000000</td>\n",
       "    </tr>\n",
       "    <tr>\n",
       "      <th>mean</th>\n",
       "      <td>1.397918e+06</td>\n",
       "      <td>419999.116544</td>\n",
       "      <td>0.0</td>\n",
       "      <td>1.121126</td>\n",
       "    </tr>\n",
       "    <tr>\n",
       "      <th>std</th>\n",
       "      <td>1.530096e+05</td>\n",
       "      <td>66344.486479</td>\n",
       "      <td>0.0</td>\n",
       "      <td>3.396569</td>\n",
       "    </tr>\n",
       "    <tr>\n",
       "      <th>min</th>\n",
       "      <td>1.119109e+06</td>\n",
       "      <td>241319.000000</td>\n",
       "      <td>0.0</td>\n",
       "      <td>1.000000</td>\n",
       "    </tr>\n",
       "    <tr>\n",
       "      <th>25%</th>\n",
       "      <td>1.262542e+06</td>\n",
       "      <td>362258.500000</td>\n",
       "      <td>0.0</td>\n",
       "      <td>1.000000</td>\n",
       "    </tr>\n",
       "    <tr>\n",
       "      <th>50%</th>\n",
       "      <td>1.406940e+06</td>\n",
       "      <td>425956.000000</td>\n",
       "      <td>0.0</td>\n",
       "      <td>1.000000</td>\n",
       "    </tr>\n",
       "    <tr>\n",
       "      <th>75%</th>\n",
       "      <td>1.531322e+06</td>\n",
       "      <td>478657.000000</td>\n",
       "      <td>0.0</td>\n",
       "      <td>1.000000</td>\n",
       "    </tr>\n",
       "    <tr>\n",
       "      <th>max</th>\n",
       "      <td>1.650203e+06</td>\n",
       "      <td>527401.000000</td>\n",
       "      <td>0.0</td>\n",
       "      <td>999.000000</td>\n",
       "    </tr>\n",
       "  </tbody>\n",
       "</table>\n",
       "</div>"
      ],
      "text/plain": [
       "                 id       id_order  product_id  product_quantity\n",
       "count  2.939830e+05  293983.000000    293983.0     293983.000000\n",
       "mean   1.397918e+06  419999.116544         0.0          1.121126\n",
       "std    1.530096e+05   66344.486479         0.0          3.396569\n",
       "min    1.119109e+06  241319.000000         0.0          1.000000\n",
       "25%    1.262542e+06  362258.500000         0.0          1.000000\n",
       "50%    1.406940e+06  425956.000000         0.0          1.000000\n",
       "75%    1.531322e+06  478657.000000         0.0          1.000000\n",
       "max    1.650203e+06  527401.000000         0.0        999.000000"
      ]
     },
     "execution_count": 22,
     "metadata": {},
     "output_type": "execute_result"
    }
   ],
   "source": [
    "df.describe()"
   ]
  },
  {
   "cell_type": "code",
   "execution_count": 23,
   "id": "cXMZsav-3G1J",
   "metadata": {
    "id": "cXMZsav-3G1J"
   },
   "outputs": [
    {
     "data": {
      "text/plain": [
       "id                  293983\n",
       "id_order            204855\n",
       "product_id               1\n",
       "product_quantity        67\n",
       "sku                   7951\n",
       "unit_price           11329\n",
       "date                251631\n",
       "dtype: int64"
      ]
     },
     "execution_count": 23,
     "metadata": {},
     "output_type": "execute_result"
    }
   ],
   "source": [
    "df.nunique()"
   ]
  },
  {
   "cell_type": "markdown",
   "id": "MiUZS2983G1J",
   "metadata": {
    "id": "MiUZS2983G1J"
   },
   "source": [
    "The `.unique()` method returns the unique values from a column as a numpy array, which can be indexed with `[]`:"
   ]
  },
  {
   "cell_type": "code",
   "execution_count": 26,
   "id": "-vwHHjvR3G1K",
   "metadata": {
    "id": "-vwHHjvR3G1K"
   },
   "outputs": [
    {
     "data": {
      "text/plain": [
       "array(['OTT0133', 'LGE0043', 'PAR0071', 'WDT0315', 'JBL0104', 'WDT0249',\n",
       "       'APP1582', 'OWC0100', 'IOT0014', 'APP0700'], dtype=object)"
      ]
     },
     "execution_count": 26,
     "metadata": {},
     "output_type": "execute_result"
    }
   ],
   "source": [
    "df['sku'].unique()[:10]"
   ]
  },
  {
   "cell_type": "markdown",
   "id": "gr9AteWL3G1K",
   "metadata": {
    "id": "gr9AteWL3G1K"
   },
   "source": [
    "The `isna()` method returns a boolean for each value: `True` if that value is \"missing\" (which is represented as `NaN` in numpy and pandas) and `False` if the value is not missing:"
   ]
  },
  {
   "cell_type": "code",
   "execution_count": 28,
   "id": "tILEtcSP3G1K",
   "metadata": {
    "id": "tILEtcSP3G1K"
   },
   "outputs": [
    {
     "data": {
      "text/html": [
       "<div>\n",
       "<style scoped>\n",
       "    .dataframe tbody tr th:only-of-type {\n",
       "        vertical-align: middle;\n",
       "    }\n",
       "\n",
       "    .dataframe tbody tr th {\n",
       "        vertical-align: top;\n",
       "    }\n",
       "\n",
       "    .dataframe thead th {\n",
       "        text-align: right;\n",
       "    }\n",
       "</style>\n",
       "<table border=\"1\" class=\"dataframe\">\n",
       "  <thead>\n",
       "    <tr style=\"text-align: right;\">\n",
       "      <th></th>\n",
       "      <th>id</th>\n",
       "      <th>id_order</th>\n",
       "      <th>product_id</th>\n",
       "      <th>product_quantity</th>\n",
       "      <th>sku</th>\n",
       "      <th>unit_price</th>\n",
       "      <th>date</th>\n",
       "    </tr>\n",
       "  </thead>\n",
       "  <tbody>\n",
       "    <tr>\n",
       "      <th>0</th>\n",
       "      <td>False</td>\n",
       "      <td>False</td>\n",
       "      <td>False</td>\n",
       "      <td>False</td>\n",
       "      <td>False</td>\n",
       "      <td>False</td>\n",
       "      <td>False</td>\n",
       "    </tr>\n",
       "    <tr>\n",
       "      <th>1</th>\n",
       "      <td>False</td>\n",
       "      <td>False</td>\n",
       "      <td>False</td>\n",
       "      <td>False</td>\n",
       "      <td>False</td>\n",
       "      <td>False</td>\n",
       "      <td>False</td>\n",
       "    </tr>\n",
       "    <tr>\n",
       "      <th>2</th>\n",
       "      <td>False</td>\n",
       "      <td>False</td>\n",
       "      <td>False</td>\n",
       "      <td>False</td>\n",
       "      <td>False</td>\n",
       "      <td>False</td>\n",
       "      <td>False</td>\n",
       "    </tr>\n",
       "    <tr>\n",
       "      <th>3</th>\n",
       "      <td>False</td>\n",
       "      <td>False</td>\n",
       "      <td>False</td>\n",
       "      <td>False</td>\n",
       "      <td>False</td>\n",
       "      <td>False</td>\n",
       "      <td>False</td>\n",
       "    </tr>\n",
       "    <tr>\n",
       "      <th>4</th>\n",
       "      <td>False</td>\n",
       "      <td>False</td>\n",
       "      <td>False</td>\n",
       "      <td>False</td>\n",
       "      <td>False</td>\n",
       "      <td>False</td>\n",
       "      <td>False</td>\n",
       "    </tr>\n",
       "    <tr>\n",
       "      <th>...</th>\n",
       "      <td>...</td>\n",
       "      <td>...</td>\n",
       "      <td>...</td>\n",
       "      <td>...</td>\n",
       "      <td>...</td>\n",
       "      <td>...</td>\n",
       "      <td>...</td>\n",
       "    </tr>\n",
       "    <tr>\n",
       "      <th>293978</th>\n",
       "      <td>False</td>\n",
       "      <td>False</td>\n",
       "      <td>False</td>\n",
       "      <td>False</td>\n",
       "      <td>False</td>\n",
       "      <td>False</td>\n",
       "      <td>False</td>\n",
       "    </tr>\n",
       "    <tr>\n",
       "      <th>293979</th>\n",
       "      <td>False</td>\n",
       "      <td>False</td>\n",
       "      <td>False</td>\n",
       "      <td>False</td>\n",
       "      <td>False</td>\n",
       "      <td>False</td>\n",
       "      <td>False</td>\n",
       "    </tr>\n",
       "    <tr>\n",
       "      <th>293980</th>\n",
       "      <td>False</td>\n",
       "      <td>False</td>\n",
       "      <td>False</td>\n",
       "      <td>False</td>\n",
       "      <td>False</td>\n",
       "      <td>False</td>\n",
       "      <td>False</td>\n",
       "    </tr>\n",
       "    <tr>\n",
       "      <th>293981</th>\n",
       "      <td>False</td>\n",
       "      <td>False</td>\n",
       "      <td>False</td>\n",
       "      <td>False</td>\n",
       "      <td>False</td>\n",
       "      <td>False</td>\n",
       "      <td>False</td>\n",
       "    </tr>\n",
       "    <tr>\n",
       "      <th>293982</th>\n",
       "      <td>False</td>\n",
       "      <td>False</td>\n",
       "      <td>False</td>\n",
       "      <td>False</td>\n",
       "      <td>False</td>\n",
       "      <td>False</td>\n",
       "      <td>False</td>\n",
       "    </tr>\n",
       "  </tbody>\n",
       "</table>\n",
       "<p>293983 rows × 7 columns</p>\n",
       "</div>"
      ],
      "text/plain": [
       "           id  id_order  product_id  product_quantity    sku  unit_price  \\\n",
       "0       False     False       False             False  False       False   \n",
       "1       False     False       False             False  False       False   \n",
       "2       False     False       False             False  False       False   \n",
       "3       False     False       False             False  False       False   \n",
       "4       False     False       False             False  False       False   \n",
       "...       ...       ...         ...               ...    ...         ...   \n",
       "293978  False     False       False             False  False       False   \n",
       "293979  False     False       False             False  False       False   \n",
       "293980  False     False       False             False  False       False   \n",
       "293981  False     False       False             False  False       False   \n",
       "293982  False     False       False             False  False       False   \n",
       "\n",
       "         date  \n",
       "0       False  \n",
       "1       False  \n",
       "2       False  \n",
       "3       False  \n",
       "4       False  \n",
       "...       ...  \n",
       "293978  False  \n",
       "293979  False  \n",
       "293980  False  \n",
       "293981  False  \n",
       "293982  False  \n",
       "\n",
       "[293983 rows x 7 columns]"
      ]
     },
     "execution_count": 28,
     "metadata": {},
     "output_type": "execute_result"
    }
   ],
   "source": [
    "df.isna()"
   ]
  },
  {
   "cell_type": "markdown",
   "id": "TduVg5qx3G1K",
   "metadata": {
    "id": "TduVg5qx3G1K"
   },
   "source": [
    "We can then use `DataFrame.sum()` to add up all these booleans for each column, and count how many missing values are there in the dataframe, since `True` is interpreted as `1` and `False` as `0`:"
   ]
  },
  {
   "cell_type": "code",
   "execution_count": 29,
   "id": "vd-_DsOy3G1K",
   "metadata": {
    "id": "vd-_DsOy3G1K"
   },
   "outputs": [
    {
     "data": {
      "text/plain": [
       "id                  0\n",
       "id_order            0\n",
       "product_id          0\n",
       "product_quantity    0\n",
       "sku                 0\n",
       "unit_price          0\n",
       "date                0\n",
       "dtype: int64"
      ]
     },
     "execution_count": 29,
     "metadata": {},
     "output_type": "execute_result"
    }
   ],
   "source": [
    "df.isna().sum()"
   ]
  },
  {
   "cell_type": "markdown",
   "id": "CsDhKqdG3G1K",
   "metadata": {
    "id": "CsDhKqdG3G1K"
   },
   "source": [
    "`DataFrame.duplicated()` also returns a boolean output, but in this case just one value per row: `True` if that row is duplicated and `False` if it's not. Again, using `sum()` allows us to count how many `True` values (i.e. duplicated rows) are there in total:"
   ]
  },
  {
   "cell_type": "code",
   "execution_count": 30,
   "id": "vE-E_D2i3G1K",
   "metadata": {
    "id": "vE-E_D2i3G1K"
   },
   "outputs": [
    {
     "data": {
      "text/plain": [
       "0"
      ]
     },
     "execution_count": 30,
     "metadata": {},
     "output_type": "execute_result"
    }
   ],
   "source": [
    "df.duplicated().sum() # parameters keep=False\n",
    "# df.drop_duplicates()"
   ]
  },
  {
   "cell_type": "markdown",
   "id": "74PzmnGf3G1K",
   "metadata": {
    "id": "74PzmnGf3G1K"
   },
   "source": [
    "`DataFrame.nlargest(n, columns)` will return the top `n` rows with the largest value for whatever column we specify in `columns`. Below, we see the rows with the largest product quantity values:"
   ]
  },
  {
   "cell_type": "code",
   "execution_count": 31,
   "id": "BJqMsFIn3G1K",
   "metadata": {
    "id": "BJqMsFIn3G1K"
   },
   "outputs": [
    {
     "data": {
      "text/html": [
       "<div>\n",
       "<style scoped>\n",
       "    .dataframe tbody tr th:only-of-type {\n",
       "        vertical-align: middle;\n",
       "    }\n",
       "\n",
       "    .dataframe tbody tr th {\n",
       "        vertical-align: top;\n",
       "    }\n",
       "\n",
       "    .dataframe thead th {\n",
       "        text-align: right;\n",
       "    }\n",
       "</style>\n",
       "<table border=\"1\" class=\"dataframe\">\n",
       "  <thead>\n",
       "    <tr style=\"text-align: right;\">\n",
       "      <th></th>\n",
       "      <th>id</th>\n",
       "      <th>id_order</th>\n",
       "      <th>product_id</th>\n",
       "      <th>product_quantity</th>\n",
       "      <th>sku</th>\n",
       "      <th>unit_price</th>\n",
       "      <th>date</th>\n",
       "    </tr>\n",
       "  </thead>\n",
       "  <tbody>\n",
       "    <tr>\n",
       "      <th>53860</th>\n",
       "      <td>1228150</td>\n",
       "      <td>346221</td>\n",
       "      <td>0</td>\n",
       "      <td>999</td>\n",
       "      <td>APP1190</td>\n",
       "      <td>55.99</td>\n",
       "      <td>2017-04-14 21:50:52</td>\n",
       "    </tr>\n",
       "    <tr>\n",
       "      <th>68712</th>\n",
       "      <td>1254032</td>\n",
       "      <td>358747</td>\n",
       "      <td>0</td>\n",
       "      <td>999</td>\n",
       "      <td>SEV0028</td>\n",
       "      <td>19.99</td>\n",
       "      <td>2017-05-24 14:51:58</td>\n",
       "    </tr>\n",
       "    <tr>\n",
       "      <th>57796</th>\n",
       "      <td>1234924</td>\n",
       "      <td>349475</td>\n",
       "      <td>0</td>\n",
       "      <td>800</td>\n",
       "      <td>KIN0137</td>\n",
       "      <td>7.49</td>\n",
       "      <td>2017-04-25 09:59:00</td>\n",
       "    </tr>\n",
       "    <tr>\n",
       "      <th>57306</th>\n",
       "      <td>1234111</td>\n",
       "      <td>349133</td>\n",
       "      <td>0</td>\n",
       "      <td>555</td>\n",
       "      <td>APP0665</td>\n",
       "      <td>70.99</td>\n",
       "      <td>2017-04-24 10:20:13</td>\n",
       "    </tr>\n",
       "    <tr>\n",
       "      <th>40813</th>\n",
       "      <td>1204788</td>\n",
       "      <td>335057</td>\n",
       "      <td>0</td>\n",
       "      <td>201</td>\n",
       "      <td>THU0029</td>\n",
       "      <td>80.99</td>\n",
       "      <td>2017-03-14 15:25:53</td>\n",
       "    </tr>\n",
       "  </tbody>\n",
       "</table>\n",
       "</div>"
      ],
      "text/plain": [
       "            id  id_order  product_id  product_quantity      sku unit_price  \\\n",
       "53860  1228150    346221           0               999  APP1190      55.99   \n",
       "68712  1254032    358747           0               999  SEV0028      19.99   \n",
       "57796  1234924    349475           0               800  KIN0137       7.49   \n",
       "57306  1234111    349133           0               555  APP0665      70.99   \n",
       "40813  1204788    335057           0               201  THU0029      80.99   \n",
       "\n",
       "                      date  \n",
       "53860  2017-04-14 21:50:52  \n",
       "68712  2017-05-24 14:51:58  \n",
       "57796  2017-04-25 09:59:00  \n",
       "57306  2017-04-24 10:20:13  \n",
       "40813  2017-03-14 15:25:53  "
      ]
     },
     "execution_count": 31,
     "metadata": {},
     "output_type": "execute_result"
    }
   ],
   "source": [
    "df.nlargest(5, 'product_quantity')"
   ]
  },
  {
   "cell_type": "markdown",
   "id": "c6wXOPu83G1L",
   "metadata": {
    "id": "c6wXOPu83G1L"
   },
   "source": [
    " `DataFrame.nsmallest()` does the same, for the smallest values:"
   ]
  },
  {
   "cell_type": "code",
   "execution_count": 32,
   "id": "MskkIhU_3G1L",
   "metadata": {
    "id": "MskkIhU_3G1L"
   },
   "outputs": [
    {
     "data": {
      "text/html": [
       "<div>\n",
       "<style scoped>\n",
       "    .dataframe tbody tr th:only-of-type {\n",
       "        vertical-align: middle;\n",
       "    }\n",
       "\n",
       "    .dataframe tbody tr th {\n",
       "        vertical-align: top;\n",
       "    }\n",
       "\n",
       "    .dataframe thead th {\n",
       "        text-align: right;\n",
       "    }\n",
       "</style>\n",
       "<table border=\"1\" class=\"dataframe\">\n",
       "  <thead>\n",
       "    <tr style=\"text-align: right;\">\n",
       "      <th></th>\n",
       "      <th>id</th>\n",
       "      <th>id_order</th>\n",
       "      <th>product_id</th>\n",
       "      <th>product_quantity</th>\n",
       "      <th>sku</th>\n",
       "      <th>unit_price</th>\n",
       "      <th>date</th>\n",
       "    </tr>\n",
       "  </thead>\n",
       "  <tbody>\n",
       "    <tr>\n",
       "      <th>0</th>\n",
       "      <td>1119109</td>\n",
       "      <td>299539</td>\n",
       "      <td>0</td>\n",
       "      <td>1</td>\n",
       "      <td>OTT0133</td>\n",
       "      <td>18.99</td>\n",
       "      <td>2017-01-01 00:07:19</td>\n",
       "    </tr>\n",
       "    <tr>\n",
       "      <th>1</th>\n",
       "      <td>1119110</td>\n",
       "      <td>299540</td>\n",
       "      <td>0</td>\n",
       "      <td>1</td>\n",
       "      <td>LGE0043</td>\n",
       "      <td>399.00</td>\n",
       "      <td>2017-01-01 00:19:45</td>\n",
       "    </tr>\n",
       "    <tr>\n",
       "      <th>2</th>\n",
       "      <td>1119111</td>\n",
       "      <td>299541</td>\n",
       "      <td>0</td>\n",
       "      <td>1</td>\n",
       "      <td>PAR0071</td>\n",
       "      <td>474.05</td>\n",
       "      <td>2017-01-01 00:20:57</td>\n",
       "    </tr>\n",
       "    <tr>\n",
       "      <th>3</th>\n",
       "      <td>1119112</td>\n",
       "      <td>299542</td>\n",
       "      <td>0</td>\n",
       "      <td>1</td>\n",
       "      <td>WDT0315</td>\n",
       "      <td>68.39</td>\n",
       "      <td>2017-01-01 00:51:40</td>\n",
       "    </tr>\n",
       "    <tr>\n",
       "      <th>4</th>\n",
       "      <td>1119113</td>\n",
       "      <td>299543</td>\n",
       "      <td>0</td>\n",
       "      <td>1</td>\n",
       "      <td>JBL0104</td>\n",
       "      <td>23.74</td>\n",
       "      <td>2017-01-01 01:06:38</td>\n",
       "    </tr>\n",
       "  </tbody>\n",
       "</table>\n",
       "</div>"
      ],
      "text/plain": [
       "        id  id_order  product_id  product_quantity      sku unit_price  \\\n",
       "0  1119109    299539           0                 1  OTT0133      18.99   \n",
       "1  1119110    299540           0                 1  LGE0043     399.00   \n",
       "2  1119111    299541           0                 1  PAR0071     474.05   \n",
       "3  1119112    299542           0                 1  WDT0315      68.39   \n",
       "4  1119113    299543           0                 1  JBL0104      23.74   \n",
       "\n",
       "                  date  \n",
       "0  2017-01-01 00:07:19  \n",
       "1  2017-01-01 00:19:45  \n",
       "2  2017-01-01 00:20:57  \n",
       "3  2017-01-01 00:51:40  \n",
       "4  2017-01-01 01:06:38  "
      ]
     },
     "execution_count": 32,
     "metadata": {},
     "output_type": "execute_result"
    }
   ],
   "source": [
    "df.nsmallest(5, 'product_quantity')"
   ]
  },
  {
   "cell_type": "markdown",
   "id": "NPaxO3ecXuCO",
   "metadata": {
    "id": "NPaxO3ecXuCO"
   },
   "source": [
    "So far, we have seen two ways to explore DataFrames:\n",
    "\n",
    "* `.shape`, `.size` and `.ndim`, among others, are **atributes**. They are written without parentheses and give you raw \"metadata\" about the DataFrame you are calling them on.\n",
    "* `.head()`, `.describe()` and `.isna()`, among others, are **methods**. They are written with parentheses and perform some sort of calculation, transformation or aggregation. A method is like a function that is tied to a specific object type.\n",
    "\n",
    "DataFrames have a lot of attributes and methods and may not be obvious whether something belongs to one type or the other. Whenever in doubt, check [the documentation](https://pandas.pydata.org/docs/reference/api/pandas.DataFrame.html?highlight=dataframe#pandas.DataFrame). If you scroll down past the list of examples you will find two sections listing all the attributes and methods."
   ]
  },
  {
   "cell_type": "markdown",
   "id": "MFV6C4zW3G1L",
   "metadata": {
    "id": "MFV6C4zW3G1L"
   },
   "source": [
    "## Columns\n",
    "\n",
    "Given a DataFrame, we can select a particular column in several ways:\n",
    "\n",
    "* Indicating the name of the column between square brackets, `[]`\n",
    "* With the `.loc[]` attribute (by name or tag)\n",
    "* With the `.iloc[]` attribute (by position)"
   ]
  },
  {
   "cell_type": "markdown",
   "id": "Z6P2fDJr3G1L",
   "metadata": {
    "id": "Z6P2fDJr3G1L"
   },
   "source": [
    "Plain square brackets `[]` are used to just view a column if you know its name and **don't want to modify it**:"
   ]
  },
  {
   "cell_type": "code",
   "execution_count": 33,
   "id": "IKK6Fucf3G1L",
   "metadata": {
    "id": "IKK6Fucf3G1L"
   },
   "outputs": [
    {
     "data": {
      "text/plain": [
       "0         299539\n",
       "1         299540\n",
       "2         299541\n",
       "3         299542\n",
       "4         299543\n",
       "           ...  \n",
       "293978    527398\n",
       "293979    527399\n",
       "293980    527400\n",
       "293981    527388\n",
       "293982    527401\n",
       "Name: id_order, Length: 293983, dtype: int64"
      ]
     },
     "execution_count": 33,
     "metadata": {},
     "output_type": "execute_result"
    }
   ],
   "source": [
    "# select the column by name\n",
    "df['id_order']"
   ]
  },
  {
   "cell_type": "markdown",
   "id": "Hwd-yBuB3G1L",
   "metadata": {
    "id": "Hwd-yBuB3G1L"
   },
   "source": [
    "`.loc[]` takes two arguments: `[rows, columns]`. Passing `:` to the rows argument means \"grabbing all the rows\", which allows you to select a whole column if you know its name. This method is more flexible as you will see in the future, and allows you to modify the data."
   ]
  },
  {
   "cell_type": "code",
   "execution_count": 34,
   "id": "qYwX2tQU3G1L",
   "metadata": {
    "id": "qYwX2tQU3G1L"
   },
   "outputs": [
    {
     "data": {
      "text/plain": [
       "0         299539\n",
       "1         299540\n",
       "2         299541\n",
       "3         299542\n",
       "4         299543\n",
       "           ...  \n",
       "293978    527398\n",
       "293979    527399\n",
       "293980    527400\n",
       "293981    527388\n",
       "293982    527401\n",
       "Name: id_order, Length: 293983, dtype: int64"
      ]
     },
     "execution_count": 34,
     "metadata": {},
     "output_type": "execute_result"
    }
   ],
   "source": [
    "# method .loc[]\n",
    "df.loc[:, 'id_order']"
   ]
  },
  {
   "cell_type": "markdown",
   "id": "2gTOrkQh3G1L",
   "metadata": {
    "id": "2gTOrkQh3G1L"
   },
   "source": [
    "`iloc[]` works similarly, but only accepts integers (which represent the positions of the rows and columns):"
   ]
  },
  {
   "cell_type": "code",
   "execution_count": 35,
   "id": "51vu5OgL3G1L",
   "metadata": {
    "id": "51vu5OgL3G1L"
   },
   "outputs": [
    {
     "name": "stdout",
     "output_type": "stream",
     "text": [
      "0         1119109\n",
      "1         1119110\n",
      "2         1119111\n",
      "3         1119112\n",
      "4         1119113\n",
      "           ...   \n",
      "293978    1650199\n",
      "293979    1650200\n",
      "293980    1650201\n",
      "293981    1650202\n",
      "293982    1650203\n",
      "Name: id, Length: 293983, dtype: int64\n"
     ]
    }
   ],
   "source": [
    "# method .iloc[]\n",
    "print(df.iloc[:, 0])"
   ]
  },
  {
   "cell_type": "markdown",
   "id": "mCG96SJS3G1M",
   "metadata": {
    "id": "mCG96SJS3G1M"
   },
   "source": [
    "### Select multiple columns\n",
    "\n",
    "If we want to select more than one column, we can do it with all the options listed above, with slight modifications in some cases:"
   ]
  },
  {
   "cell_type": "code",
   "execution_count": 36,
   "id": "nE6QOfSw3G1M",
   "metadata": {
    "id": "nE6QOfSw3G1M"
   },
   "outputs": [
    {
     "data": {
      "text/html": [
       "<div>\n",
       "<style scoped>\n",
       "    .dataframe tbody tr th:only-of-type {\n",
       "        vertical-align: middle;\n",
       "    }\n",
       "\n",
       "    .dataframe tbody tr th {\n",
       "        vertical-align: top;\n",
       "    }\n",
       "\n",
       "    .dataframe thead th {\n",
       "        text-align: right;\n",
       "    }\n",
       "</style>\n",
       "<table border=\"1\" class=\"dataframe\">\n",
       "  <thead>\n",
       "    <tr style=\"text-align: right;\">\n",
       "      <th></th>\n",
       "      <th>id_order</th>\n",
       "      <th>sku</th>\n",
       "    </tr>\n",
       "  </thead>\n",
       "  <tbody>\n",
       "    <tr>\n",
       "      <th>0</th>\n",
       "      <td>299539</td>\n",
       "      <td>OTT0133</td>\n",
       "    </tr>\n",
       "    <tr>\n",
       "      <th>1</th>\n",
       "      <td>299540</td>\n",
       "      <td>LGE0043</td>\n",
       "    </tr>\n",
       "    <tr>\n",
       "      <th>2</th>\n",
       "      <td>299541</td>\n",
       "      <td>PAR0071</td>\n",
       "    </tr>\n",
       "    <tr>\n",
       "      <th>3</th>\n",
       "      <td>299542</td>\n",
       "      <td>WDT0315</td>\n",
       "    </tr>\n",
       "    <tr>\n",
       "      <th>4</th>\n",
       "      <td>299543</td>\n",
       "      <td>JBL0104</td>\n",
       "    </tr>\n",
       "    <tr>\n",
       "      <th>...</th>\n",
       "      <td>...</td>\n",
       "      <td>...</td>\n",
       "    </tr>\n",
       "    <tr>\n",
       "      <th>293978</th>\n",
       "      <td>527398</td>\n",
       "      <td>JBL0122</td>\n",
       "    </tr>\n",
       "    <tr>\n",
       "      <th>293979</th>\n",
       "      <td>527399</td>\n",
       "      <td>PAC0653</td>\n",
       "    </tr>\n",
       "    <tr>\n",
       "      <th>293980</th>\n",
       "      <td>527400</td>\n",
       "      <td>APP0698</td>\n",
       "    </tr>\n",
       "    <tr>\n",
       "      <th>293981</th>\n",
       "      <td>527388</td>\n",
       "      <td>BEZ0204</td>\n",
       "    </tr>\n",
       "    <tr>\n",
       "      <th>293982</th>\n",
       "      <td>527401</td>\n",
       "      <td>APP0927</td>\n",
       "    </tr>\n",
       "  </tbody>\n",
       "</table>\n",
       "<p>293983 rows × 2 columns</p>\n",
       "</div>"
      ],
      "text/plain": [
       "        id_order      sku\n",
       "0         299539  OTT0133\n",
       "1         299540  LGE0043\n",
       "2         299541  PAR0071\n",
       "3         299542  WDT0315\n",
       "4         299543  JBL0104\n",
       "...          ...      ...\n",
       "293978    527398  JBL0122\n",
       "293979    527399  PAC0653\n",
       "293980    527400  APP0698\n",
       "293981    527388  BEZ0204\n",
       "293982    527401  APP0927\n",
       "\n",
       "[293983 rows x 2 columns]"
      ]
     },
     "execution_count": 36,
     "metadata": {},
     "output_type": "execute_result"
    }
   ],
   "source": [
    "# note that we pass a list inside of the []\n",
    "df[['id_order','sku']]"
   ]
  },
  {
   "cell_type": "code",
   "execution_count": 37,
   "id": "sPN9LgVP3G1M",
   "metadata": {
    "id": "sPN9LgVP3G1M"
   },
   "outputs": [
    {
     "data": {
      "text/html": [
       "<div>\n",
       "<style scoped>\n",
       "    .dataframe tbody tr th:only-of-type {\n",
       "        vertical-align: middle;\n",
       "    }\n",
       "\n",
       "    .dataframe tbody tr th {\n",
       "        vertical-align: top;\n",
       "    }\n",
       "\n",
       "    .dataframe thead th {\n",
       "        text-align: right;\n",
       "    }\n",
       "</style>\n",
       "<table border=\"1\" class=\"dataframe\">\n",
       "  <thead>\n",
       "    <tr style=\"text-align: right;\">\n",
       "      <th></th>\n",
       "      <th>id_order</th>\n",
       "      <th>sku</th>\n",
       "    </tr>\n",
       "  </thead>\n",
       "  <tbody>\n",
       "    <tr>\n",
       "      <th>0</th>\n",
       "      <td>299539</td>\n",
       "      <td>OTT0133</td>\n",
       "    </tr>\n",
       "    <tr>\n",
       "      <th>1</th>\n",
       "      <td>299540</td>\n",
       "      <td>LGE0043</td>\n",
       "    </tr>\n",
       "    <tr>\n",
       "      <th>2</th>\n",
       "      <td>299541</td>\n",
       "      <td>PAR0071</td>\n",
       "    </tr>\n",
       "    <tr>\n",
       "      <th>3</th>\n",
       "      <td>299542</td>\n",
       "      <td>WDT0315</td>\n",
       "    </tr>\n",
       "    <tr>\n",
       "      <th>4</th>\n",
       "      <td>299543</td>\n",
       "      <td>JBL0104</td>\n",
       "    </tr>\n",
       "    <tr>\n",
       "      <th>...</th>\n",
       "      <td>...</td>\n",
       "      <td>...</td>\n",
       "    </tr>\n",
       "    <tr>\n",
       "      <th>293978</th>\n",
       "      <td>527398</td>\n",
       "      <td>JBL0122</td>\n",
       "    </tr>\n",
       "    <tr>\n",
       "      <th>293979</th>\n",
       "      <td>527399</td>\n",
       "      <td>PAC0653</td>\n",
       "    </tr>\n",
       "    <tr>\n",
       "      <th>293980</th>\n",
       "      <td>527400</td>\n",
       "      <td>APP0698</td>\n",
       "    </tr>\n",
       "    <tr>\n",
       "      <th>293981</th>\n",
       "      <td>527388</td>\n",
       "      <td>BEZ0204</td>\n",
       "    </tr>\n",
       "    <tr>\n",
       "      <th>293982</th>\n",
       "      <td>527401</td>\n",
       "      <td>APP0927</td>\n",
       "    </tr>\n",
       "  </tbody>\n",
       "</table>\n",
       "<p>293983 rows × 2 columns</p>\n",
       "</div>"
      ],
      "text/plain": [
       "        id_order      sku\n",
       "0         299539  OTT0133\n",
       "1         299540  LGE0043\n",
       "2         299541  PAR0071\n",
       "3         299542  WDT0315\n",
       "4         299543  JBL0104\n",
       "...          ...      ...\n",
       "293978    527398  JBL0122\n",
       "293979    527399  PAC0653\n",
       "293980    527400  APP0698\n",
       "293981    527388  BEZ0204\n",
       "293982    527401  APP0927\n",
       "\n",
       "[293983 rows x 2 columns]"
      ]
     },
     "execution_count": 37,
     "metadata": {},
     "output_type": "execute_result"
    }
   ],
   "source": [
    "# .loc()\n",
    "df.loc[:, [\"id_order\", \"sku\"]]"
   ]
  },
  {
   "cell_type": "markdown",
   "id": "kFzAPFl23G1M",
   "metadata": {
    "id": "kFzAPFl23G1M"
   },
   "source": [
    "With `.loc[]` and `:` you can select all columns between two columns you specify."
   ]
  },
  {
   "cell_type": "code",
   "execution_count": 38,
   "id": "Ew-dOjYs3G1M",
   "metadata": {
    "id": "Ew-dOjYs3G1M"
   },
   "outputs": [
    {
     "data": {
      "text/html": [
       "<div>\n",
       "<style scoped>\n",
       "    .dataframe tbody tr th:only-of-type {\n",
       "        vertical-align: middle;\n",
       "    }\n",
       "\n",
       "    .dataframe tbody tr th {\n",
       "        vertical-align: top;\n",
       "    }\n",
       "\n",
       "    .dataframe thead th {\n",
       "        text-align: right;\n",
       "    }\n",
       "</style>\n",
       "<table border=\"1\" class=\"dataframe\">\n",
       "  <thead>\n",
       "    <tr style=\"text-align: right;\">\n",
       "      <th></th>\n",
       "      <th>id_order</th>\n",
       "      <th>product_id</th>\n",
       "      <th>product_quantity</th>\n",
       "      <th>sku</th>\n",
       "    </tr>\n",
       "  </thead>\n",
       "  <tbody>\n",
       "    <tr>\n",
       "      <th>0</th>\n",
       "      <td>299539</td>\n",
       "      <td>0</td>\n",
       "      <td>1</td>\n",
       "      <td>OTT0133</td>\n",
       "    </tr>\n",
       "    <tr>\n",
       "      <th>1</th>\n",
       "      <td>299540</td>\n",
       "      <td>0</td>\n",
       "      <td>1</td>\n",
       "      <td>LGE0043</td>\n",
       "    </tr>\n",
       "    <tr>\n",
       "      <th>2</th>\n",
       "      <td>299541</td>\n",
       "      <td>0</td>\n",
       "      <td>1</td>\n",
       "      <td>PAR0071</td>\n",
       "    </tr>\n",
       "    <tr>\n",
       "      <th>3</th>\n",
       "      <td>299542</td>\n",
       "      <td>0</td>\n",
       "      <td>1</td>\n",
       "      <td>WDT0315</td>\n",
       "    </tr>\n",
       "    <tr>\n",
       "      <th>4</th>\n",
       "      <td>299543</td>\n",
       "      <td>0</td>\n",
       "      <td>1</td>\n",
       "      <td>JBL0104</td>\n",
       "    </tr>\n",
       "    <tr>\n",
       "      <th>...</th>\n",
       "      <td>...</td>\n",
       "      <td>...</td>\n",
       "      <td>...</td>\n",
       "      <td>...</td>\n",
       "    </tr>\n",
       "    <tr>\n",
       "      <th>293978</th>\n",
       "      <td>527398</td>\n",
       "      <td>0</td>\n",
       "      <td>1</td>\n",
       "      <td>JBL0122</td>\n",
       "    </tr>\n",
       "    <tr>\n",
       "      <th>293979</th>\n",
       "      <td>527399</td>\n",
       "      <td>0</td>\n",
       "      <td>1</td>\n",
       "      <td>PAC0653</td>\n",
       "    </tr>\n",
       "    <tr>\n",
       "      <th>293980</th>\n",
       "      <td>527400</td>\n",
       "      <td>0</td>\n",
       "      <td>2</td>\n",
       "      <td>APP0698</td>\n",
       "    </tr>\n",
       "    <tr>\n",
       "      <th>293981</th>\n",
       "      <td>527388</td>\n",
       "      <td>0</td>\n",
       "      <td>1</td>\n",
       "      <td>BEZ0204</td>\n",
       "    </tr>\n",
       "    <tr>\n",
       "      <th>293982</th>\n",
       "      <td>527401</td>\n",
       "      <td>0</td>\n",
       "      <td>1</td>\n",
       "      <td>APP0927</td>\n",
       "    </tr>\n",
       "  </tbody>\n",
       "</table>\n",
       "<p>293983 rows × 4 columns</p>\n",
       "</div>"
      ],
      "text/plain": [
       "        id_order  product_id  product_quantity      sku\n",
       "0         299539           0                 1  OTT0133\n",
       "1         299540           0                 1  LGE0043\n",
       "2         299541           0                 1  PAR0071\n",
       "3         299542           0                 1  WDT0315\n",
       "4         299543           0                 1  JBL0104\n",
       "...          ...         ...               ...      ...\n",
       "293978    527398           0                 1  JBL0122\n",
       "293979    527399           0                 1  PAC0653\n",
       "293980    527400           0                 2  APP0698\n",
       "293981    527388           0                 1  BEZ0204\n",
       "293982    527401           0                 1  APP0927\n",
       "\n",
       "[293983 rows x 4 columns]"
      ]
     },
     "execution_count": 38,
     "metadata": {},
     "output_type": "execute_result"
    }
   ],
   "source": [
    "# .loc()\n",
    "df.loc[:, \"id_order\":\"sku\"]"
   ]
  },
  {
   "cell_type": "code",
   "execution_count": 39,
   "id": "vl4yNTak3G1M",
   "metadata": {
    "id": "vl4yNTak3G1M"
   },
   "outputs": [
    {
     "data": {
      "text/html": [
       "<div>\n",
       "<style scoped>\n",
       "    .dataframe tbody tr th:only-of-type {\n",
       "        vertical-align: middle;\n",
       "    }\n",
       "\n",
       "    .dataframe tbody tr th {\n",
       "        vertical-align: top;\n",
       "    }\n",
       "\n",
       "    .dataframe thead th {\n",
       "        text-align: right;\n",
       "    }\n",
       "</style>\n",
       "<table border=\"1\" class=\"dataframe\">\n",
       "  <thead>\n",
       "    <tr style=\"text-align: right;\">\n",
       "      <th></th>\n",
       "      <th>id</th>\n",
       "      <th>id_order</th>\n",
       "    </tr>\n",
       "  </thead>\n",
       "  <tbody>\n",
       "    <tr>\n",
       "      <th>0</th>\n",
       "      <td>1119109</td>\n",
       "      <td>299539</td>\n",
       "    </tr>\n",
       "    <tr>\n",
       "      <th>1</th>\n",
       "      <td>1119110</td>\n",
       "      <td>299540</td>\n",
       "    </tr>\n",
       "    <tr>\n",
       "      <th>2</th>\n",
       "      <td>1119111</td>\n",
       "      <td>299541</td>\n",
       "    </tr>\n",
       "    <tr>\n",
       "      <th>3</th>\n",
       "      <td>1119112</td>\n",
       "      <td>299542</td>\n",
       "    </tr>\n",
       "    <tr>\n",
       "      <th>4</th>\n",
       "      <td>1119113</td>\n",
       "      <td>299543</td>\n",
       "    </tr>\n",
       "    <tr>\n",
       "      <th>...</th>\n",
       "      <td>...</td>\n",
       "      <td>...</td>\n",
       "    </tr>\n",
       "    <tr>\n",
       "      <th>293978</th>\n",
       "      <td>1650199</td>\n",
       "      <td>527398</td>\n",
       "    </tr>\n",
       "    <tr>\n",
       "      <th>293979</th>\n",
       "      <td>1650200</td>\n",
       "      <td>527399</td>\n",
       "    </tr>\n",
       "    <tr>\n",
       "      <th>293980</th>\n",
       "      <td>1650201</td>\n",
       "      <td>527400</td>\n",
       "    </tr>\n",
       "    <tr>\n",
       "      <th>293981</th>\n",
       "      <td>1650202</td>\n",
       "      <td>527388</td>\n",
       "    </tr>\n",
       "    <tr>\n",
       "      <th>293982</th>\n",
       "      <td>1650203</td>\n",
       "      <td>527401</td>\n",
       "    </tr>\n",
       "  </tbody>\n",
       "</table>\n",
       "<p>293983 rows × 2 columns</p>\n",
       "</div>"
      ],
      "text/plain": [
       "             id  id_order\n",
       "0       1119109    299539\n",
       "1       1119110    299540\n",
       "2       1119111    299541\n",
       "3       1119112    299542\n",
       "4       1119113    299543\n",
       "...         ...       ...\n",
       "293978  1650199    527398\n",
       "293979  1650200    527399\n",
       "293980  1650201    527400\n",
       "293981  1650202    527388\n",
       "293982  1650203    527401\n",
       "\n",
       "[293983 rows x 2 columns]"
      ]
     },
     "execution_count": 39,
     "metadata": {},
     "output_type": "execute_result"
    }
   ],
   "source": [
    "# .iloc\n",
    "df.iloc[:, [0, 1]]"
   ]
  },
  {
   "cell_type": "code",
   "execution_count": 40,
   "id": "YulMzlS_3G1M",
   "metadata": {
    "id": "YulMzlS_3G1M"
   },
   "outputs": [
    {
     "data": {
      "text/html": [
       "<div>\n",
       "<style scoped>\n",
       "    .dataframe tbody tr th:only-of-type {\n",
       "        vertical-align: middle;\n",
       "    }\n",
       "\n",
       "    .dataframe tbody tr th {\n",
       "        vertical-align: top;\n",
       "    }\n",
       "\n",
       "    .dataframe thead th {\n",
       "        text-align: right;\n",
       "    }\n",
       "</style>\n",
       "<table border=\"1\" class=\"dataframe\">\n",
       "  <thead>\n",
       "    <tr style=\"text-align: right;\">\n",
       "      <th></th>\n",
       "      <th>id</th>\n",
       "      <th>id_order</th>\n",
       "    </tr>\n",
       "  </thead>\n",
       "  <tbody>\n",
       "    <tr>\n",
       "      <th>0</th>\n",
       "      <td>1119109</td>\n",
       "      <td>299539</td>\n",
       "    </tr>\n",
       "    <tr>\n",
       "      <th>1</th>\n",
       "      <td>1119110</td>\n",
       "      <td>299540</td>\n",
       "    </tr>\n",
       "    <tr>\n",
       "      <th>2</th>\n",
       "      <td>1119111</td>\n",
       "      <td>299541</td>\n",
       "    </tr>\n",
       "    <tr>\n",
       "      <th>3</th>\n",
       "      <td>1119112</td>\n",
       "      <td>299542</td>\n",
       "    </tr>\n",
       "    <tr>\n",
       "      <th>4</th>\n",
       "      <td>1119113</td>\n",
       "      <td>299543</td>\n",
       "    </tr>\n",
       "    <tr>\n",
       "      <th>...</th>\n",
       "      <td>...</td>\n",
       "      <td>...</td>\n",
       "    </tr>\n",
       "    <tr>\n",
       "      <th>293978</th>\n",
       "      <td>1650199</td>\n",
       "      <td>527398</td>\n",
       "    </tr>\n",
       "    <tr>\n",
       "      <th>293979</th>\n",
       "      <td>1650200</td>\n",
       "      <td>527399</td>\n",
       "    </tr>\n",
       "    <tr>\n",
       "      <th>293980</th>\n",
       "      <td>1650201</td>\n",
       "      <td>527400</td>\n",
       "    </tr>\n",
       "    <tr>\n",
       "      <th>293981</th>\n",
       "      <td>1650202</td>\n",
       "      <td>527388</td>\n",
       "    </tr>\n",
       "    <tr>\n",
       "      <th>293982</th>\n",
       "      <td>1650203</td>\n",
       "      <td>527401</td>\n",
       "    </tr>\n",
       "  </tbody>\n",
       "</table>\n",
       "<p>293983 rows × 2 columns</p>\n",
       "</div>"
      ],
      "text/plain": [
       "             id  id_order\n",
       "0       1119109    299539\n",
       "1       1119110    299540\n",
       "2       1119111    299541\n",
       "3       1119112    299542\n",
       "4       1119113    299543\n",
       "...         ...       ...\n",
       "293978  1650199    527398\n",
       "293979  1650200    527399\n",
       "293980  1650201    527400\n",
       "293981  1650202    527388\n",
       "293982  1650203    527401\n",
       "\n",
       "[293983 rows x 2 columns]"
      ]
     },
     "execution_count": 40,
     "metadata": {},
     "output_type": "execute_result"
    }
   ],
   "source": [
    "df.iloc[:, 0:2]"
   ]
  },
  {
   "cell_type": "markdown",
   "id": "t6ff3smA3G1M",
   "metadata": {
    "id": "t6ff3smA3G1M"
   },
   "source": [
    "## Rows\n",
    "\n",
    "Selecting rows is easy if you know how to select columns. You have two options:\n",
    "\n",
    "* With `.loc[]` (by name or tag)\n",
    "* With `.iloc[]` (by position)"
   ]
  },
  {
   "cell_type": "markdown",
   "id": "NONgKdat3G1M",
   "metadata": {
    "id": "NONgKdat3G1M"
   },
   "source": [
    "Selecting a single row returns a pandas Series (the 1-dimensional object that pandas has):"
   ]
  },
  {
   "cell_type": "code",
   "execution_count": 41,
   "id": "1VMW2DjU3G1N",
   "metadata": {
    "id": "1VMW2DjU3G1N"
   },
   "outputs": [
    {
     "data": {
      "text/plain": [
       "id                              1119109\n",
       "id_order                         299539\n",
       "product_id                            0\n",
       "product_quantity                      1\n",
       "sku                             OTT0133\n",
       "unit_price                        18.99\n",
       "date                2017-01-01 00:07:19\n",
       "Name: 0, dtype: object"
      ]
     },
     "execution_count": 41,
     "metadata": {},
     "output_type": "execute_result"
    }
   ],
   "source": [
    "df.loc[0]"
   ]
  },
  {
   "cell_type": "markdown",
   "id": "sB8ABuQC3G1N",
   "metadata": {
    "id": "sB8ABuQC3G1N"
   },
   "source": [
    "With `.loc[]`, rows are selected by its index name:"
   ]
  },
  {
   "cell_type": "code",
   "execution_count": 42,
   "id": "b3x_Zfcn3G1N",
   "metadata": {
    "id": "b3x_Zfcn3G1N"
   },
   "outputs": [
    {
     "data": {
      "text/html": [
       "<div>\n",
       "<style scoped>\n",
       "    .dataframe tbody tr th:only-of-type {\n",
       "        vertical-align: middle;\n",
       "    }\n",
       "\n",
       "    .dataframe tbody tr th {\n",
       "        vertical-align: top;\n",
       "    }\n",
       "\n",
       "    .dataframe thead th {\n",
       "        text-align: right;\n",
       "    }\n",
       "</style>\n",
       "<table border=\"1\" class=\"dataframe\">\n",
       "  <thead>\n",
       "    <tr style=\"text-align: right;\">\n",
       "      <th></th>\n",
       "      <th>id</th>\n",
       "      <th>id_order</th>\n",
       "      <th>product_id</th>\n",
       "      <th>product_quantity</th>\n",
       "      <th>sku</th>\n",
       "      <th>unit_price</th>\n",
       "      <th>date</th>\n",
       "    </tr>\n",
       "  </thead>\n",
       "  <tbody>\n",
       "    <tr>\n",
       "      <th>0</th>\n",
       "      <td>1119109</td>\n",
       "      <td>299539</td>\n",
       "      <td>0</td>\n",
       "      <td>1</td>\n",
       "      <td>OTT0133</td>\n",
       "      <td>18.99</td>\n",
       "      <td>2017-01-01 00:07:19</td>\n",
       "    </tr>\n",
       "    <tr>\n",
       "      <th>1</th>\n",
       "      <td>1119110</td>\n",
       "      <td>299540</td>\n",
       "      <td>0</td>\n",
       "      <td>1</td>\n",
       "      <td>LGE0043</td>\n",
       "      <td>399.00</td>\n",
       "      <td>2017-01-01 00:19:45</td>\n",
       "    </tr>\n",
       "    <tr>\n",
       "      <th>2</th>\n",
       "      <td>1119111</td>\n",
       "      <td>299541</td>\n",
       "      <td>0</td>\n",
       "      <td>1</td>\n",
       "      <td>PAR0071</td>\n",
       "      <td>474.05</td>\n",
       "      <td>2017-01-01 00:20:57</td>\n",
       "    </tr>\n",
       "    <tr>\n",
       "      <th>3</th>\n",
       "      <td>1119112</td>\n",
       "      <td>299542</td>\n",
       "      <td>0</td>\n",
       "      <td>1</td>\n",
       "      <td>WDT0315</td>\n",
       "      <td>68.39</td>\n",
       "      <td>2017-01-01 00:51:40</td>\n",
       "    </tr>\n",
       "  </tbody>\n",
       "</table>\n",
       "</div>"
      ],
      "text/plain": [
       "        id  id_order  product_id  product_quantity      sku unit_price  \\\n",
       "0  1119109    299539           0                 1  OTT0133      18.99   \n",
       "1  1119110    299540           0                 1  LGE0043     399.00   \n",
       "2  1119111    299541           0                 1  PAR0071     474.05   \n",
       "3  1119112    299542           0                 1  WDT0315      68.39   \n",
       "\n",
       "                  date  \n",
       "0  2017-01-01 00:07:19  \n",
       "1  2017-01-01 00:19:45  \n",
       "2  2017-01-01 00:20:57  \n",
       "3  2017-01-01 00:51:40  "
      ]
     },
     "execution_count": 42,
     "metadata": {},
     "output_type": "execute_result"
    }
   ],
   "source": [
    "df.loc[0:3]"
   ]
  },
  {
   "cell_type": "markdown",
   "id": "_UUQqfTT3G1N",
   "metadata": {
    "id": "_UUQqfTT3G1N"
   },
   "source": [
    "If we change the index and set it to the `id` column, now the first rows can not be selected the same way:"
   ]
  },
  {
   "cell_type": "code",
   "execution_count": 43,
   "id": "ZWZkhVd_3G1N",
   "metadata": {
    "id": "ZWZkhVd_3G1N"
   },
   "outputs": [],
   "source": [
    "df.set_index('id', inplace = True)\n",
    "# inplace = True is the same as doing df = df.set_index('id'), i.e. it modifies the dataframe"
   ]
  },
  {
   "cell_type": "code",
   "execution_count": 45,
   "id": "GfbGU34H3G1N",
   "metadata": {
    "id": "GfbGU34H3G1N"
   },
   "outputs": [
    {
     "data": {
      "text/html": [
       "<div>\n",
       "<style scoped>\n",
       "    .dataframe tbody tr th:only-of-type {\n",
       "        vertical-align: middle;\n",
       "    }\n",
       "\n",
       "    .dataframe tbody tr th {\n",
       "        vertical-align: top;\n",
       "    }\n",
       "\n",
       "    .dataframe thead th {\n",
       "        text-align: right;\n",
       "    }\n",
       "</style>\n",
       "<table border=\"1\" class=\"dataframe\">\n",
       "  <thead>\n",
       "    <tr style=\"text-align: right;\">\n",
       "      <th></th>\n",
       "      <th>id_order</th>\n",
       "      <th>product_id</th>\n",
       "      <th>product_quantity</th>\n",
       "      <th>sku</th>\n",
       "      <th>unit_price</th>\n",
       "      <th>date</th>\n",
       "    </tr>\n",
       "    <tr>\n",
       "      <th>id</th>\n",
       "      <th></th>\n",
       "      <th></th>\n",
       "      <th></th>\n",
       "      <th></th>\n",
       "      <th></th>\n",
       "      <th></th>\n",
       "    </tr>\n",
       "  </thead>\n",
       "  <tbody>\n",
       "  </tbody>\n",
       "</table>\n",
       "</div>"
      ],
      "text/plain": [
       "Empty DataFrame\n",
       "Columns: [id_order, product_id, product_quantity, sku, unit_price, date]\n",
       "Index: []"
      ]
     },
     "execution_count": 45,
     "metadata": {},
     "output_type": "execute_result"
    }
   ],
   "source": [
    "df.loc[0:3]"
   ]
  },
  {
   "cell_type": "code",
   "execution_count": 46,
   "id": "H2UMedJo3G1N",
   "metadata": {
    "id": "H2UMedJo3G1N"
   },
   "outputs": [
    {
     "data": {
      "text/html": [
       "<div>\n",
       "<style scoped>\n",
       "    .dataframe tbody tr th:only-of-type {\n",
       "        vertical-align: middle;\n",
       "    }\n",
       "\n",
       "    .dataframe tbody tr th {\n",
       "        vertical-align: top;\n",
       "    }\n",
       "\n",
       "    .dataframe thead th {\n",
       "        text-align: right;\n",
       "    }\n",
       "</style>\n",
       "<table border=\"1\" class=\"dataframe\">\n",
       "  <thead>\n",
       "    <tr style=\"text-align: right;\">\n",
       "      <th></th>\n",
       "      <th>id_order</th>\n",
       "      <th>product_id</th>\n",
       "      <th>product_quantity</th>\n",
       "      <th>sku</th>\n",
       "      <th>unit_price</th>\n",
       "      <th>date</th>\n",
       "    </tr>\n",
       "    <tr>\n",
       "      <th>id</th>\n",
       "      <th></th>\n",
       "      <th></th>\n",
       "      <th></th>\n",
       "      <th></th>\n",
       "      <th></th>\n",
       "      <th></th>\n",
       "    </tr>\n",
       "  </thead>\n",
       "  <tbody>\n",
       "    <tr>\n",
       "      <th>1119109</th>\n",
       "      <td>299539</td>\n",
       "      <td>0</td>\n",
       "      <td>1</td>\n",
       "      <td>OTT0133</td>\n",
       "      <td>18.99</td>\n",
       "      <td>2017-01-01 00:07:19</td>\n",
       "    </tr>\n",
       "    <tr>\n",
       "      <th>1119110</th>\n",
       "      <td>299540</td>\n",
       "      <td>0</td>\n",
       "      <td>1</td>\n",
       "      <td>LGE0043</td>\n",
       "      <td>399.00</td>\n",
       "      <td>2017-01-01 00:19:45</td>\n",
       "    </tr>\n",
       "  </tbody>\n",
       "</table>\n",
       "</div>"
      ],
      "text/plain": [
       "         id_order  product_id  product_quantity      sku unit_price  \\\n",
       "id                                                                    \n",
       "1119109    299539           0                 1  OTT0133      18.99   \n",
       "1119110    299540           0                 1  LGE0043     399.00   \n",
       "\n",
       "                        date  \n",
       "id                            \n",
       "1119109  2017-01-01 00:07:19  \n",
       "1119110  2017-01-01 00:19:45  "
      ]
     },
     "execution_count": 46,
     "metadata": {},
     "output_type": "execute_result"
    }
   ],
   "source": [
    "df.head(2)"
   ]
  },
  {
   "cell_type": "code",
   "execution_count": 47,
   "id": "WLIF-Usw3G1N",
   "metadata": {
    "id": "WLIF-Usw3G1N"
   },
   "outputs": [
    {
     "data": {
      "text/plain": [
       "id_order                         299540\n",
       "product_id                            0\n",
       "product_quantity                      1\n",
       "sku                             LGE0043\n",
       "unit_price                       399.00\n",
       "date                2017-01-01 00:19:45\n",
       "Name: 1119110, dtype: object"
      ]
     },
     "execution_count": 47,
     "metadata": {},
     "output_type": "execute_result"
    }
   ],
   "source": [
    "# select the first observation with the .loc() method\n",
    "df.loc[1119110]"
   ]
  },
  {
   "cell_type": "markdown",
   "id": "UrwM_2w73G1N",
   "metadata": {
    "id": "UrwM_2w73G1N"
   },
   "source": [
    "With the `iloc[]` method we don't need to know the row names to select rows at a certain position:"
   ]
  },
  {
   "cell_type": "code",
   "execution_count": 48,
   "id": "R7P8gqaF3G1N",
   "metadata": {
    "id": "R7P8gqaF3G1N"
   },
   "outputs": [
    {
     "data": {
      "text/html": [
       "<div>\n",
       "<style scoped>\n",
       "    .dataframe tbody tr th:only-of-type {\n",
       "        vertical-align: middle;\n",
       "    }\n",
       "\n",
       "    .dataframe tbody tr th {\n",
       "        vertical-align: top;\n",
       "    }\n",
       "\n",
       "    .dataframe thead th {\n",
       "        text-align: right;\n",
       "    }\n",
       "</style>\n",
       "<table border=\"1\" class=\"dataframe\">\n",
       "  <thead>\n",
       "    <tr style=\"text-align: right;\">\n",
       "      <th></th>\n",
       "      <th>id_order</th>\n",
       "      <th>product_id</th>\n",
       "      <th>product_quantity</th>\n",
       "      <th>sku</th>\n",
       "      <th>unit_price</th>\n",
       "      <th>date</th>\n",
       "    </tr>\n",
       "    <tr>\n",
       "      <th>id</th>\n",
       "      <th></th>\n",
       "      <th></th>\n",
       "      <th></th>\n",
       "      <th></th>\n",
       "      <th></th>\n",
       "      <th></th>\n",
       "    </tr>\n",
       "  </thead>\n",
       "  <tbody>\n",
       "    <tr>\n",
       "      <th>1119109</th>\n",
       "      <td>299539</td>\n",
       "      <td>0</td>\n",
       "      <td>1</td>\n",
       "      <td>OTT0133</td>\n",
       "      <td>18.99</td>\n",
       "      <td>2017-01-01 00:07:19</td>\n",
       "    </tr>\n",
       "    <tr>\n",
       "      <th>1119110</th>\n",
       "      <td>299540</td>\n",
       "      <td>0</td>\n",
       "      <td>1</td>\n",
       "      <td>LGE0043</td>\n",
       "      <td>399.00</td>\n",
       "      <td>2017-01-01 00:19:45</td>\n",
       "    </tr>\n",
       "    <tr>\n",
       "      <th>1119111</th>\n",
       "      <td>299541</td>\n",
       "      <td>0</td>\n",
       "      <td>1</td>\n",
       "      <td>PAR0071</td>\n",
       "      <td>474.05</td>\n",
       "      <td>2017-01-01 00:20:57</td>\n",
       "    </tr>\n",
       "  </tbody>\n",
       "</table>\n",
       "</div>"
      ],
      "text/plain": [
       "         id_order  product_id  product_quantity      sku unit_price  \\\n",
       "id                                                                    \n",
       "1119109    299539           0                 1  OTT0133      18.99   \n",
       "1119110    299540           0                 1  LGE0043     399.00   \n",
       "1119111    299541           0                 1  PAR0071     474.05   \n",
       "\n",
       "                        date  \n",
       "id                            \n",
       "1119109  2017-01-01 00:07:19  \n",
       "1119110  2017-01-01 00:19:45  \n",
       "1119111  2017-01-01 00:20:57  "
      ]
     },
     "execution_count": 48,
     "metadata": {},
     "output_type": "execute_result"
    }
   ],
   "source": [
    "df.iloc[0:3]"
   ]
  },
  {
   "cell_type": "code",
   "execution_count": 49,
   "id": "q5yP3x7W3G1O",
   "metadata": {
    "id": "q5yP3x7W3G1O"
   },
   "outputs": [
    {
     "data": {
      "text/plain": [
       "id_order                         527401\n",
       "product_id                            0\n",
       "product_quantity                      1\n",
       "sku                             APP0927\n",
       "unit_price                        13.99\n",
       "date                2018-03-14 13:58:36\n",
       "Name: 1650203, dtype: object"
      ]
     },
     "execution_count": 49,
     "metadata": {},
     "output_type": "execute_result"
    }
   ],
   "source": [
    "# select the last observation with the method .iloc[]\n",
    "df.iloc[-1]\n",
    "# df.tail(1)"
   ]
  },
  {
   "cell_type": "code",
   "execution_count": 50,
   "id": "NPVye8ah3G1O",
   "metadata": {
    "id": "NPVye8ah3G1O"
   },
   "outputs": [
    {
     "data": {
      "text/html": [
       "<div>\n",
       "<style scoped>\n",
       "    .dataframe tbody tr th:only-of-type {\n",
       "        vertical-align: middle;\n",
       "    }\n",
       "\n",
       "    .dataframe tbody tr th {\n",
       "        vertical-align: top;\n",
       "    }\n",
       "\n",
       "    .dataframe thead th {\n",
       "        text-align: right;\n",
       "    }\n",
       "</style>\n",
       "<table border=\"1\" class=\"dataframe\">\n",
       "  <thead>\n",
       "    <tr style=\"text-align: right;\">\n",
       "      <th></th>\n",
       "      <th>id_order</th>\n",
       "      <th>product_id</th>\n",
       "      <th>product_quantity</th>\n",
       "      <th>sku</th>\n",
       "      <th>unit_price</th>\n",
       "      <th>date</th>\n",
       "    </tr>\n",
       "    <tr>\n",
       "      <th>id</th>\n",
       "      <th></th>\n",
       "      <th></th>\n",
       "      <th></th>\n",
       "      <th></th>\n",
       "      <th></th>\n",
       "      <th></th>\n",
       "    </tr>\n",
       "  </thead>\n",
       "  <tbody>\n",
       "    <tr>\n",
       "      <th>1119111</th>\n",
       "      <td>299541</td>\n",
       "      <td>0</td>\n",
       "      <td>1</td>\n",
       "      <td>PAR0071</td>\n",
       "      <td>474.05</td>\n",
       "      <td>2017-01-01 00:20:57</td>\n",
       "    </tr>\n",
       "    <tr>\n",
       "      <th>1119112</th>\n",
       "      <td>299542</td>\n",
       "      <td>0</td>\n",
       "      <td>1</td>\n",
       "      <td>WDT0315</td>\n",
       "      <td>68.39</td>\n",
       "      <td>2017-01-01 00:51:40</td>\n",
       "    </tr>\n",
       "    <tr>\n",
       "      <th>1119113</th>\n",
       "      <td>299543</td>\n",
       "      <td>0</td>\n",
       "      <td>1</td>\n",
       "      <td>JBL0104</td>\n",
       "      <td>23.74</td>\n",
       "      <td>2017-01-01 01:06:38</td>\n",
       "    </tr>\n",
       "  </tbody>\n",
       "</table>\n",
       "</div>"
      ],
      "text/plain": [
       "         id_order  product_id  product_quantity      sku unit_price  \\\n",
       "id                                                                    \n",
       "1119111    299541           0                 1  PAR0071     474.05   \n",
       "1119112    299542           0                 1  WDT0315      68.39   \n",
       "1119113    299543           0                 1  JBL0104      23.74   \n",
       "\n",
       "                        date  \n",
       "id                            \n",
       "1119111  2017-01-01 00:20:57  \n",
       "1119112  2017-01-01 00:51:40  \n",
       "1119113  2017-01-01 01:06:38  "
      ]
     },
     "execution_count": 50,
     "metadata": {},
     "output_type": "execute_result"
    }
   ],
   "source": [
    "df.loc[[1119111,1119112,1119113]]"
   ]
  },
  {
   "cell_type": "markdown",
   "id": "DLhdY-dX3G1O",
   "metadata": {
    "id": "DLhdY-dX3G1O"
   },
   "source": [
    "Again, using `:` you can select all elements between the two that you specified:"
   ]
  },
  {
   "cell_type": "code",
   "execution_count": 51,
   "id": "hvJFEquk3G1O",
   "metadata": {
    "id": "hvJFEquk3G1O"
   },
   "outputs": [
    {
     "data": {
      "text/html": [
       "<div>\n",
       "<style scoped>\n",
       "    .dataframe tbody tr th:only-of-type {\n",
       "        vertical-align: middle;\n",
       "    }\n",
       "\n",
       "    .dataframe tbody tr th {\n",
       "        vertical-align: top;\n",
       "    }\n",
       "\n",
       "    .dataframe thead th {\n",
       "        text-align: right;\n",
       "    }\n",
       "</style>\n",
       "<table border=\"1\" class=\"dataframe\">\n",
       "  <thead>\n",
       "    <tr style=\"text-align: right;\">\n",
       "      <th></th>\n",
       "      <th>id_order</th>\n",
       "      <th>product_id</th>\n",
       "      <th>product_quantity</th>\n",
       "      <th>sku</th>\n",
       "      <th>unit_price</th>\n",
       "      <th>date</th>\n",
       "    </tr>\n",
       "    <tr>\n",
       "      <th>id</th>\n",
       "      <th></th>\n",
       "      <th></th>\n",
       "      <th></th>\n",
       "      <th></th>\n",
       "      <th></th>\n",
       "      <th></th>\n",
       "    </tr>\n",
       "  </thead>\n",
       "  <tbody>\n",
       "    <tr>\n",
       "      <th>1119111</th>\n",
       "      <td>299541</td>\n",
       "      <td>0</td>\n",
       "      <td>1</td>\n",
       "      <td>PAR0071</td>\n",
       "      <td>474.05</td>\n",
       "      <td>2017-01-01 00:20:57</td>\n",
       "    </tr>\n",
       "    <tr>\n",
       "      <th>1119112</th>\n",
       "      <td>299542</td>\n",
       "      <td>0</td>\n",
       "      <td>1</td>\n",
       "      <td>WDT0315</td>\n",
       "      <td>68.39</td>\n",
       "      <td>2017-01-01 00:51:40</td>\n",
       "    </tr>\n",
       "    <tr>\n",
       "      <th>1119113</th>\n",
       "      <td>299543</td>\n",
       "      <td>0</td>\n",
       "      <td>1</td>\n",
       "      <td>JBL0104</td>\n",
       "      <td>23.74</td>\n",
       "      <td>2017-01-01 01:06:38</td>\n",
       "    </tr>\n",
       "  </tbody>\n",
       "</table>\n",
       "</div>"
      ],
      "text/plain": [
       "         id_order  product_id  product_quantity      sku unit_price  \\\n",
       "id                                                                    \n",
       "1119111    299541           0                 1  PAR0071     474.05   \n",
       "1119112    299542           0                 1  WDT0315      68.39   \n",
       "1119113    299543           0                 1  JBL0104      23.74   \n",
       "\n",
       "                        date  \n",
       "id                            \n",
       "1119111  2017-01-01 00:20:57  \n",
       "1119112  2017-01-01 00:51:40  \n",
       "1119113  2017-01-01 01:06:38  "
      ]
     },
     "execution_count": 51,
     "metadata": {},
     "output_type": "execute_result"
    }
   ],
   "source": [
    "df.loc[1119111:1119113]"
   ]
  },
  {
   "cell_type": "code",
   "execution_count": 69,
   "id": "DBELgGe_3G1O",
   "metadata": {
    "id": "DBELgGe_3G1O"
   },
   "outputs": [],
   "source": [
    "df.reset_index(inplace = True)"
   ]
  },
  {
   "cell_type": "markdown",
   "id": "5C394I2F3G1O",
   "metadata": {
    "id": "5C394I2F3G1O"
   },
   "source": [
    "Indexing can get tricky sometimes, it's ok to take some time to get used to the methods we presented, and it's ok to have some trouble selecting the rows and columns you need. For an exhaustive guide on Pandas indexing, check out this link: https://pandas.pydata.org/docs/user_guide/indexing.html#indexing "
   ]
  },
  {
   "cell_type": "markdown",
   "id": "nUTQs-aM3G1O",
   "metadata": {
    "id": "nUTQs-aM3G1O"
   },
   "source": [
    "## Drop and Filter data"
   ]
  },
  {
   "cell_type": "markdown",
   "id": "I-3vooKB3G1O",
   "metadata": {
    "id": "I-3vooKB3G1O"
   },
   "source": [
    "The `.drop()` method allows us to delete the rows or columns that we indicate.\n",
    "\n",
    "**Note:** Again, if we want to directly apply the changes to the original dataframe, we need to indicate `inplace = True`. Otherwise, we are getting as an output just a \"view\" of how the dataframe looks like after the drop, but the original dataframe remains untouched."
   ]
  },
  {
   "cell_type": "code",
   "execution_count": 70,
   "id": "kXuJacQh3G1O",
   "metadata": {
    "id": "kXuJacQh3G1O"
   },
   "outputs": [
    {
     "data": {
      "text/html": [
       "<div>\n",
       "<style scoped>\n",
       "    .dataframe tbody tr th:only-of-type {\n",
       "        vertical-align: middle;\n",
       "    }\n",
       "\n",
       "    .dataframe tbody tr th {\n",
       "        vertical-align: top;\n",
       "    }\n",
       "\n",
       "    .dataframe thead th {\n",
       "        text-align: right;\n",
       "    }\n",
       "</style>\n",
       "<table border=\"1\" class=\"dataframe\">\n",
       "  <thead>\n",
       "    <tr style=\"text-align: right;\">\n",
       "      <th></th>\n",
       "      <th>index</th>\n",
       "      <th>id</th>\n",
       "      <th>id_order</th>\n",
       "      <th>product_id</th>\n",
       "      <th>product_quantity</th>\n",
       "      <th>sku</th>\n",
       "      <th>date</th>\n",
       "    </tr>\n",
       "  </thead>\n",
       "  <tbody>\n",
       "    <tr>\n",
       "      <th>0</th>\n",
       "      <td>0</td>\n",
       "      <td>1119109</td>\n",
       "      <td>299539</td>\n",
       "      <td>0</td>\n",
       "      <td>1</td>\n",
       "      <td>OTT0133</td>\n",
       "      <td>2017-01-01 00:07:19</td>\n",
       "    </tr>\n",
       "    <tr>\n",
       "      <th>1</th>\n",
       "      <td>1</td>\n",
       "      <td>1119110</td>\n",
       "      <td>299540</td>\n",
       "      <td>0</td>\n",
       "      <td>1</td>\n",
       "      <td>LGE0043</td>\n",
       "      <td>2017-01-01 00:19:45</td>\n",
       "    </tr>\n",
       "    <tr>\n",
       "      <th>2</th>\n",
       "      <td>2</td>\n",
       "      <td>1119111</td>\n",
       "      <td>299541</td>\n",
       "      <td>0</td>\n",
       "      <td>1</td>\n",
       "      <td>PAR0071</td>\n",
       "      <td>2017-01-01 00:20:57</td>\n",
       "    </tr>\n",
       "    <tr>\n",
       "      <th>3</th>\n",
       "      <td>3</td>\n",
       "      <td>1119112</td>\n",
       "      <td>299542</td>\n",
       "      <td>0</td>\n",
       "      <td>1</td>\n",
       "      <td>WDT0315</td>\n",
       "      <td>2017-01-01 00:51:40</td>\n",
       "    </tr>\n",
       "    <tr>\n",
       "      <th>4</th>\n",
       "      <td>4</td>\n",
       "      <td>1119113</td>\n",
       "      <td>299543</td>\n",
       "      <td>0</td>\n",
       "      <td>1</td>\n",
       "      <td>JBL0104</td>\n",
       "      <td>2017-01-01 01:06:38</td>\n",
       "    </tr>\n",
       "    <tr>\n",
       "      <th>...</th>\n",
       "      <td>...</td>\n",
       "      <td>...</td>\n",
       "      <td>...</td>\n",
       "      <td>...</td>\n",
       "      <td>...</td>\n",
       "      <td>...</td>\n",
       "      <td>...</td>\n",
       "    </tr>\n",
       "    <tr>\n",
       "      <th>293978</th>\n",
       "      <td>293978</td>\n",
       "      <td>1650199</td>\n",
       "      <td>527398</td>\n",
       "      <td>0</td>\n",
       "      <td>1</td>\n",
       "      <td>JBL0122</td>\n",
       "      <td>2018-03-14 13:57:25</td>\n",
       "    </tr>\n",
       "    <tr>\n",
       "      <th>293979</th>\n",
       "      <td>293979</td>\n",
       "      <td>1650200</td>\n",
       "      <td>527399</td>\n",
       "      <td>0</td>\n",
       "      <td>1</td>\n",
       "      <td>PAC0653</td>\n",
       "      <td>2018-03-14 13:57:34</td>\n",
       "    </tr>\n",
       "    <tr>\n",
       "      <th>293980</th>\n",
       "      <td>293980</td>\n",
       "      <td>1650201</td>\n",
       "      <td>527400</td>\n",
       "      <td>0</td>\n",
       "      <td>2</td>\n",
       "      <td>APP0698</td>\n",
       "      <td>2018-03-14 13:57:41</td>\n",
       "    </tr>\n",
       "    <tr>\n",
       "      <th>293981</th>\n",
       "      <td>293981</td>\n",
       "      <td>1650202</td>\n",
       "      <td>527388</td>\n",
       "      <td>0</td>\n",
       "      <td>1</td>\n",
       "      <td>BEZ0204</td>\n",
       "      <td>2018-03-14 13:58:01</td>\n",
       "    </tr>\n",
       "    <tr>\n",
       "      <th>293982</th>\n",
       "      <td>293982</td>\n",
       "      <td>1650203</td>\n",
       "      <td>527401</td>\n",
       "      <td>0</td>\n",
       "      <td>1</td>\n",
       "      <td>APP0927</td>\n",
       "      <td>2018-03-14 13:58:36</td>\n",
       "    </tr>\n",
       "  </tbody>\n",
       "</table>\n",
       "<p>293983 rows × 7 columns</p>\n",
       "</div>"
      ],
      "text/plain": [
       "         index       id  id_order  product_id  product_quantity      sku  \\\n",
       "0            0  1119109    299539           0                 1  OTT0133   \n",
       "1            1  1119110    299540           0                 1  LGE0043   \n",
       "2            2  1119111    299541           0                 1  PAR0071   \n",
       "3            3  1119112    299542           0                 1  WDT0315   \n",
       "4            4  1119113    299543           0                 1  JBL0104   \n",
       "...        ...      ...       ...         ...               ...      ...   \n",
       "293978  293978  1650199    527398           0                 1  JBL0122   \n",
       "293979  293979  1650200    527399           0                 1  PAC0653   \n",
       "293980  293980  1650201    527400           0                 2  APP0698   \n",
       "293981  293981  1650202    527388           0                 1  BEZ0204   \n",
       "293982  293982  1650203    527401           0                 1  APP0927   \n",
       "\n",
       "                       date  \n",
       "0       2017-01-01 00:07:19  \n",
       "1       2017-01-01 00:19:45  \n",
       "2       2017-01-01 00:20:57  \n",
       "3       2017-01-01 00:51:40  \n",
       "4       2017-01-01 01:06:38  \n",
       "...                     ...  \n",
       "293978  2018-03-14 13:57:25  \n",
       "293979  2018-03-14 13:57:34  \n",
       "293980  2018-03-14 13:57:41  \n",
       "293981  2018-03-14 13:58:01  \n",
       "293982  2018-03-14 13:58:36  \n",
       "\n",
       "[293983 rows x 7 columns]"
      ]
     },
     "execution_count": 70,
     "metadata": {},
     "output_type": "execute_result"
    }
   ],
   "source": [
    "# droping the column \"unit_price\"\n",
    "# axis=1 means we want to drop a column, not a row (for rows, axis=0)\n",
    "df.drop(['unit_price'], axis = 1)"
   ]
  },
  {
   "cell_type": "markdown",
   "id": "4Labqke33G1O",
   "metadata": {
    "id": "4Labqke33G1O"
   },
   "source": [
    "How to filter information on a dataframe."
   ]
  },
  {
   "cell_type": "code",
   "execution_count": 72,
   "id": "HRi9zIme3G1O",
   "metadata": {
    "id": "HRi9zIme3G1O"
   },
   "outputs": [
    {
     "data": {
      "text/html": [
       "<div>\n",
       "<style scoped>\n",
       "    .dataframe tbody tr th:only-of-type {\n",
       "        vertical-align: middle;\n",
       "    }\n",
       "\n",
       "    .dataframe tbody tr th {\n",
       "        vertical-align: top;\n",
       "    }\n",
       "\n",
       "    .dataframe thead th {\n",
       "        text-align: right;\n",
       "    }\n",
       "</style>\n",
       "<table border=\"1\" class=\"dataframe\">\n",
       "  <thead>\n",
       "    <tr style=\"text-align: right;\">\n",
       "      <th></th>\n",
       "      <th>index</th>\n",
       "      <th>id</th>\n",
       "      <th>id_order</th>\n",
       "      <th>product_id</th>\n",
       "      <th>product_quantity</th>\n",
       "      <th>sku</th>\n",
       "      <th>unit_price</th>\n",
       "      <th>date</th>\n",
       "    </tr>\n",
       "  </thead>\n",
       "  <tbody>\n",
       "    <tr>\n",
       "      <th>27779</th>\n",
       "      <td>27779</td>\n",
       "      <td>1180010</td>\n",
       "      <td>323959</td>\n",
       "      <td>0</td>\n",
       "      <td>126</td>\n",
       "      <td>ADN0039</td>\n",
       "      <td>34.99</td>\n",
       "      <td>2017-02-14 10:21:12</td>\n",
       "    </tr>\n",
       "    <tr>\n",
       "      <th>40813</th>\n",
       "      <td>40813</td>\n",
       "      <td>1204788</td>\n",
       "      <td>335057</td>\n",
       "      <td>0</td>\n",
       "      <td>201</td>\n",
       "      <td>THU0029</td>\n",
       "      <td>80.99</td>\n",
       "      <td>2017-03-14 15:25:53</td>\n",
       "    </tr>\n",
       "    <tr>\n",
       "      <th>53860</th>\n",
       "      <td>53860</td>\n",
       "      <td>1228150</td>\n",
       "      <td>346221</td>\n",
       "      <td>0</td>\n",
       "      <td>999</td>\n",
       "      <td>APP1190</td>\n",
       "      <td>55.99</td>\n",
       "      <td>2017-04-14 21:50:52</td>\n",
       "    </tr>\n",
       "    <tr>\n",
       "      <th>57306</th>\n",
       "      <td>57306</td>\n",
       "      <td>1234111</td>\n",
       "      <td>349133</td>\n",
       "      <td>0</td>\n",
       "      <td>555</td>\n",
       "      <td>APP0665</td>\n",
       "      <td>70.99</td>\n",
       "      <td>2017-04-24 10:20:13</td>\n",
       "    </tr>\n",
       "    <tr>\n",
       "      <th>57796</th>\n",
       "      <td>57796</td>\n",
       "      <td>1234924</td>\n",
       "      <td>349475</td>\n",
       "      <td>0</td>\n",
       "      <td>800</td>\n",
       "      <td>KIN0137</td>\n",
       "      <td>7.49</td>\n",
       "      <td>2017-04-25 09:59:00</td>\n",
       "    </tr>\n",
       "    <tr>\n",
       "      <th>68712</th>\n",
       "      <td>68712</td>\n",
       "      <td>1254032</td>\n",
       "      <td>358747</td>\n",
       "      <td>0</td>\n",
       "      <td>999</td>\n",
       "      <td>SEV0028</td>\n",
       "      <td>19.99</td>\n",
       "      <td>2017-05-24 14:51:58</td>\n",
       "    </tr>\n",
       "    <tr>\n",
       "      <th>136675</th>\n",
       "      <td>136675</td>\n",
       "      <td>1388261</td>\n",
       "      <td>417536</td>\n",
       "      <td>0</td>\n",
       "      <td>200</td>\n",
       "      <td>TRK0009</td>\n",
       "      <td>29.99</td>\n",
       "      <td>2017-10-25 15:02:39</td>\n",
       "    </tr>\n",
       "    <tr>\n",
       "      <th>204637</th>\n",
       "      <td>204637</td>\n",
       "      <td>1500715</td>\n",
       "      <td>464858</td>\n",
       "      <td>0</td>\n",
       "      <td>192</td>\n",
       "      <td>APP1662</td>\n",
       "      <td>519.00</td>\n",
       "      <td>2017-12-17 15:53:04</td>\n",
       "    </tr>\n",
       "    <tr>\n",
       "      <th>246048</th>\n",
       "      <td>246048</td>\n",
       "      <td>1574262</td>\n",
       "      <td>496172</td>\n",
       "      <td>0</td>\n",
       "      <td>164</td>\n",
       "      <td>EVU0013</td>\n",
       "      <td>19.99</td>\n",
       "      <td>2018-01-22 16:14:42</td>\n",
       "    </tr>\n",
       "    <tr>\n",
       "      <th>285492</th>\n",
       "      <td>285492</td>\n",
       "      <td>1637611</td>\n",
       "      <td>522075</td>\n",
       "      <td>0</td>\n",
       "      <td>125</td>\n",
       "      <td>XDO0047</td>\n",
       "      <td>25.99</td>\n",
       "      <td>2018-03-06 10:07:54</td>\n",
       "    </tr>\n",
       "  </tbody>\n",
       "</table>\n",
       "</div>"
      ],
      "text/plain": [
       "         index       id  id_order  product_id  product_quantity      sku  \\\n",
       "27779    27779  1180010    323959           0               126  ADN0039   \n",
       "40813    40813  1204788    335057           0               201  THU0029   \n",
       "53860    53860  1228150    346221           0               999  APP1190   \n",
       "57306    57306  1234111    349133           0               555  APP0665   \n",
       "57796    57796  1234924    349475           0               800  KIN0137   \n",
       "68712    68712  1254032    358747           0               999  SEV0028   \n",
       "136675  136675  1388261    417536           0               200  TRK0009   \n",
       "204637  204637  1500715    464858           0               192  APP1662   \n",
       "246048  246048  1574262    496172           0               164  EVU0013   \n",
       "285492  285492  1637611    522075           0               125  XDO0047   \n",
       "\n",
       "       unit_price                 date  \n",
       "27779       34.99  2017-02-14 10:21:12  \n",
       "40813       80.99  2017-03-14 15:25:53  \n",
       "53860       55.99  2017-04-14 21:50:52  \n",
       "57306       70.99  2017-04-24 10:20:13  \n",
       "57796        7.49  2017-04-25 09:59:00  \n",
       "68712       19.99  2017-05-24 14:51:58  \n",
       "136675      29.99  2017-10-25 15:02:39  \n",
       "204637     519.00  2017-12-17 15:53:04  \n",
       "246048      19.99  2018-01-22 16:14:42  \n",
       "285492      25.99  2018-03-06 10:07:54  "
      ]
     },
     "execution_count": 72,
     "metadata": {},
     "output_type": "execute_result"
    }
   ],
   "source": [
    "# rows with product quantity larger than 100\n",
    "df.loc[df['product_quantity'] > 100, :]"
   ]
  },
  {
   "cell_type": "markdown",
   "id": "BHaXdzx53G1P",
   "metadata": {
    "id": "BHaXdzx53G1P"
   },
   "source": [
    "The `.query()` method can be useful for this purpose, as it resembles SQL syntax. Note that it works only when the column values do not contain blank spaces. You can use any **Python Comparison Operators** you want inside the query method (find more information on this [link](https://www.w3schools.com/python/python_operators.asp))."
   ]
  },
  {
   "cell_type": "code",
   "execution_count": 73,
   "id": "Imd3FNA73G1P",
   "metadata": {
    "id": "Imd3FNA73G1P"
   },
   "outputs": [
    {
     "data": {
      "text/html": [
       "<div>\n",
       "<style scoped>\n",
       "    .dataframe tbody tr th:only-of-type {\n",
       "        vertical-align: middle;\n",
       "    }\n",
       "\n",
       "    .dataframe tbody tr th {\n",
       "        vertical-align: top;\n",
       "    }\n",
       "\n",
       "    .dataframe thead th {\n",
       "        text-align: right;\n",
       "    }\n",
       "</style>\n",
       "<table border=\"1\" class=\"dataframe\">\n",
       "  <thead>\n",
       "    <tr style=\"text-align: right;\">\n",
       "      <th></th>\n",
       "      <th>index</th>\n",
       "      <th>id</th>\n",
       "      <th>id_order</th>\n",
       "      <th>product_id</th>\n",
       "      <th>product_quantity</th>\n",
       "      <th>sku</th>\n",
       "      <th>unit_price</th>\n",
       "      <th>date</th>\n",
       "    </tr>\n",
       "  </thead>\n",
       "  <tbody>\n",
       "    <tr>\n",
       "      <th>27779</th>\n",
       "      <td>27779</td>\n",
       "      <td>1180010</td>\n",
       "      <td>323959</td>\n",
       "      <td>0</td>\n",
       "      <td>126</td>\n",
       "      <td>ADN0039</td>\n",
       "      <td>34.99</td>\n",
       "      <td>2017-02-14 10:21:12</td>\n",
       "    </tr>\n",
       "    <tr>\n",
       "      <th>40813</th>\n",
       "      <td>40813</td>\n",
       "      <td>1204788</td>\n",
       "      <td>335057</td>\n",
       "      <td>0</td>\n",
       "      <td>201</td>\n",
       "      <td>THU0029</td>\n",
       "      <td>80.99</td>\n",
       "      <td>2017-03-14 15:25:53</td>\n",
       "    </tr>\n",
       "    <tr>\n",
       "      <th>53860</th>\n",
       "      <td>53860</td>\n",
       "      <td>1228150</td>\n",
       "      <td>346221</td>\n",
       "      <td>0</td>\n",
       "      <td>999</td>\n",
       "      <td>APP1190</td>\n",
       "      <td>55.99</td>\n",
       "      <td>2017-04-14 21:50:52</td>\n",
       "    </tr>\n",
       "    <tr>\n",
       "      <th>57306</th>\n",
       "      <td>57306</td>\n",
       "      <td>1234111</td>\n",
       "      <td>349133</td>\n",
       "      <td>0</td>\n",
       "      <td>555</td>\n",
       "      <td>APP0665</td>\n",
       "      <td>70.99</td>\n",
       "      <td>2017-04-24 10:20:13</td>\n",
       "    </tr>\n",
       "    <tr>\n",
       "      <th>57796</th>\n",
       "      <td>57796</td>\n",
       "      <td>1234924</td>\n",
       "      <td>349475</td>\n",
       "      <td>0</td>\n",
       "      <td>800</td>\n",
       "      <td>KIN0137</td>\n",
       "      <td>7.49</td>\n",
       "      <td>2017-04-25 09:59:00</td>\n",
       "    </tr>\n",
       "    <tr>\n",
       "      <th>68712</th>\n",
       "      <td>68712</td>\n",
       "      <td>1254032</td>\n",
       "      <td>358747</td>\n",
       "      <td>0</td>\n",
       "      <td>999</td>\n",
       "      <td>SEV0028</td>\n",
       "      <td>19.99</td>\n",
       "      <td>2017-05-24 14:51:58</td>\n",
       "    </tr>\n",
       "    <tr>\n",
       "      <th>136675</th>\n",
       "      <td>136675</td>\n",
       "      <td>1388261</td>\n",
       "      <td>417536</td>\n",
       "      <td>0</td>\n",
       "      <td>200</td>\n",
       "      <td>TRK0009</td>\n",
       "      <td>29.99</td>\n",
       "      <td>2017-10-25 15:02:39</td>\n",
       "    </tr>\n",
       "    <tr>\n",
       "      <th>204637</th>\n",
       "      <td>204637</td>\n",
       "      <td>1500715</td>\n",
       "      <td>464858</td>\n",
       "      <td>0</td>\n",
       "      <td>192</td>\n",
       "      <td>APP1662</td>\n",
       "      <td>519.00</td>\n",
       "      <td>2017-12-17 15:53:04</td>\n",
       "    </tr>\n",
       "    <tr>\n",
       "      <th>246048</th>\n",
       "      <td>246048</td>\n",
       "      <td>1574262</td>\n",
       "      <td>496172</td>\n",
       "      <td>0</td>\n",
       "      <td>164</td>\n",
       "      <td>EVU0013</td>\n",
       "      <td>19.99</td>\n",
       "      <td>2018-01-22 16:14:42</td>\n",
       "    </tr>\n",
       "    <tr>\n",
       "      <th>285492</th>\n",
       "      <td>285492</td>\n",
       "      <td>1637611</td>\n",
       "      <td>522075</td>\n",
       "      <td>0</td>\n",
       "      <td>125</td>\n",
       "      <td>XDO0047</td>\n",
       "      <td>25.99</td>\n",
       "      <td>2018-03-06 10:07:54</td>\n",
       "    </tr>\n",
       "  </tbody>\n",
       "</table>\n",
       "</div>"
      ],
      "text/plain": [
       "         index       id  id_order  product_id  product_quantity      sku  \\\n",
       "27779    27779  1180010    323959           0               126  ADN0039   \n",
       "40813    40813  1204788    335057           0               201  THU0029   \n",
       "53860    53860  1228150    346221           0               999  APP1190   \n",
       "57306    57306  1234111    349133           0               555  APP0665   \n",
       "57796    57796  1234924    349475           0               800  KIN0137   \n",
       "68712    68712  1254032    358747           0               999  SEV0028   \n",
       "136675  136675  1388261    417536           0               200  TRK0009   \n",
       "204637  204637  1500715    464858           0               192  APP1662   \n",
       "246048  246048  1574262    496172           0               164  EVU0013   \n",
       "285492  285492  1637611    522075           0               125  XDO0047   \n",
       "\n",
       "       unit_price                 date  \n",
       "27779       34.99  2017-02-14 10:21:12  \n",
       "40813       80.99  2017-03-14 15:25:53  \n",
       "53860       55.99  2017-04-14 21:50:52  \n",
       "57306       70.99  2017-04-24 10:20:13  \n",
       "57796        7.49  2017-04-25 09:59:00  \n",
       "68712       19.99  2017-05-24 14:51:58  \n",
       "136675      29.99  2017-10-25 15:02:39  \n",
       "204637     519.00  2017-12-17 15:53:04  \n",
       "246048      19.99  2018-01-22 16:14:42  \n",
       "285492      25.99  2018-03-06 10:07:54  "
      ]
     },
     "execution_count": 73,
     "metadata": {},
     "output_type": "execute_result"
    }
   ],
   "source": [
    "df.query('product_quantity > 100')"
   ]
  },
  {
   "cell_type": "markdown",
   "id": "gsRzSuU63G1P",
   "metadata": {
    "id": "gsRzSuU63G1P"
   },
   "source": [
    "The `isin()` method is very useful to find rows that match any of the values you have in a list. For example, here we are searching for rows where its `sku` matches any of the 2 sku's we listed:"
   ]
  },
  {
   "cell_type": "code",
   "execution_count": 74,
   "id": "L1TEQt9I3G1P",
   "metadata": {
    "id": "L1TEQt9I3G1P"
   },
   "outputs": [
    {
     "data": {
      "text/plain": [
       "0         False\n",
       "1         False\n",
       "2         False\n",
       "3         False\n",
       "4          True\n",
       "          ...  \n",
       "293978    False\n",
       "293979    False\n",
       "293980    False\n",
       "293981    False\n",
       "293982    False\n",
       "Name: sku, Length: 293983, dtype: bool"
      ]
     },
     "execution_count": 74,
     "metadata": {},
     "output_type": "execute_result"
    }
   ],
   "source": [
    "# find out a column that contains a list\n",
    "df['sku'].isin(['JBL0104', 'ADN0039'])"
   ]
  },
  {
   "cell_type": "markdown",
   "id": "YmXRUlSn3G1P",
   "metadata": {
    "id": "YmXRUlSn3G1P"
   },
   "source": [
    "This expression can be used inside of `[]` or `.loc[]` to filter the rows that have a `True` value. This is called \"boolean indexing\" and it is really useful:"
   ]
  },
  {
   "cell_type": "code",
   "execution_count": 75,
   "id": "atw7-ACt3G1P",
   "metadata": {
    "id": "atw7-ACt3G1P"
   },
   "outputs": [
    {
     "data": {
      "text/html": [
       "<div>\n",
       "<style scoped>\n",
       "    .dataframe tbody tr th:only-of-type {\n",
       "        vertical-align: middle;\n",
       "    }\n",
       "\n",
       "    .dataframe tbody tr th {\n",
       "        vertical-align: top;\n",
       "    }\n",
       "\n",
       "    .dataframe thead th {\n",
       "        text-align: right;\n",
       "    }\n",
       "</style>\n",
       "<table border=\"1\" class=\"dataframe\">\n",
       "  <thead>\n",
       "    <tr style=\"text-align: right;\">\n",
       "      <th></th>\n",
       "      <th>index</th>\n",
       "      <th>id</th>\n",
       "      <th>id_order</th>\n",
       "      <th>product_id</th>\n",
       "      <th>product_quantity</th>\n",
       "      <th>sku</th>\n",
       "      <th>unit_price</th>\n",
       "      <th>date</th>\n",
       "    </tr>\n",
       "  </thead>\n",
       "  <tbody>\n",
       "    <tr>\n",
       "      <th>4</th>\n",
       "      <td>4</td>\n",
       "      <td>1119113</td>\n",
       "      <td>299543</td>\n",
       "      <td>0</td>\n",
       "      <td>1</td>\n",
       "      <td>JBL0104</td>\n",
       "      <td>23.74</td>\n",
       "      <td>2017-01-01 01:06:38</td>\n",
       "    </tr>\n",
       "    <tr>\n",
       "      <th>716</th>\n",
       "      <td>716</td>\n",
       "      <td>1120463</td>\n",
       "      <td>300212</td>\n",
       "      <td>0</td>\n",
       "      <td>2</td>\n",
       "      <td>JBL0104</td>\n",
       "      <td>26.99</td>\n",
       "      <td>2017-01-02 01:44:05</td>\n",
       "    </tr>\n",
       "    <tr>\n",
       "      <th>774</th>\n",
       "      <td>774</td>\n",
       "      <td>1120607</td>\n",
       "      <td>300272</td>\n",
       "      <td>0</td>\n",
       "      <td>1</td>\n",
       "      <td>JBL0104</td>\n",
       "      <td>24.99</td>\n",
       "      <td>2017-01-02 08:57:07</td>\n",
       "    </tr>\n",
       "    <tr>\n",
       "      <th>866</th>\n",
       "      <td>866</td>\n",
       "      <td>1120758</td>\n",
       "      <td>300349</td>\n",
       "      <td>0</td>\n",
       "      <td>1</td>\n",
       "      <td>JBL0104</td>\n",
       "      <td>24.99</td>\n",
       "      <td>2017-01-02 10:41:29</td>\n",
       "    </tr>\n",
       "    <tr>\n",
       "      <th>1411</th>\n",
       "      <td>1411</td>\n",
       "      <td>1122014</td>\n",
       "      <td>300851</td>\n",
       "      <td>0</td>\n",
       "      <td>1</td>\n",
       "      <td>JBL0104</td>\n",
       "      <td>24.99</td>\n",
       "      <td>2017-01-02 18:50:13</td>\n",
       "    </tr>\n",
       "    <tr>\n",
       "      <th>...</th>\n",
       "      <td>...</td>\n",
       "      <td>...</td>\n",
       "      <td>...</td>\n",
       "      <td>...</td>\n",
       "      <td>...</td>\n",
       "      <td>...</td>\n",
       "      <td>...</td>\n",
       "      <td>...</td>\n",
       "    </tr>\n",
       "    <tr>\n",
       "      <th>258180</th>\n",
       "      <td>258180</td>\n",
       "      <td>1593360</td>\n",
       "      <td>503247</td>\n",
       "      <td>0</td>\n",
       "      <td>1</td>\n",
       "      <td>JBL0104</td>\n",
       "      <td>23.99</td>\n",
       "      <td>2018-01-31 20:55:50</td>\n",
       "    </tr>\n",
       "    <tr>\n",
       "      <th>263790</th>\n",
       "      <td>263790</td>\n",
       "      <td>1601885</td>\n",
       "      <td>506553</td>\n",
       "      <td>0</td>\n",
       "      <td>1</td>\n",
       "      <td>JBL0104</td>\n",
       "      <td>24.99</td>\n",
       "      <td>2018-02-05 22:41:40</td>\n",
       "    </tr>\n",
       "    <tr>\n",
       "      <th>266635</th>\n",
       "      <td>266635</td>\n",
       "      <td>1606326</td>\n",
       "      <td>508345</td>\n",
       "      <td>0</td>\n",
       "      <td>2</td>\n",
       "      <td>JBL0104</td>\n",
       "      <td>24.99</td>\n",
       "      <td>2018-02-08 19:20:21</td>\n",
       "    </tr>\n",
       "    <tr>\n",
       "      <th>268446</th>\n",
       "      <td>268446</td>\n",
       "      <td>1608949</td>\n",
       "      <td>509377</td>\n",
       "      <td>0</td>\n",
       "      <td>1</td>\n",
       "      <td>JBL0104</td>\n",
       "      <td>24.99</td>\n",
       "      <td>2018-02-10 18:02:37</td>\n",
       "    </tr>\n",
       "    <tr>\n",
       "      <th>279801</th>\n",
       "      <td>279801</td>\n",
       "      <td>1628218</td>\n",
       "      <td>517916</td>\n",
       "      <td>0</td>\n",
       "      <td>1</td>\n",
       "      <td>JBL0104</td>\n",
       "      <td>27.99</td>\n",
       "      <td>2018-02-26 20:51:30</td>\n",
       "    </tr>\n",
       "  </tbody>\n",
       "</table>\n",
       "<p>65 rows × 8 columns</p>\n",
       "</div>"
      ],
      "text/plain": [
       "         index       id  id_order  product_id  product_quantity      sku  \\\n",
       "4            4  1119113    299543           0                 1  JBL0104   \n",
       "716        716  1120463    300212           0                 2  JBL0104   \n",
       "774        774  1120607    300272           0                 1  JBL0104   \n",
       "866        866  1120758    300349           0                 1  JBL0104   \n",
       "1411      1411  1122014    300851           0                 1  JBL0104   \n",
       "...        ...      ...       ...         ...               ...      ...   \n",
       "258180  258180  1593360    503247           0                 1  JBL0104   \n",
       "263790  263790  1601885    506553           0                 1  JBL0104   \n",
       "266635  266635  1606326    508345           0                 2  JBL0104   \n",
       "268446  268446  1608949    509377           0                 1  JBL0104   \n",
       "279801  279801  1628218    517916           0                 1  JBL0104   \n",
       "\n",
       "       unit_price                 date  \n",
       "4           23.74  2017-01-01 01:06:38  \n",
       "716         26.99  2017-01-02 01:44:05  \n",
       "774         24.99  2017-01-02 08:57:07  \n",
       "866         24.99  2017-01-02 10:41:29  \n",
       "1411        24.99  2017-01-02 18:50:13  \n",
       "...           ...                  ...  \n",
       "258180      23.99  2018-01-31 20:55:50  \n",
       "263790      24.99  2018-02-05 22:41:40  \n",
       "266635      24.99  2018-02-08 19:20:21  \n",
       "268446      24.99  2018-02-10 18:02:37  \n",
       "279801      27.99  2018-02-26 20:51:30  \n",
       "\n",
       "[65 rows x 8 columns]"
      ]
     },
     "execution_count": 75,
     "metadata": {},
     "output_type": "execute_result"
    }
   ],
   "source": [
    "my_products = df['sku'].isin(['JBL0104', 'ADN0039'])\n",
    "\n",
    "df.loc[my_products, :]"
   ]
  },
  {
   "cell_type": "markdown",
   "id": "QLwMs-3a3G1P",
   "metadata": {
    "id": "QLwMs-3a3G1P"
   },
   "source": [
    "Pandas compresses large outputs in Colab/Jupyter Notebooks. If you want to see more rows, you can change the options:"
   ]
  },
  {
   "cell_type": "code",
   "execution_count": null,
   "id": "mNETSG7G3G1P",
   "metadata": {
    "id": "mNETSG7G3G1P"
   },
   "outputs": [],
   "source": [
    "pd.options.display.max_rows = 100\n",
    "# after running this cell, run the code above again and you will see all the rows."
   ]
  },
  {
   "cell_type": "markdown",
   "id": "qJhIjHOs3G1P",
   "metadata": {
    "id": "qJhIjHOs3G1P"
   },
   "source": [
    "For a complete list of all settings and options that can be tweaked, check out this: https://pandas.pydata.org/pandas-docs/stable/user_guide/options.html"
   ]
  },
  {
   "cell_type": "markdown",
   "id": "v6D7KaoD3G1P",
   "metadata": {
    "id": "v6D7KaoD3G1P"
   },
   "source": [
    "#### Modifying a dataframe & the `.copy()` method"
   ]
  },
  {
   "cell_type": "markdown",
   "id": "zBZAnNeH3G1Q",
   "metadata": {
    "id": "zBZAnNeH3G1Q"
   },
   "source": [
    "Let's take a small chunk of data from our dataframe:"
   ]
  },
  {
   "cell_type": "code",
   "execution_count": 84,
   "id": "JZXlor-13G1Q",
   "metadata": {
    "id": "JZXlor-13G1Q"
   },
   "outputs": [
    {
     "data": {
      "text/html": [
       "<div>\n",
       "<style scoped>\n",
       "    .dataframe tbody tr th:only-of-type {\n",
       "        vertical-align: middle;\n",
       "    }\n",
       "\n",
       "    .dataframe tbody tr th {\n",
       "        vertical-align: top;\n",
       "    }\n",
       "\n",
       "    .dataframe thead th {\n",
       "        text-align: right;\n",
       "    }\n",
       "</style>\n",
       "<table border=\"1\" class=\"dataframe\">\n",
       "  <thead>\n",
       "    <tr style=\"text-align: right;\">\n",
       "      <th></th>\n",
       "      <th>id</th>\n",
       "      <th>id_order</th>\n",
       "      <th>product_id</th>\n",
       "      <th>product_quantity</th>\n",
       "      <th>sku</th>\n",
       "      <th>unit_price</th>\n",
       "      <th>date</th>\n",
       "    </tr>\n",
       "  </thead>\n",
       "  <tbody>\n",
       "    <tr>\n",
       "      <th>0</th>\n",
       "      <td>1119109</td>\n",
       "      <td>299539</td>\n",
       "      <td>0</td>\n",
       "      <td>1</td>\n",
       "      <td>OTT0133</td>\n",
       "      <td>18.99</td>\n",
       "      <td>2017-01-01 00:07:19</td>\n",
       "    </tr>\n",
       "    <tr>\n",
       "      <th>1</th>\n",
       "      <td>1119110</td>\n",
       "      <td>299540</td>\n",
       "      <td>0</td>\n",
       "      <td>1</td>\n",
       "      <td>LGE0043</td>\n",
       "      <td>399.00</td>\n",
       "      <td>2017-01-01 00:19:45</td>\n",
       "    </tr>\n",
       "    <tr>\n",
       "      <th>2</th>\n",
       "      <td>1119111</td>\n",
       "      <td>299541</td>\n",
       "      <td>0</td>\n",
       "      <td>1</td>\n",
       "      <td>PAR0071</td>\n",
       "      <td>474.05</td>\n",
       "      <td>2017-01-01 00:20:57</td>\n",
       "    </tr>\n",
       "  </tbody>\n",
       "</table>\n",
       "</div>"
      ],
      "text/plain": [
       "        id  id_order  product_id  product_quantity      sku unit_price  \\\n",
       "0  1119109    299539           0                 1  OTT0133      18.99   \n",
       "1  1119110    299540           0                 1  LGE0043     399.00   \n",
       "2  1119111    299541           0                 1  PAR0071     474.05   \n",
       "\n",
       "                  date  \n",
       "0  2017-01-01 00:07:19  \n",
       "1  2017-01-01 00:19:45  \n",
       "2  2017-01-01 00:20:57  "
      ]
     },
     "execution_count": 84,
     "metadata": {},
     "output_type": "execute_result"
    }
   ],
   "source": [
    "sample = df.iloc[:3,:]\n",
    "sample"
   ]
  },
  {
   "cell_type": "markdown",
   "id": "swYUYZjt3G1Q",
   "metadata": {
    "id": "swYUYZjt3G1Q"
   },
   "source": [
    "Now we pick a single cell from the sample we took and we assign a new value to it. A warning already tells us that this is a risky thing to do:"
   ]
  },
  {
   "cell_type": "code",
   "execution_count": 87,
   "id": "ixGPim2Y3G1Q",
   "metadata": {
    "id": "ixGPim2Y3G1Q"
   },
   "outputs": [],
   "source": [
    "# we change the \"unit_price\" of the first row:\n",
    "sample.iloc[0,4] = 'NEW VALUE HERE'"
   ]
  },
  {
   "cell_type": "markdown",
   "id": "U8qhJ9O73G1Q",
   "metadata": {
    "id": "U8qhJ9O73G1Q"
   },
   "source": [
    "We can see the new value on the `sample` we took:"
   ]
  },
  {
   "cell_type": "code",
   "execution_count": 88,
   "id": "lk8IQI2a3G1Q",
   "metadata": {
    "id": "lk8IQI2a3G1Q"
   },
   "outputs": [
    {
     "data": {
      "text/html": [
       "<div>\n",
       "<style scoped>\n",
       "    .dataframe tbody tr th:only-of-type {\n",
       "        vertical-align: middle;\n",
       "    }\n",
       "\n",
       "    .dataframe tbody tr th {\n",
       "        vertical-align: top;\n",
       "    }\n",
       "\n",
       "    .dataframe thead th {\n",
       "        text-align: right;\n",
       "    }\n",
       "</style>\n",
       "<table border=\"1\" class=\"dataframe\">\n",
       "  <thead>\n",
       "    <tr style=\"text-align: right;\">\n",
       "      <th></th>\n",
       "      <th>id</th>\n",
       "      <th>id_order</th>\n",
       "      <th>product_id</th>\n",
       "      <th>product_quantity</th>\n",
       "      <th>sku</th>\n",
       "      <th>unit_price</th>\n",
       "      <th>date</th>\n",
       "    </tr>\n",
       "  </thead>\n",
       "  <tbody>\n",
       "    <tr>\n",
       "      <th>0</th>\n",
       "      <td>1119109</td>\n",
       "      <td>299539</td>\n",
       "      <td>0</td>\n",
       "      <td>1</td>\n",
       "      <td>NEW VALUE HERE</td>\n",
       "      <td>18.99</td>\n",
       "      <td>2017-01-01 00:07:19</td>\n",
       "    </tr>\n",
       "    <tr>\n",
       "      <th>1</th>\n",
       "      <td>1119110</td>\n",
       "      <td>299540</td>\n",
       "      <td>0</td>\n",
       "      <td>1</td>\n",
       "      <td>LGE0043</td>\n",
       "      <td>399.00</td>\n",
       "      <td>2017-01-01 00:19:45</td>\n",
       "    </tr>\n",
       "    <tr>\n",
       "      <th>2</th>\n",
       "      <td>1119111</td>\n",
       "      <td>299541</td>\n",
       "      <td>0</td>\n",
       "      <td>1</td>\n",
       "      <td>PAR0071</td>\n",
       "      <td>474.05</td>\n",
       "      <td>2017-01-01 00:20:57</td>\n",
       "    </tr>\n",
       "  </tbody>\n",
       "</table>\n",
       "</div>"
      ],
      "text/plain": [
       "        id  id_order  product_id  product_quantity             sku unit_price  \\\n",
       "0  1119109    299539           0                 1  NEW VALUE HERE      18.99   \n",
       "1  1119110    299540           0                 1         LGE0043     399.00   \n",
       "2  1119111    299541           0                 1         PAR0071     474.05   \n",
       "\n",
       "                  date  \n",
       "0  2017-01-01 00:07:19  \n",
       "1  2017-01-01 00:19:45  \n",
       "2  2017-01-01 00:20:57  "
      ]
     },
     "execution_count": 88,
     "metadata": {},
     "output_type": "execute_result"
    }
   ],
   "source": [
    "sample"
   ]
  },
  {
   "cell_type": "markdown",
   "id": "QJj6Y3dX3G1Q",
   "metadata": {
    "id": "QJj6Y3dX3G1Q"
   },
   "source": [
    "..and, maybe to your surprise, we can see that the new value is also present on the original `df`!"
   ]
  },
  {
   "cell_type": "code",
   "execution_count": 89,
   "id": "DnuFofL63G1Q",
   "metadata": {
    "id": "DnuFofL63G1Q"
   },
   "outputs": [
    {
     "data": {
      "text/html": [
       "<div>\n",
       "<style scoped>\n",
       "    .dataframe tbody tr th:only-of-type {\n",
       "        vertical-align: middle;\n",
       "    }\n",
       "\n",
       "    .dataframe tbody tr th {\n",
       "        vertical-align: top;\n",
       "    }\n",
       "\n",
       "    .dataframe thead th {\n",
       "        text-align: right;\n",
       "    }\n",
       "</style>\n",
       "<table border=\"1\" class=\"dataframe\">\n",
       "  <thead>\n",
       "    <tr style=\"text-align: right;\">\n",
       "      <th></th>\n",
       "      <th>id</th>\n",
       "      <th>id_order</th>\n",
       "      <th>product_id</th>\n",
       "      <th>product_quantity</th>\n",
       "      <th>sku</th>\n",
       "      <th>unit_price</th>\n",
       "      <th>date</th>\n",
       "    </tr>\n",
       "  </thead>\n",
       "  <tbody>\n",
       "    <tr>\n",
       "      <th>0</th>\n",
       "      <td>1119109</td>\n",
       "      <td>299539</td>\n",
       "      <td>0</td>\n",
       "      <td>1</td>\n",
       "      <td>NEW VALUE HERE</td>\n",
       "      <td>18.99</td>\n",
       "      <td>2017-01-01 00:07:19</td>\n",
       "    </tr>\n",
       "    <tr>\n",
       "      <th>1</th>\n",
       "      <td>1119110</td>\n",
       "      <td>299540</td>\n",
       "      <td>0</td>\n",
       "      <td>1</td>\n",
       "      <td>LGE0043</td>\n",
       "      <td>399.00</td>\n",
       "      <td>2017-01-01 00:19:45</td>\n",
       "    </tr>\n",
       "    <tr>\n",
       "      <th>2</th>\n",
       "      <td>1119111</td>\n",
       "      <td>299541</td>\n",
       "      <td>0</td>\n",
       "      <td>1</td>\n",
       "      <td>PAR0071</td>\n",
       "      <td>474.05</td>\n",
       "      <td>2017-01-01 00:20:57</td>\n",
       "    </tr>\n",
       "    <tr>\n",
       "      <th>3</th>\n",
       "      <td>1119112</td>\n",
       "      <td>299542</td>\n",
       "      <td>0</td>\n",
       "      <td>1</td>\n",
       "      <td>WDT0315</td>\n",
       "      <td>68.39</td>\n",
       "      <td>2017-01-01 00:51:40</td>\n",
       "    </tr>\n",
       "    <tr>\n",
       "      <th>4</th>\n",
       "      <td>1119113</td>\n",
       "      <td>299543</td>\n",
       "      <td>0</td>\n",
       "      <td>1</td>\n",
       "      <td>JBL0104</td>\n",
       "      <td>23.74</td>\n",
       "      <td>2017-01-01 01:06:38</td>\n",
       "    </tr>\n",
       "  </tbody>\n",
       "</table>\n",
       "</div>"
      ],
      "text/plain": [
       "        id  id_order  product_id  product_quantity             sku unit_price  \\\n",
       "0  1119109    299539           0                 1  NEW VALUE HERE      18.99   \n",
       "1  1119110    299540           0                 1         LGE0043     399.00   \n",
       "2  1119111    299541           0                 1         PAR0071     474.05   \n",
       "3  1119112    299542           0                 1         WDT0315      68.39   \n",
       "4  1119113    299543           0                 1         JBL0104      23.74   \n",
       "\n",
       "                  date  \n",
       "0  2017-01-01 00:07:19  \n",
       "1  2017-01-01 00:19:45  \n",
       "2  2017-01-01 00:20:57  \n",
       "3  2017-01-01 00:51:40  \n",
       "4  2017-01-01 01:06:38  "
      ]
     },
     "execution_count": 89,
     "metadata": {},
     "output_type": "execute_result"
    }
   ],
   "source": [
    "df.head()"
   ]
  },
  {
   "cell_type": "markdown",
   "id": "hZ39MurF3G1Q",
   "metadata": {
    "id": "hZ39MurF3G1Q"
   },
   "source": [
    "When you take a chunk of data using `.loc[]` or `iloc[]` and assign it to a new object, the new object is just a \"tag\" pointing to the very same data as the original dataframe points to. We can avoid this using the method `.copy()`"
   ]
  },
  {
   "cell_type": "code",
   "execution_count": 91,
   "id": "n9Cj3-Ol3G1R",
   "metadata": {
    "id": "n9Cj3-Ol3G1R"
   },
   "outputs": [
    {
     "data": {
      "text/html": [
       "<div>\n",
       "<style scoped>\n",
       "    .dataframe tbody tr th:only-of-type {\n",
       "        vertical-align: middle;\n",
       "    }\n",
       "\n",
       "    .dataframe tbody tr th {\n",
       "        vertical-align: top;\n",
       "    }\n",
       "\n",
       "    .dataframe thead th {\n",
       "        text-align: right;\n",
       "    }\n",
       "</style>\n",
       "<table border=\"1\" class=\"dataframe\">\n",
       "  <thead>\n",
       "    <tr style=\"text-align: right;\">\n",
       "      <th></th>\n",
       "      <th>id</th>\n",
       "      <th>id_order</th>\n",
       "      <th>product_id</th>\n",
       "      <th>product_quantity</th>\n",
       "      <th>sku</th>\n",
       "      <th>unit_price</th>\n",
       "      <th>date</th>\n",
       "    </tr>\n",
       "  </thead>\n",
       "  <tbody>\n",
       "    <tr>\n",
       "      <th>0</th>\n",
       "      <td>1119109</td>\n",
       "      <td>299539</td>\n",
       "      <td>0</td>\n",
       "      <td>1</td>\n",
       "      <td>NEW VALUE HERE</td>\n",
       "      <td>18.99</td>\n",
       "      <td>2017-01-01 00:07:19</td>\n",
       "    </tr>\n",
       "    <tr>\n",
       "      <th>1</th>\n",
       "      <td>1119110</td>\n",
       "      <td>299540</td>\n",
       "      <td>0</td>\n",
       "      <td>1</td>\n",
       "      <td>LGE0043</td>\n",
       "      <td>399.00</td>\n",
       "      <td>2017-01-01 00:19:45</td>\n",
       "    </tr>\n",
       "    <tr>\n",
       "      <th>2</th>\n",
       "      <td>1119111</td>\n",
       "      <td>299541</td>\n",
       "      <td>0</td>\n",
       "      <td>1</td>\n",
       "      <td>PAR0071</td>\n",
       "      <td>474.05</td>\n",
       "      <td>2017-01-01 00:20:57</td>\n",
       "    </tr>\n",
       "  </tbody>\n",
       "</table>\n",
       "</div>"
      ],
      "text/plain": [
       "        id  id_order  product_id  product_quantity             sku unit_price  \\\n",
       "0  1119109    299539           0                 1  NEW VALUE HERE      18.99   \n",
       "1  1119110    299540           0                 1         LGE0043     399.00   \n",
       "2  1119111    299541           0                 1         PAR0071     474.05   \n",
       "\n",
       "                  date  \n",
       "0  2017-01-01 00:07:19  \n",
       "1  2017-01-01 00:19:45  \n",
       "2  2017-01-01 00:20:57  "
      ]
     },
     "execution_count": 91,
     "metadata": {},
     "output_type": "execute_result"
    }
   ],
   "source": [
    "url = 'https://drive.google.com/file/d/14Y7g5ITyf6LMyPoKc9wr010V9StaCUux/view?usp=sharing' # orderlines.csv\n",
    "path = 'https://drive.google.com/uc?export=download&id='+url.split('/')[-2]\n",
    "df = pd.read_csv(path)\n",
    "\n",
    "sample = df.iloc[:3,:].copy()\n",
    "sample.iloc[0,4] = 'NEW VALUE HERE'\n",
    "sample"
   ]
  },
  {
   "cell_type": "code",
   "execution_count": 93,
   "id": "Um3hCwSo3G1R",
   "metadata": {
    "id": "Um3hCwSo3G1R"
   },
   "outputs": [
    {
     "data": {
      "text/html": [
       "<div>\n",
       "<style scoped>\n",
       "    .dataframe tbody tr th:only-of-type {\n",
       "        vertical-align: middle;\n",
       "    }\n",
       "\n",
       "    .dataframe tbody tr th {\n",
       "        vertical-align: top;\n",
       "    }\n",
       "\n",
       "    .dataframe thead th {\n",
       "        text-align: right;\n",
       "    }\n",
       "</style>\n",
       "<table border=\"1\" class=\"dataframe\">\n",
       "  <thead>\n",
       "    <tr style=\"text-align: right;\">\n",
       "      <th></th>\n",
       "      <th>id</th>\n",
       "      <th>id_order</th>\n",
       "      <th>product_id</th>\n",
       "      <th>product_quantity</th>\n",
       "      <th>sku</th>\n",
       "      <th>unit_price</th>\n",
       "      <th>date</th>\n",
       "    </tr>\n",
       "  </thead>\n",
       "  <tbody>\n",
       "    <tr>\n",
       "      <th>0</th>\n",
       "      <td>1119109</td>\n",
       "      <td>299539</td>\n",
       "      <td>0</td>\n",
       "      <td>1</td>\n",
       "      <td>OTT0133</td>\n",
       "      <td>18.99</td>\n",
       "      <td>2017-01-01 00:07:19</td>\n",
       "    </tr>\n",
       "    <tr>\n",
       "      <th>1</th>\n",
       "      <td>1119110</td>\n",
       "      <td>299540</td>\n",
       "      <td>0</td>\n",
       "      <td>1</td>\n",
       "      <td>LGE0043</td>\n",
       "      <td>399.00</td>\n",
       "      <td>2017-01-01 00:19:45</td>\n",
       "    </tr>\n",
       "    <tr>\n",
       "      <th>2</th>\n",
       "      <td>1119111</td>\n",
       "      <td>299541</td>\n",
       "      <td>0</td>\n",
       "      <td>1</td>\n",
       "      <td>PAR0071</td>\n",
       "      <td>474.05</td>\n",
       "      <td>2017-01-01 00:20:57</td>\n",
       "    </tr>\n",
       "  </tbody>\n",
       "</table>\n",
       "</div>"
      ],
      "text/plain": [
       "        id  id_order  product_id  product_quantity      sku unit_price  \\\n",
       "0  1119109    299539           0                 1  OTT0133      18.99   \n",
       "1  1119110    299540           0                 1  LGE0043     399.00   \n",
       "2  1119111    299541           0                 1  PAR0071     474.05   \n",
       "\n",
       "                  date  \n",
       "0  2017-01-01 00:07:19  \n",
       "1  2017-01-01 00:19:45  \n",
       "2  2017-01-01 00:20:57  "
      ]
     },
     "execution_count": 93,
     "metadata": {},
     "output_type": "execute_result"
    }
   ],
   "source": [
    "df.head(3)"
   ]
  },
  {
   "cell_type": "markdown",
   "id": "5Qt54KJN3G1R",
   "metadata": {
    "id": "5Qt54KJN3G1R"
   },
   "source": [
    "As you can see, now it has not been modified."
   ]
  },
  {
   "cell_type": "markdown",
   "id": "xI15Yty93G1R",
   "metadata": {
    "id": "xI15Yty93G1R"
   },
   "source": [
    "# CHALLENGES"
   ]
  },
  {
   "cell_type": "code",
   "execution_count": 2,
   "id": "de046595-141f-4f62-8d67-c6d0c84a3d45",
   "metadata": {
    "tags": []
   },
   "outputs": [],
   "source": [
    "import pandas as pd"
   ]
  },
  {
   "cell_type": "code",
   "execution_count": 3,
   "id": "fdb526de-8ed4-40dc-a877-a79037f11965",
   "metadata": {},
   "outputs": [
    {
     "data": {
      "text/html": [
       "<div>\n",
       "<style scoped>\n",
       "    .dataframe tbody tr th:only-of-type {\n",
       "        vertical-align: middle;\n",
       "    }\n",
       "\n",
       "    .dataframe tbody tr th {\n",
       "        vertical-align: top;\n",
       "    }\n",
       "\n",
       "    .dataframe thead th {\n",
       "        text-align: right;\n",
       "    }\n",
       "</style>\n",
       "<table border=\"1\" class=\"dataframe\">\n",
       "  <thead>\n",
       "    <tr style=\"text-align: right;\">\n",
       "      <th></th>\n",
       "      <th>id</th>\n",
       "      <th>id_order</th>\n",
       "      <th>product_id</th>\n",
       "      <th>product_quantity</th>\n",
       "      <th>sku</th>\n",
       "      <th>unit_price</th>\n",
       "      <th>date</th>\n",
       "    </tr>\n",
       "  </thead>\n",
       "  <tbody>\n",
       "    <tr>\n",
       "      <th>149620</th>\n",
       "      <td>1414262</td>\n",
       "      <td>428798</td>\n",
       "      <td>0</td>\n",
       "      <td>1</td>\n",
       "      <td>APP1922</td>\n",
       "      <td>154.00</td>\n",
       "      <td>2017-11-20 00:23:57</td>\n",
       "    </tr>\n",
       "    <tr>\n",
       "      <th>2834</th>\n",
       "      <td>1128018</td>\n",
       "      <td>302109</td>\n",
       "      <td>0</td>\n",
       "      <td>1</td>\n",
       "      <td>WOE0009</td>\n",
       "      <td>12.99</td>\n",
       "      <td>2017-01-03 22:53:31</td>\n",
       "    </tr>\n",
       "    <tr>\n",
       "      <th>273353</th>\n",
       "      <td>1617449</td>\n",
       "      <td>513202</td>\n",
       "      <td>0</td>\n",
       "      <td>1</td>\n",
       "      <td>OWC0013</td>\n",
       "      <td>2.99</td>\n",
       "      <td>2018-02-17 09:44:01</td>\n",
       "    </tr>\n",
       "    <tr>\n",
       "      <th>265498</th>\n",
       "      <td>1604614</td>\n",
       "      <td>507670</td>\n",
       "      <td>0</td>\n",
       "      <td>1</td>\n",
       "      <td>MIC0036</td>\n",
       "      <td>68.99</td>\n",
       "      <td>2018-02-07 18:20:54</td>\n",
       "    </tr>\n",
       "    <tr>\n",
       "      <th>285471</th>\n",
       "      <td>1637574</td>\n",
       "      <td>522055</td>\n",
       "      <td>0</td>\n",
       "      <td>1</td>\n",
       "      <td>IFX0171</td>\n",
       "      <td>119.99</td>\n",
       "      <td>2018-03-06 09:10:33</td>\n",
       "    </tr>\n",
       "    <tr>\n",
       "      <th>192002</th>\n",
       "      <td>1482137</td>\n",
       "      <td>457263</td>\n",
       "      <td>0</td>\n",
       "      <td>1</td>\n",
       "      <td>APP1190</td>\n",
       "      <td>56.00</td>\n",
       "      <td>2017-12-07 17:48:56</td>\n",
       "    </tr>\n",
       "    <tr>\n",
       "      <th>155285</th>\n",
       "      <td>1425547</td>\n",
       "      <td>431683</td>\n",
       "      <td>0</td>\n",
       "      <td>1</td>\n",
       "      <td>GRT0434</td>\n",
       "      <td>14.44</td>\n",
       "      <td>2017-11-23 08:50:19</td>\n",
       "    </tr>\n",
       "    <tr>\n",
       "      <th>38112</th>\n",
       "      <td>1199611</td>\n",
       "      <td>332793</td>\n",
       "      <td>0</td>\n",
       "      <td>1</td>\n",
       "      <td>LGE0048</td>\n",
       "      <td>244.99</td>\n",
       "      <td>2017-03-07 00:18:35</td>\n",
       "    </tr>\n",
       "    <tr>\n",
       "      <th>231962</th>\n",
       "      <td>1550798</td>\n",
       "      <td>487087</td>\n",
       "      <td>0</td>\n",
       "      <td>1</td>\n",
       "      <td>APP1190</td>\n",
       "      <td>54.00</td>\n",
       "      <td>2018-01-09 22:28:31</td>\n",
       "    </tr>\n",
       "    <tr>\n",
       "      <th>41544</th>\n",
       "      <td>1206132</td>\n",
       "      <td>335719</td>\n",
       "      <td>0</td>\n",
       "      <td>1</td>\n",
       "      <td>NTE0063</td>\n",
       "      <td>109.99</td>\n",
       "      <td>2017-03-16 10:39:02</td>\n",
       "    </tr>\n",
       "  </tbody>\n",
       "</table>\n",
       "</div>"
      ],
      "text/plain": [
       "             id  id_order  product_id  product_quantity      sku unit_price  \\\n",
       "149620  1414262    428798           0                 1  APP1922     154.00   \n",
       "2834    1128018    302109           0                 1  WOE0009      12.99   \n",
       "273353  1617449    513202           0                 1  OWC0013       2.99   \n",
       "265498  1604614    507670           0                 1  MIC0036      68.99   \n",
       "285471  1637574    522055           0                 1  IFX0171     119.99   \n",
       "192002  1482137    457263           0                 1  APP1190      56.00   \n",
       "155285  1425547    431683           0                 1  GRT0434      14.44   \n",
       "38112   1199611    332793           0                 1  LGE0048     244.99   \n",
       "231962  1550798    487087           0                 1  APP1190      54.00   \n",
       "41544   1206132    335719           0                 1  NTE0063     109.99   \n",
       "\n",
       "                       date  \n",
       "149620  2017-11-20 00:23:57  \n",
       "2834    2017-01-03 22:53:31  \n",
       "273353  2018-02-17 09:44:01  \n",
       "265498  2018-02-07 18:20:54  \n",
       "285471  2018-03-06 09:10:33  \n",
       "192002  2017-12-07 17:48:56  \n",
       "155285  2017-11-23 08:50:19  \n",
       "38112   2017-03-07 00:18:35  \n",
       "231962  2018-01-09 22:28:31  \n",
       "41544   2017-03-16 10:39:02  "
      ]
     },
     "execution_count": 3,
     "metadata": {},
     "output_type": "execute_result"
    }
   ],
   "source": [
    "orderlines = pd.read_csv(\"orderlines.csv\")\n",
    "orderlines.sample(10)"
   ]
  },
  {
   "cell_type": "code",
   "execution_count": 4,
   "id": "0b258315-4ffb-40ae-9666-29f9c68caf6d",
   "metadata": {},
   "outputs": [
    {
     "data": {
      "text/plain": [
       "0"
      ]
     },
     "execution_count": 4,
     "metadata": {},
     "output_type": "execute_result"
    }
   ],
   "source": [
    "orderlines.duplicated().sum()"
   ]
  },
  {
   "cell_type": "markdown",
   "id": "jLucFFaF3G1R",
   "metadata": {
    "id": "jLucFFaF3G1R"
   },
   "source": [
    "1. How many different unit prices does the product with the sku JBL0104 have? Combine a pandas filter method with the method `.nunique()`."
   ]
  },
  {
   "cell_type": "code",
   "execution_count": 5,
   "id": "f3f2cc72-bd41-45d1-b6b1-31f3d7aa351f",
   "metadata": {
    "tags": []
   },
   "outputs": [
    {
     "data": {
      "text/html": [
       "<div>\n",
       "<style scoped>\n",
       "    .dataframe tbody tr th:only-of-type {\n",
       "        vertical-align: middle;\n",
       "    }\n",
       "\n",
       "    .dataframe tbody tr th {\n",
       "        vertical-align: top;\n",
       "    }\n",
       "\n",
       "    .dataframe thead th {\n",
       "        text-align: right;\n",
       "    }\n",
       "</style>\n",
       "<table border=\"1\" class=\"dataframe\">\n",
       "  <thead>\n",
       "    <tr style=\"text-align: right;\">\n",
       "      <th></th>\n",
       "      <th>id</th>\n",
       "      <th>id_order</th>\n",
       "      <th>product_id</th>\n",
       "      <th>product_quantity</th>\n",
       "      <th>sku</th>\n",
       "      <th>unit_price</th>\n",
       "      <th>date</th>\n",
       "    </tr>\n",
       "  </thead>\n",
       "  <tbody>\n",
       "    <tr>\n",
       "      <th>4</th>\n",
       "      <td>1119113</td>\n",
       "      <td>299543</td>\n",
       "      <td>0</td>\n",
       "      <td>1</td>\n",
       "      <td>JBL0104</td>\n",
       "      <td>23.74</td>\n",
       "      <td>2017-01-01 01:06:38</td>\n",
       "    </tr>\n",
       "    <tr>\n",
       "      <th>716</th>\n",
       "      <td>1120463</td>\n",
       "      <td>300212</td>\n",
       "      <td>0</td>\n",
       "      <td>2</td>\n",
       "      <td>JBL0104</td>\n",
       "      <td>26.99</td>\n",
       "      <td>2017-01-02 01:44:05</td>\n",
       "    </tr>\n",
       "    <tr>\n",
       "      <th>774</th>\n",
       "      <td>1120607</td>\n",
       "      <td>300272</td>\n",
       "      <td>0</td>\n",
       "      <td>1</td>\n",
       "      <td>JBL0104</td>\n",
       "      <td>24.99</td>\n",
       "      <td>2017-01-02 08:57:07</td>\n",
       "    </tr>\n",
       "    <tr>\n",
       "      <th>866</th>\n",
       "      <td>1120758</td>\n",
       "      <td>300349</td>\n",
       "      <td>0</td>\n",
       "      <td>1</td>\n",
       "      <td>JBL0104</td>\n",
       "      <td>24.99</td>\n",
       "      <td>2017-01-02 10:41:29</td>\n",
       "    </tr>\n",
       "    <tr>\n",
       "      <th>1411</th>\n",
       "      <td>1122014</td>\n",
       "      <td>300851</td>\n",
       "      <td>0</td>\n",
       "      <td>1</td>\n",
       "      <td>JBL0104</td>\n",
       "      <td>24.99</td>\n",
       "      <td>2017-01-02 18:50:13</td>\n",
       "    </tr>\n",
       "    <tr>\n",
       "      <th>1451</th>\n",
       "      <td>1122093</td>\n",
       "      <td>300887</td>\n",
       "      <td>0</td>\n",
       "      <td>1</td>\n",
       "      <td>JBL0104</td>\n",
       "      <td>24.99</td>\n",
       "      <td>2017-01-02 19:14:43</td>\n",
       "    </tr>\n",
       "    <tr>\n",
       "      <th>3612</th>\n",
       "      <td>1130604</td>\n",
       "      <td>302848</td>\n",
       "      <td>0</td>\n",
       "      <td>1</td>\n",
       "      <td>JBL0104</td>\n",
       "      <td>24.99</td>\n",
       "      <td>2017-01-05 00:29:26</td>\n",
       "    </tr>\n",
       "    <tr>\n",
       "      <th>4370</th>\n",
       "      <td>1132185</td>\n",
       "      <td>303586</td>\n",
       "      <td>0</td>\n",
       "      <td>1</td>\n",
       "      <td>JBL0104</td>\n",
       "      <td>22.31</td>\n",
       "      <td>2017-01-06 12:57:24</td>\n",
       "    </tr>\n",
       "    <tr>\n",
       "      <th>8450</th>\n",
       "      <td>1140943</td>\n",
       "      <td>307256</td>\n",
       "      <td>0</td>\n",
       "      <td>1</td>\n",
       "      <td>JBL0104</td>\n",
       "      <td>26.99</td>\n",
       "      <td>2017-01-11 13:13:21</td>\n",
       "    </tr>\n",
       "    <tr>\n",
       "      <th>14439</th>\n",
       "      <td>1153300</td>\n",
       "      <td>312363</td>\n",
       "      <td>0</td>\n",
       "      <td>1</td>\n",
       "      <td>JBL0104</td>\n",
       "      <td>26.99</td>\n",
       "      <td>2017-01-20 11:06:10</td>\n",
       "    </tr>\n",
       "    <tr>\n",
       "      <th>53150</th>\n",
       "      <td>1226898</td>\n",
       "      <td>345622</td>\n",
       "      <td>0</td>\n",
       "      <td>1</td>\n",
       "      <td>JBL0104</td>\n",
       "      <td>26.99</td>\n",
       "      <td>2017-04-12 10:34:33</td>\n",
       "    </tr>\n",
       "    <tr>\n",
       "      <th>56740</th>\n",
       "      <td>1233192</td>\n",
       "      <td>348682</td>\n",
       "      <td>0</td>\n",
       "      <td>1</td>\n",
       "      <td>JBL0104</td>\n",
       "      <td>26.99</td>\n",
       "      <td>2017-04-22 13:09:49</td>\n",
       "    </tr>\n",
       "    <tr>\n",
       "      <th>98730</th>\n",
       "      <td>1307785</td>\n",
       "      <td>384545</td>\n",
       "      <td>0</td>\n",
       "      <td>1</td>\n",
       "      <td>JBL0104</td>\n",
       "      <td>26.99</td>\n",
       "      <td>2017-07-31 14:58:24</td>\n",
       "    </tr>\n",
       "    <tr>\n",
       "      <th>105968</th>\n",
       "      <td>1320675</td>\n",
       "      <td>390750</td>\n",
       "      <td>0</td>\n",
       "      <td>1</td>\n",
       "      <td>JBL0104</td>\n",
       "      <td>26.99</td>\n",
       "      <td>2017-08-19 18:17:54</td>\n",
       "    </tr>\n",
       "    <tr>\n",
       "      <th>112369</th>\n",
       "      <td>1344362</td>\n",
       "      <td>396145</td>\n",
       "      <td>0</td>\n",
       "      <td>1</td>\n",
       "      <td>JBL0104</td>\n",
       "      <td>26.99</td>\n",
       "      <td>2017-09-04 01:16:10</td>\n",
       "    </tr>\n",
       "    <tr>\n",
       "      <th>154201</th>\n",
       "      <td>1423772</td>\n",
       "      <td>432828</td>\n",
       "      <td>0</td>\n",
       "      <td>1</td>\n",
       "      <td>JBL0104</td>\n",
       "      <td>22.99</td>\n",
       "      <td>2017-11-23 00:05:02</td>\n",
       "    </tr>\n",
       "    <tr>\n",
       "      <th>165640</th>\n",
       "      <td>1443880</td>\n",
       "      <td>442197</td>\n",
       "      <td>0</td>\n",
       "      <td>1</td>\n",
       "      <td>JBL0104</td>\n",
       "      <td>22.99</td>\n",
       "      <td>2017-11-24 23:43:54</td>\n",
       "    </tr>\n",
       "    <tr>\n",
       "      <th>165688</th>\n",
       "      <td>1443963</td>\n",
       "      <td>442228</td>\n",
       "      <td>0</td>\n",
       "      <td>1</td>\n",
       "      <td>JBL0104</td>\n",
       "      <td>22.99</td>\n",
       "      <td>2017-11-24 23:52:02</td>\n",
       "    </tr>\n",
       "    <tr>\n",
       "      <th>171548</th>\n",
       "      <td>1453081</td>\n",
       "      <td>446003</td>\n",
       "      <td>0</td>\n",
       "      <td>1</td>\n",
       "      <td>JBL0104</td>\n",
       "      <td>22.99</td>\n",
       "      <td>2017-11-26 19:35:09</td>\n",
       "    </tr>\n",
       "    <tr>\n",
       "      <th>172402</th>\n",
       "      <td>1454757</td>\n",
       "      <td>446688</td>\n",
       "      <td>0</td>\n",
       "      <td>1</td>\n",
       "      <td>JBL0104</td>\n",
       "      <td>22.99</td>\n",
       "      <td>2017-11-27 00:16:15</td>\n",
       "    </tr>\n",
       "    <tr>\n",
       "      <th>192427</th>\n",
       "      <td>1482783</td>\n",
       "      <td>457514</td>\n",
       "      <td>0</td>\n",
       "      <td>1</td>\n",
       "      <td>JBL0104</td>\n",
       "      <td>24.99</td>\n",
       "      <td>2017-12-08 08:45:24</td>\n",
       "    </tr>\n",
       "    <tr>\n",
       "      <th>195671</th>\n",
       "      <td>1486865</td>\n",
       "      <td>459056</td>\n",
       "      <td>0</td>\n",
       "      <td>1</td>\n",
       "      <td>JBL0104</td>\n",
       "      <td>24.99</td>\n",
       "      <td>2017-12-10 18:31:28</td>\n",
       "    </tr>\n",
       "    <tr>\n",
       "      <th>196563</th>\n",
       "      <td>1488065</td>\n",
       "      <td>459522</td>\n",
       "      <td>0</td>\n",
       "      <td>1</td>\n",
       "      <td>JBL0104</td>\n",
       "      <td>24.99</td>\n",
       "      <td>2017-12-11 10:18:32</td>\n",
       "    </tr>\n",
       "    <tr>\n",
       "      <th>203901</th>\n",
       "      <td>1499365</td>\n",
       "      <td>464210</td>\n",
       "      <td>0</td>\n",
       "      <td>1</td>\n",
       "      <td>JBL0104</td>\n",
       "      <td>24.99</td>\n",
       "      <td>2017-12-16 02:36:34</td>\n",
       "    </tr>\n",
       "    <tr>\n",
       "      <th>205833</th>\n",
       "      <td>1503035</td>\n",
       "      <td>465885</td>\n",
       "      <td>0</td>\n",
       "      <td>1</td>\n",
       "      <td>JBL0104</td>\n",
       "      <td>24.99</td>\n",
       "      <td>2017-12-18 16:48:38</td>\n",
       "    </tr>\n",
       "    <tr>\n",
       "      <th>206138</th>\n",
       "      <td>1503671</td>\n",
       "      <td>466170</td>\n",
       "      <td>0</td>\n",
       "      <td>1</td>\n",
       "      <td>JBL0104</td>\n",
       "      <td>24.99</td>\n",
       "      <td>2017-12-18 21:45:48</td>\n",
       "    </tr>\n",
       "    <tr>\n",
       "      <th>206312</th>\n",
       "      <td>1503978</td>\n",
       "      <td>466344</td>\n",
       "      <td>0</td>\n",
       "      <td>1</td>\n",
       "      <td>JBL0104</td>\n",
       "      <td>24.99</td>\n",
       "      <td>2017-12-18 23:59:14</td>\n",
       "    </tr>\n",
       "    <tr>\n",
       "      <th>206905</th>\n",
       "      <td>1505114</td>\n",
       "      <td>466844</td>\n",
       "      <td>0</td>\n",
       "      <td>1</td>\n",
       "      <td>JBL0104</td>\n",
       "      <td>24.99</td>\n",
       "      <td>2017-12-19 15:01:44</td>\n",
       "    </tr>\n",
       "    <tr>\n",
       "      <th>207094</th>\n",
       "      <td>1505489</td>\n",
       "      <td>467005</td>\n",
       "      <td>0</td>\n",
       "      <td>1</td>\n",
       "      <td>JBL0104</td>\n",
       "      <td>24.99</td>\n",
       "      <td>2017-12-19 17:39:42</td>\n",
       "    </tr>\n",
       "    <tr>\n",
       "      <th>207544</th>\n",
       "      <td>1506336</td>\n",
       "      <td>467370</td>\n",
       "      <td>0</td>\n",
       "      <td>1</td>\n",
       "      <td>JBL0104</td>\n",
       "      <td>24.99</td>\n",
       "      <td>2017-12-19 23:37:21</td>\n",
       "    </tr>\n",
       "    <tr>\n",
       "      <th>211840</th>\n",
       "      <td>1514696</td>\n",
       "      <td>471338</td>\n",
       "      <td>0</td>\n",
       "      <td>1</td>\n",
       "      <td>JBL0104</td>\n",
       "      <td>23.74</td>\n",
       "      <td>2017-12-25 19:28:38</td>\n",
       "    </tr>\n",
       "    <tr>\n",
       "      <th>212820</th>\n",
       "      <td>1516518</td>\n",
       "      <td>472215</td>\n",
       "      <td>0</td>\n",
       "      <td>1</td>\n",
       "      <td>JBL0104</td>\n",
       "      <td>23.74</td>\n",
       "      <td>2017-12-26 14:23:49</td>\n",
       "    </tr>\n",
       "    <tr>\n",
       "      <th>213153</th>\n",
       "      <td>1517116</td>\n",
       "      <td>472506</td>\n",
       "      <td>0</td>\n",
       "      <td>1</td>\n",
       "      <td>JBL0104</td>\n",
       "      <td>23.74</td>\n",
       "      <td>2017-12-26 20:06:38</td>\n",
       "    </tr>\n",
       "    <tr>\n",
       "      <th>213262</th>\n",
       "      <td>1517297</td>\n",
       "      <td>472597</td>\n",
       "      <td>0</td>\n",
       "      <td>1</td>\n",
       "      <td>JBL0104</td>\n",
       "      <td>23.74</td>\n",
       "      <td>2017-12-26 21:45:42</td>\n",
       "    </tr>\n",
       "    <tr>\n",
       "      <th>213808</th>\n",
       "      <td>1518224</td>\n",
       "      <td>473037</td>\n",
       "      <td>0</td>\n",
       "      <td>1</td>\n",
       "      <td>JBL0104</td>\n",
       "      <td>23.74</td>\n",
       "      <td>2017-12-27 10:34:48</td>\n",
       "    </tr>\n",
       "    <tr>\n",
       "      <th>213841</th>\n",
       "      <td>1518286</td>\n",
       "      <td>473074</td>\n",
       "      <td>0</td>\n",
       "      <td>1</td>\n",
       "      <td>JBL0104</td>\n",
       "      <td>24.99</td>\n",
       "      <td>2017-12-27 10:52:39</td>\n",
       "    </tr>\n",
       "    <tr>\n",
       "      <th>214057</th>\n",
       "      <td>1518672</td>\n",
       "      <td>473261</td>\n",
       "      <td>0</td>\n",
       "      <td>1</td>\n",
       "      <td>JBL0104</td>\n",
       "      <td>23.74</td>\n",
       "      <td>2017-12-27 12:36:11</td>\n",
       "    </tr>\n",
       "    <tr>\n",
       "      <th>214559</th>\n",
       "      <td>1519654</td>\n",
       "      <td>473732</td>\n",
       "      <td>0</td>\n",
       "      <td>1</td>\n",
       "      <td>JBL0104</td>\n",
       "      <td>23.74</td>\n",
       "      <td>2017-12-27 18:11:50</td>\n",
       "    </tr>\n",
       "    <tr>\n",
       "      <th>216307</th>\n",
       "      <td>1522981</td>\n",
       "      <td>475353</td>\n",
       "      <td>0</td>\n",
       "      <td>1</td>\n",
       "      <td>JBL0104</td>\n",
       "      <td>23.74</td>\n",
       "      <td>2017-12-28 19:17:23</td>\n",
       "    </tr>\n",
       "    <tr>\n",
       "      <th>217798</th>\n",
       "      <td>1525891</td>\n",
       "      <td>476696</td>\n",
       "      <td>0</td>\n",
       "      <td>1</td>\n",
       "      <td>JBL0104</td>\n",
       "      <td>23.74</td>\n",
       "      <td>2017-12-29 19:23:28</td>\n",
       "    </tr>\n",
       "    <tr>\n",
       "      <th>218027</th>\n",
       "      <td>1526318</td>\n",
       "      <td>476911</td>\n",
       "      <td>0</td>\n",
       "      <td>1</td>\n",
       "      <td>JBL0104</td>\n",
       "      <td>23.74</td>\n",
       "      <td>2017-12-29 22:32:17</td>\n",
       "    </tr>\n",
       "    <tr>\n",
       "      <th>219284</th>\n",
       "      <td>1528937</td>\n",
       "      <td>478069</td>\n",
       "      <td>0</td>\n",
       "      <td>1</td>\n",
       "      <td>JBL0104</td>\n",
       "      <td>23.74</td>\n",
       "      <td>2017-12-31 13:42:33</td>\n",
       "    </tr>\n",
       "    <tr>\n",
       "      <th>220630</th>\n",
       "      <td>1531600</td>\n",
       "      <td>479235</td>\n",
       "      <td>0</td>\n",
       "      <td>1</td>\n",
       "      <td>JBL0104</td>\n",
       "      <td>23.74</td>\n",
       "      <td>2018-01-02 10:01:10</td>\n",
       "    </tr>\n",
       "    <tr>\n",
       "      <th>221210</th>\n",
       "      <td>1532764</td>\n",
       "      <td>479755</td>\n",
       "      <td>0</td>\n",
       "      <td>1</td>\n",
       "      <td>JBL0104</td>\n",
       "      <td>23.74</td>\n",
       "      <td>2018-01-02 15:11:02</td>\n",
       "    </tr>\n",
       "    <tr>\n",
       "      <th>221216</th>\n",
       "      <td>1532774</td>\n",
       "      <td>479762</td>\n",
       "      <td>0</td>\n",
       "      <td>1</td>\n",
       "      <td>JBL0104</td>\n",
       "      <td>23.74</td>\n",
       "      <td>2018-01-02 15:14:27</td>\n",
       "    </tr>\n",
       "    <tr>\n",
       "      <th>222468</th>\n",
       "      <td>1535257</td>\n",
       "      <td>480924</td>\n",
       "      <td>0</td>\n",
       "      <td>1</td>\n",
       "      <td>JBL0104</td>\n",
       "      <td>24.99</td>\n",
       "      <td>2018-01-03 14:02:25</td>\n",
       "    </tr>\n",
       "    <tr>\n",
       "      <th>231934</th>\n",
       "      <td>1550720</td>\n",
       "      <td>487057</td>\n",
       "      <td>0</td>\n",
       "      <td>1</td>\n",
       "      <td>JBL0104</td>\n",
       "      <td>23.99</td>\n",
       "      <td>2018-01-09 21:47:47</td>\n",
       "    </tr>\n",
       "    <tr>\n",
       "      <th>233400</th>\n",
       "      <td>1553253</td>\n",
       "      <td>487975</td>\n",
       "      <td>0</td>\n",
       "      <td>1</td>\n",
       "      <td>JBL0104</td>\n",
       "      <td>23.99</td>\n",
       "      <td>2018-01-10 19:20:44</td>\n",
       "    </tr>\n",
       "    <tr>\n",
       "      <th>234637</th>\n",
       "      <td>1555195</td>\n",
       "      <td>480555</td>\n",
       "      <td>0</td>\n",
       "      <td>2</td>\n",
       "      <td>JBL0104</td>\n",
       "      <td>23.99</td>\n",
       "      <td>2018-01-11 16:43:13</td>\n",
       "    </tr>\n",
       "    <tr>\n",
       "      <th>234895</th>\n",
       "      <td>1555641</td>\n",
       "      <td>488957</td>\n",
       "      <td>0</td>\n",
       "      <td>1</td>\n",
       "      <td>JBL0104</td>\n",
       "      <td>23.99</td>\n",
       "      <td>2018-01-11 21:59:02</td>\n",
       "    </tr>\n",
       "    <tr>\n",
       "      <th>238104</th>\n",
       "      <td>1560883</td>\n",
       "      <td>490992</td>\n",
       "      <td>0</td>\n",
       "      <td>1</td>\n",
       "      <td>JBL0104</td>\n",
       "      <td>23.99</td>\n",
       "      <td>2018-01-15 07:12:09</td>\n",
       "    </tr>\n",
       "    <tr>\n",
       "      <th>241643</th>\n",
       "      <td>1567157</td>\n",
       "      <td>493366</td>\n",
       "      <td>0</td>\n",
       "      <td>1</td>\n",
       "      <td>JBL0104</td>\n",
       "      <td>23.99</td>\n",
       "      <td>2018-01-18 07:58:31</td>\n",
       "    </tr>\n",
       "    <tr>\n",
       "      <th>256607</th>\n",
       "      <td>1590314</td>\n",
       "      <td>502142</td>\n",
       "      <td>0</td>\n",
       "      <td>1</td>\n",
       "      <td>JBL0104</td>\n",
       "      <td>23.99</td>\n",
       "      <td>2018-01-30 18:35:16</td>\n",
       "    </tr>\n",
       "    <tr>\n",
       "      <th>258180</th>\n",
       "      <td>1593360</td>\n",
       "      <td>503247</td>\n",
       "      <td>0</td>\n",
       "      <td>1</td>\n",
       "      <td>JBL0104</td>\n",
       "      <td>23.99</td>\n",
       "      <td>2018-01-31 20:55:50</td>\n",
       "    </tr>\n",
       "    <tr>\n",
       "      <th>263790</th>\n",
       "      <td>1601885</td>\n",
       "      <td>506553</td>\n",
       "      <td>0</td>\n",
       "      <td>1</td>\n",
       "      <td>JBL0104</td>\n",
       "      <td>24.99</td>\n",
       "      <td>2018-02-05 22:41:40</td>\n",
       "    </tr>\n",
       "    <tr>\n",
       "      <th>266635</th>\n",
       "      <td>1606326</td>\n",
       "      <td>508345</td>\n",
       "      <td>0</td>\n",
       "      <td>2</td>\n",
       "      <td>JBL0104</td>\n",
       "      <td>24.99</td>\n",
       "      <td>2018-02-08 19:20:21</td>\n",
       "    </tr>\n",
       "    <tr>\n",
       "      <th>268446</th>\n",
       "      <td>1608949</td>\n",
       "      <td>509377</td>\n",
       "      <td>0</td>\n",
       "      <td>1</td>\n",
       "      <td>JBL0104</td>\n",
       "      <td>24.99</td>\n",
       "      <td>2018-02-10 18:02:37</td>\n",
       "    </tr>\n",
       "    <tr>\n",
       "      <th>279801</th>\n",
       "      <td>1628218</td>\n",
       "      <td>517916</td>\n",
       "      <td>0</td>\n",
       "      <td>1</td>\n",
       "      <td>JBL0104</td>\n",
       "      <td>27.99</td>\n",
       "      <td>2018-02-26 20:51:30</td>\n",
       "    </tr>\n",
       "  </tbody>\n",
       "</table>\n",
       "</div>"
      ],
      "text/plain": [
       "             id  id_order  product_id  product_quantity      sku unit_price  \\\n",
       "4       1119113    299543           0                 1  JBL0104      23.74   \n",
       "716     1120463    300212           0                 2  JBL0104      26.99   \n",
       "774     1120607    300272           0                 1  JBL0104      24.99   \n",
       "866     1120758    300349           0                 1  JBL0104      24.99   \n",
       "1411    1122014    300851           0                 1  JBL0104      24.99   \n",
       "1451    1122093    300887           0                 1  JBL0104      24.99   \n",
       "3612    1130604    302848           0                 1  JBL0104      24.99   \n",
       "4370    1132185    303586           0                 1  JBL0104      22.31   \n",
       "8450    1140943    307256           0                 1  JBL0104      26.99   \n",
       "14439   1153300    312363           0                 1  JBL0104      26.99   \n",
       "53150   1226898    345622           0                 1  JBL0104      26.99   \n",
       "56740   1233192    348682           0                 1  JBL0104      26.99   \n",
       "98730   1307785    384545           0                 1  JBL0104      26.99   \n",
       "105968  1320675    390750           0                 1  JBL0104      26.99   \n",
       "112369  1344362    396145           0                 1  JBL0104      26.99   \n",
       "154201  1423772    432828           0                 1  JBL0104      22.99   \n",
       "165640  1443880    442197           0                 1  JBL0104      22.99   \n",
       "165688  1443963    442228           0                 1  JBL0104      22.99   \n",
       "171548  1453081    446003           0                 1  JBL0104      22.99   \n",
       "172402  1454757    446688           0                 1  JBL0104      22.99   \n",
       "192427  1482783    457514           0                 1  JBL0104      24.99   \n",
       "195671  1486865    459056           0                 1  JBL0104      24.99   \n",
       "196563  1488065    459522           0                 1  JBL0104      24.99   \n",
       "203901  1499365    464210           0                 1  JBL0104      24.99   \n",
       "205833  1503035    465885           0                 1  JBL0104      24.99   \n",
       "206138  1503671    466170           0                 1  JBL0104      24.99   \n",
       "206312  1503978    466344           0                 1  JBL0104      24.99   \n",
       "206905  1505114    466844           0                 1  JBL0104      24.99   \n",
       "207094  1505489    467005           0                 1  JBL0104      24.99   \n",
       "207544  1506336    467370           0                 1  JBL0104      24.99   \n",
       "211840  1514696    471338           0                 1  JBL0104      23.74   \n",
       "212820  1516518    472215           0                 1  JBL0104      23.74   \n",
       "213153  1517116    472506           0                 1  JBL0104      23.74   \n",
       "213262  1517297    472597           0                 1  JBL0104      23.74   \n",
       "213808  1518224    473037           0                 1  JBL0104      23.74   \n",
       "213841  1518286    473074           0                 1  JBL0104      24.99   \n",
       "214057  1518672    473261           0                 1  JBL0104      23.74   \n",
       "214559  1519654    473732           0                 1  JBL0104      23.74   \n",
       "216307  1522981    475353           0                 1  JBL0104      23.74   \n",
       "217798  1525891    476696           0                 1  JBL0104      23.74   \n",
       "218027  1526318    476911           0                 1  JBL0104      23.74   \n",
       "219284  1528937    478069           0                 1  JBL0104      23.74   \n",
       "220630  1531600    479235           0                 1  JBL0104      23.74   \n",
       "221210  1532764    479755           0                 1  JBL0104      23.74   \n",
       "221216  1532774    479762           0                 1  JBL0104      23.74   \n",
       "222468  1535257    480924           0                 1  JBL0104      24.99   \n",
       "231934  1550720    487057           0                 1  JBL0104      23.99   \n",
       "233400  1553253    487975           0                 1  JBL0104      23.99   \n",
       "234637  1555195    480555           0                 2  JBL0104      23.99   \n",
       "234895  1555641    488957           0                 1  JBL0104      23.99   \n",
       "238104  1560883    490992           0                 1  JBL0104      23.99   \n",
       "241643  1567157    493366           0                 1  JBL0104      23.99   \n",
       "256607  1590314    502142           0                 1  JBL0104      23.99   \n",
       "258180  1593360    503247           0                 1  JBL0104      23.99   \n",
       "263790  1601885    506553           0                 1  JBL0104      24.99   \n",
       "266635  1606326    508345           0                 2  JBL0104      24.99   \n",
       "268446  1608949    509377           0                 1  JBL0104      24.99   \n",
       "279801  1628218    517916           0                 1  JBL0104      27.99   \n",
       "\n",
       "                       date  \n",
       "4       2017-01-01 01:06:38  \n",
       "716     2017-01-02 01:44:05  \n",
       "774     2017-01-02 08:57:07  \n",
       "866     2017-01-02 10:41:29  \n",
       "1411    2017-01-02 18:50:13  \n",
       "1451    2017-01-02 19:14:43  \n",
       "3612    2017-01-05 00:29:26  \n",
       "4370    2017-01-06 12:57:24  \n",
       "8450    2017-01-11 13:13:21  \n",
       "14439   2017-01-20 11:06:10  \n",
       "53150   2017-04-12 10:34:33  \n",
       "56740   2017-04-22 13:09:49  \n",
       "98730   2017-07-31 14:58:24  \n",
       "105968  2017-08-19 18:17:54  \n",
       "112369  2017-09-04 01:16:10  \n",
       "154201  2017-11-23 00:05:02  \n",
       "165640  2017-11-24 23:43:54  \n",
       "165688  2017-11-24 23:52:02  \n",
       "171548  2017-11-26 19:35:09  \n",
       "172402  2017-11-27 00:16:15  \n",
       "192427  2017-12-08 08:45:24  \n",
       "195671  2017-12-10 18:31:28  \n",
       "196563  2017-12-11 10:18:32  \n",
       "203901  2017-12-16 02:36:34  \n",
       "205833  2017-12-18 16:48:38  \n",
       "206138  2017-12-18 21:45:48  \n",
       "206312  2017-12-18 23:59:14  \n",
       "206905  2017-12-19 15:01:44  \n",
       "207094  2017-12-19 17:39:42  \n",
       "207544  2017-12-19 23:37:21  \n",
       "211840  2017-12-25 19:28:38  \n",
       "212820  2017-12-26 14:23:49  \n",
       "213153  2017-12-26 20:06:38  \n",
       "213262  2017-12-26 21:45:42  \n",
       "213808  2017-12-27 10:34:48  \n",
       "213841  2017-12-27 10:52:39  \n",
       "214057  2017-12-27 12:36:11  \n",
       "214559  2017-12-27 18:11:50  \n",
       "216307  2017-12-28 19:17:23  \n",
       "217798  2017-12-29 19:23:28  \n",
       "218027  2017-12-29 22:32:17  \n",
       "219284  2017-12-31 13:42:33  \n",
       "220630  2018-01-02 10:01:10  \n",
       "221210  2018-01-02 15:11:02  \n",
       "221216  2018-01-02 15:14:27  \n",
       "222468  2018-01-03 14:02:25  \n",
       "231934  2018-01-09 21:47:47  \n",
       "233400  2018-01-10 19:20:44  \n",
       "234637  2018-01-11 16:43:13  \n",
       "234895  2018-01-11 21:59:02  \n",
       "238104  2018-01-15 07:12:09  \n",
       "241643  2018-01-18 07:58:31  \n",
       "256607  2018-01-30 18:35:16  \n",
       "258180  2018-01-31 20:55:50  \n",
       "263790  2018-02-05 22:41:40  \n",
       "266635  2018-02-08 19:20:21  \n",
       "268446  2018-02-10 18:02:37  \n",
       "279801  2018-02-26 20:51:30  "
      ]
     },
     "execution_count": 5,
     "metadata": {},
     "output_type": "execute_result"
    }
   ],
   "source": [
    "orderlines[orderlines[\"sku\"] == \"JBL0104\"]"
   ]
  },
  {
   "cell_type": "code",
   "execution_count": 6,
   "id": "010bdbe5-01b3-4cae-8a9c-9bc3ddd2624e",
   "metadata": {},
   "outputs": [
    {
     "data": {
      "text/plain": [
       "7"
      ]
     },
     "execution_count": 6,
     "metadata": {},
     "output_type": "execute_result"
    }
   ],
   "source": [
    "orderlines[orderlines.sku == \"JBL0104\"][\"unit_price\"].nunique()"
   ]
  },
  {
   "cell_type": "code",
   "execution_count": 7,
   "id": "8f8c6a77-25b0-4e1a-9039-022d66314795",
   "metadata": {},
   "outputs": [
    {
     "data": {
      "text/plain": [
       "7"
      ]
     },
     "execution_count": 7,
     "metadata": {},
     "output_type": "execute_result"
    }
   ],
   "source": [
    "orderlines[orderlines.sku == \"JBL0104\"].unit_price.nunique()"
   ]
  },
  {
   "cell_type": "code",
   "execution_count": 8,
   "id": "Z6OcFknu3G1R",
   "metadata": {
    "id": "Z6OcFknu3G1R"
   },
   "outputs": [
    {
     "data": {
      "text/plain": [
       "7"
      ]
     },
     "execution_count": 8,
     "metadata": {},
     "output_type": "execute_result"
    }
   ],
   "source": [
    "orderlines.query(\"sku == 'JBL0104'\").unit_price.nunique()"
   ]
  },
  {
   "cell_type": "markdown",
   "id": "r9OJ3Q8e3G1R",
   "metadata": {
    "id": "r9OJ3Q8e3G1R"
   },
   "source": [
    "2. List the (unique) items that were sold in the order with the id_order 385921."
   ]
  },
  {
   "cell_type": "code",
   "execution_count": 15,
   "id": "rfT_ISPZ3G1R",
   "metadata": {
    "id": "rfT_ISPZ3G1R"
   },
   "outputs": [
    {
     "data": {
      "text/plain": [
       "array(['APP2431', 'APP2348', 'APP2131', 'APP1630', 'APP1735', 'APP1216',\n",
       "       'APP2092', 'APP1215', 'ELA0017', 'MIN0010', 'ELA0039', 'BEA0046',\n",
       "       'BOS0034', 'BEA0071', 'ELA0029', 'APP2161', 'HOC0008', 'NOM0026',\n",
       "       'NOM0014'], dtype=object)"
      ]
     },
     "execution_count": 15,
     "metadata": {},
     "output_type": "execute_result"
    }
   ],
   "source": [
    "orderlines[orderlines.id_order == 385921].sku.unique()"
   ]
  },
  {
   "cell_type": "code",
   "execution_count": 17,
   "id": "0951ed69-a9c0-4ac3-a87d-1b6ceb177f45",
   "metadata": {},
   "outputs": [
    {
     "data": {
      "text/plain": [
       "['APP2431',\n",
       " 'APP2348',\n",
       " 'APP2131',\n",
       " 'APP1630',\n",
       " 'APP1735',\n",
       " 'APP1216',\n",
       " 'APP2092',\n",
       " 'APP1215',\n",
       " 'ELA0017',\n",
       " 'MIN0010',\n",
       " 'ELA0039',\n",
       " 'BEA0046',\n",
       " 'BOS0034',\n",
       " 'BEA0071',\n",
       " 'ELA0029',\n",
       " 'APP2161',\n",
       " 'HOC0008',\n",
       " 'NOM0026',\n",
       " 'NOM0014']"
      ]
     },
     "execution_count": 17,
     "metadata": {},
     "output_type": "execute_result"
    }
   ],
   "source": [
    "orderlines.query(\"id_order == 385921\").sku.unique().tolist()"
   ]
  },
  {
   "cell_type": "markdown",
   "id": "Hndvnnuy3G1R",
   "metadata": {
    "id": "Hndvnnuy3G1R"
   },
   "source": [
    "3. Consider the products with the sku's APP2431 and APP2348. Find out in how many orders were they present."
   ]
  },
  {
   "cell_type": "code",
   "execution_count": 203,
   "id": "tQB2HCG33G1R",
   "metadata": {
    "id": "tQB2HCG33G1R"
   },
   "outputs": [
    {
     "data": {
      "text/plain": [
       "189"
      ]
     },
     "execution_count": 203,
     "metadata": {},
     "output_type": "execute_result"
    }
   ],
   "source": [
    "orderlines[(orderlines.sku == \"APP2431\") | (orderlines.sku == \"APP2348\")].id_order.count()"
   ]
  },
  {
   "cell_type": "code",
   "execution_count": 205,
   "id": "db5bf52b-f44c-4096-9e16-41e4b24f6ea9",
   "metadata": {},
   "outputs": [],
   "source": [
    "set1 = set(orderlines[\"id_order\"][orderlines.sku == \"APP2431\"])"
   ]
  },
  {
   "cell_type": "code",
   "execution_count": 206,
   "id": "ed79e2cf-6ef9-48c7-bf28-0c1939784074",
   "metadata": {},
   "outputs": [],
   "source": [
    "set2 = set(orderlines[\"id_order\"][orderlines.sku == \"APP2348\"])"
   ]
  },
  {
   "cell_type": "code",
   "execution_count": 198,
   "id": "87e5a3e3-275a-4d17-863b-05d6e379108e",
   "metadata": {},
   "outputs": [
    {
     "data": {
      "text/plain": [
       "10"
      ]
     },
     "execution_count": 198,
     "metadata": {},
     "output_type": "execute_result"
    }
   ],
   "source": [
    "len(set1.intersection(set2))"
   ]
  },
  {
   "cell_type": "code",
   "execution_count": 18,
   "id": "17a5534b-9315-45f4-ae2d-14b6e15c50aa",
   "metadata": {},
   "outputs": [
    {
     "data": {
      "text/plain": [
       "179"
      ]
     },
     "execution_count": 18,
     "metadata": {},
     "output_type": "execute_result"
    }
   ],
   "source": [
    "orderlines[orderlines[\"sku\"].isin([\"APP2431\", \"APP2348\"])].id_order.nunique()"
   ]
  },
  {
   "cell_type": "code",
   "execution_count": 19,
   "id": "88390cb6-3d10-4c35-a1bb-f55c528f787e",
   "metadata": {},
   "outputs": [
    {
     "data": {
      "text/plain": [
       "179"
      ]
     },
     "execution_count": 19,
     "metadata": {},
     "output_type": "execute_result"
    }
   ],
   "source": [
    "orderlines[orderlines.sku.isin([\"APP2431\", \"APP2348\"])].id_order.nunique()"
   ]
  },
  {
   "cell_type": "markdown",
   "id": "evf52afz3G1S",
   "metadata": {
    "id": "evf52afz3G1S"
   },
   "source": [
    "4. Create a new dataframe, `df_50`, with all the rows that have a product quantity higher than 500 and only the columns `id`, id `order`, `product_quantity` and `sku`. Be sure to use the method `.copy()`. Once the new dataframe is created, modify the column 'product_quantity' to 'quantity', and 'sku' to 'product_code'. To do so, you can use the method `.rename()` or assign a list of new names to the attribute `.columns`."
   ]
  },
  {
   "cell_type": "code",
   "execution_count": 215,
   "id": "Jcz9Us733G1S",
   "metadata": {
    "id": "Jcz9Us733G1S"
   },
   "outputs": [
    {
     "data": {
      "text/html": [
       "<div>\n",
       "<style scoped>\n",
       "    .dataframe tbody tr th:only-of-type {\n",
       "        vertical-align: middle;\n",
       "    }\n",
       "\n",
       "    .dataframe tbody tr th {\n",
       "        vertical-align: top;\n",
       "    }\n",
       "\n",
       "    .dataframe thead th {\n",
       "        text-align: right;\n",
       "    }\n",
       "</style>\n",
       "<table border=\"1\" class=\"dataframe\">\n",
       "  <thead>\n",
       "    <tr style=\"text-align: right;\">\n",
       "      <th></th>\n",
       "      <th>id</th>\n",
       "      <th>id_order</th>\n",
       "      <th>quantity</th>\n",
       "      <th>product_code</th>\n",
       "    </tr>\n",
       "  </thead>\n",
       "  <tbody>\n",
       "    <tr>\n",
       "      <th>53860</th>\n",
       "      <td>1228150</td>\n",
       "      <td>346221</td>\n",
       "      <td>999</td>\n",
       "      <td>APP1190</td>\n",
       "    </tr>\n",
       "    <tr>\n",
       "      <th>57306</th>\n",
       "      <td>1234111</td>\n",
       "      <td>349133</td>\n",
       "      <td>555</td>\n",
       "      <td>APP0665</td>\n",
       "    </tr>\n",
       "    <tr>\n",
       "      <th>57796</th>\n",
       "      <td>1234924</td>\n",
       "      <td>349475</td>\n",
       "      <td>800</td>\n",
       "      <td>KIN0137</td>\n",
       "    </tr>\n",
       "    <tr>\n",
       "      <th>68712</th>\n",
       "      <td>1254032</td>\n",
       "      <td>358747</td>\n",
       "      <td>999</td>\n",
       "      <td>SEV0028</td>\n",
       "    </tr>\n",
       "  </tbody>\n",
       "</table>\n",
       "</div>"
      ],
      "text/plain": [
       "            id  id_order  quantity product_code\n",
       "53860  1228150    346221       999      APP1190\n",
       "57306  1234111    349133       555      APP0665\n",
       "57796  1234924    349475       800      KIN0137\n",
       "68712  1254032    358747       999      SEV0028"
      ]
     },
     "execution_count": 215,
     "metadata": {},
     "output_type": "execute_result"
    }
   ],
   "source": [
    "df_50 = orderlines[[\"id\", \"id_order\", \"product_quantity\", \"sku\"]][orderlines.product_quantity > 500].copy()\n",
    "df_50.columns = [\"id\", \"id_order\", \"quantity\", \"product_code\"]\n",
    "df_50"
   ]
  },
  {
   "cell_type": "markdown",
   "id": "M25lzAfL3G1S",
   "metadata": {
    "id": "M25lzAfL3G1S"
   },
   "source": [
    "5. Filter all the order lines where the product with the sku XDO0047 has appeared. Sort the rows by their product quantity using the [`.sort_values()`](https://pandas.pydata.org/docs/reference/api/pandas.DataFrame.sort_values.html) method from pandas, in a DESCENDING order. Then look at the main descriptive information of this results with the method `.describe()`."
   ]
  },
  {
   "cell_type": "code",
   "execution_count": 20,
   "id": "lG1DK56R3G1S",
   "metadata": {
    "id": "lG1DK56R3G1S",
    "tags": []
   },
   "outputs": [
    {
     "data": {
      "text/plain": [
       "count     36.000000\n",
       "mean       4.472222\n",
       "std       20.662576\n",
       "min        1.000000\n",
       "25%        1.000000\n",
       "50%        1.000000\n",
       "75%        1.000000\n",
       "max      125.000000\n",
       "Name: product_quantity, dtype: float64"
      ]
     },
     "execution_count": 20,
     "metadata": {},
     "output_type": "execute_result"
    }
   ],
   "source": [
    "orderlines[orderlines.sku == \"XDO0047\"].product_quantity.sort_values(ascending = False).describe()"
   ]
  },
  {
   "cell_type": "code",
   "execution_count": 22,
   "id": "d45224b8-69a4-4bdc-8485-1e67995eec2c",
   "metadata": {},
   "outputs": [
    {
     "data": {
      "text/html": [
       "<div>\n",
       "<style scoped>\n",
       "    .dataframe tbody tr th:only-of-type {\n",
       "        vertical-align: middle;\n",
       "    }\n",
       "\n",
       "    .dataframe tbody tr th {\n",
       "        vertical-align: top;\n",
       "    }\n",
       "\n",
       "    .dataframe thead th {\n",
       "        text-align: right;\n",
       "    }\n",
       "</style>\n",
       "<table border=\"1\" class=\"dataframe\">\n",
       "  <thead>\n",
       "    <tr style=\"text-align: right;\">\n",
       "      <th></th>\n",
       "      <th>id</th>\n",
       "      <th>id_order</th>\n",
       "      <th>product_id</th>\n",
       "      <th>product_quantity</th>\n",
       "    </tr>\n",
       "  </thead>\n",
       "  <tbody>\n",
       "    <tr>\n",
       "      <th>count</th>\n",
       "      <td>3.600000e+01</td>\n",
       "      <td>36.000000</td>\n",
       "      <td>36.0</td>\n",
       "      <td>36.000000</td>\n",
       "    </tr>\n",
       "    <tr>\n",
       "      <th>mean</th>\n",
       "      <td>1.485767e+06</td>\n",
       "      <td>458640.277778</td>\n",
       "      <td>0.0</td>\n",
       "      <td>4.472222</td>\n",
       "    </tr>\n",
       "    <tr>\n",
       "      <th>std</th>\n",
       "      <td>8.770532e+04</td>\n",
       "      <td>36891.598431</td>\n",
       "      <td>0.0</td>\n",
       "      <td>20.662576</td>\n",
       "    </tr>\n",
       "    <tr>\n",
       "      <th>min</th>\n",
       "      <td>1.365515e+06</td>\n",
       "      <td>406387.000000</td>\n",
       "      <td>0.0</td>\n",
       "      <td>1.000000</td>\n",
       "    </tr>\n",
       "    <tr>\n",
       "      <th>25%</th>\n",
       "      <td>1.405830e+06</td>\n",
       "      <td>425462.750000</td>\n",
       "      <td>0.0</td>\n",
       "      <td>1.000000</td>\n",
       "    </tr>\n",
       "    <tr>\n",
       "      <th>50%</th>\n",
       "      <td>1.471428e+06</td>\n",
       "      <td>453247.000000</td>\n",
       "      <td>0.0</td>\n",
       "      <td>1.000000</td>\n",
       "    </tr>\n",
       "    <tr>\n",
       "      <th>75%</th>\n",
       "      <td>1.564540e+06</td>\n",
       "      <td>492406.000000</td>\n",
       "      <td>0.0</td>\n",
       "      <td>1.000000</td>\n",
       "    </tr>\n",
       "    <tr>\n",
       "      <th>max</th>\n",
       "      <td>1.640821e+06</td>\n",
       "      <td>523533.000000</td>\n",
       "      <td>0.0</td>\n",
       "      <td>125.000000</td>\n",
       "    </tr>\n",
       "  </tbody>\n",
       "</table>\n",
       "</div>"
      ],
      "text/plain": [
       "                 id       id_order  product_id  product_quantity\n",
       "count  3.600000e+01      36.000000        36.0         36.000000\n",
       "mean   1.485767e+06  458640.277778         0.0          4.472222\n",
       "std    8.770532e+04   36891.598431         0.0         20.662576\n",
       "min    1.365515e+06  406387.000000         0.0          1.000000\n",
       "25%    1.405830e+06  425462.750000         0.0          1.000000\n",
       "50%    1.471428e+06  453247.000000         0.0          1.000000\n",
       "75%    1.564540e+06  492406.000000         0.0          1.000000\n",
       "max    1.640821e+06  523533.000000         0.0        125.000000"
      ]
     },
     "execution_count": 22,
     "metadata": {},
     "output_type": "execute_result"
    }
   ],
   "source": [
    "orderlines[orderlines.sku == \"XDO0047\"].sort_values(\"product_quantity\", ascending = False).describe()"
   ]
  }
 ],
 "metadata": {
  "colab": {
   "collapsed_sections": [
    "HWSKDRiF3G1I",
    "MFV6C4zW3G1L",
    "mCG96SJS3G1M",
    "t6ff3smA3G1M",
    "nUTQs-aM3G1O",
    "v6D7KaoD3G1P"
   ],
   "name": "Copy of 1-data-exploration.ipynb",
   "provenance": []
  },
  "kernelspec": {
   "display_name": "Python 3 (ipykernel)",
   "language": "python",
   "name": "python3"
  },
  "language_info": {
   "codemirror_mode": {
    "name": "ipython",
    "version": 3
   },
   "file_extension": ".py",
   "mimetype": "text/x-python",
   "name": "python",
   "nbconvert_exporter": "python",
   "pygments_lexer": "ipython3",
   "version": "3.9.7"
  }
 },
 "nbformat": 4,
 "nbformat_minor": 5
}